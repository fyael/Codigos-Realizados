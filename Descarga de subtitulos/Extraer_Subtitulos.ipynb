{
 "cells": [
  {
   "cell_type": "code",
   "execution_count": 2,
   "id": "deac5b27-3957-4bdc-8ae8-28f51a2a95e5",
   "metadata": {
    "tags": []
   },
   "outputs": [],
   "source": [
    "import requests\n",
    "from bs4 import BeautifulSoup\n",
    "import re\n",
    "import zipfile\n",
    "import glob\n",
    "import os\n",
    "import io\n",
    "import time\n",
    "import os.path\n",
    "import os\n",
    "import random\n"
   ]
  },
  {
   "cell_type": "markdown",
   "id": "0d327f05-f898-4589-904a-fc4c32af74e6",
   "metadata": {
    "tags": []
   },
   "source": [
    "# opensubtitles.org"
   ]
  },
  {
   "cell_type": "markdown",
   "id": "efc33e9e-e65b-4025-98f3-a6655e86d734",
   "metadata": {
    "tags": []
   },
   "source": [
    "## Extraer contenido completo de la pagina"
   ]
  },
  {
   "cell_type": "code",
   "execution_count": null,
   "id": "f6c4df62-da21-4816-bbc5-8357a31ce871",
   "metadata": {},
   "outputs": [],
   "source": [
    "#https://www.opensubtitles.org/es/search/sublanguageid-spa/offset-40"
   ]
  },
  {
   "cell_type": "code",
   "execution_count": 40,
   "id": "96c5512d-514f-4c90-9f81-38f5815f7aa0",
   "metadata": {
    "tags": []
   },
   "outputs": [],
   "source": [
    "page1 = requests.get(\"https://www.opensubtitles.org/es/search/sublanguageid-spa\")\n",
    "\n",
    "\n",
    "with open('./Pagina1.txt', 'w',encoding='utf-8') as file1:\n",
    "    file1.write(page1.text)"
   ]
  },
  {
   "cell_type": "code",
   "execution_count": 15,
   "id": "7423dbec-fb09-4bf7-a215-9b7c9e5a362e",
   "metadata": {
    "tags": []
   },
   "outputs": [],
   "source": [
    "for n_page_open in range(20, 405988, 20):\n",
    "    page_20 = requests.get(\"https://www.opensubtitles.org/es/search/sublanguageid-spa/offset-{n_page_open}\")\n",
    "    with open(f'./Open_Subtitles/Pagina_{n_page_open}.txt', 'w',encoding='utf-8') as file1:\n",
    "        file1.write(page_20.text)\n"
   ]
  },
  {
   "cell_type": "code",
   "execution_count": null,
   "id": "735d33ce-9741-4cb3-9af5-3e1124c79aaf",
   "metadata": {},
   "outputs": [],
   "source": [
    "lista_url_full_titles=[]\n",
    "lista_id_all =[]\n",
    "for n_page_open in range(40, 406008, 40):\n",
    "    url_titles_id_name =[]\n",
    "    \n",
    "    page_content_raw = ''\n",
    "    page_content_raw = requests.get(f\"https://www.opensubtitles.org/es/search/sublanguageid-spa/offset-{n_page_open}\")\n",
    "    #print(f\"https://www.opensubtitles.org/es/search/sublanguageid-spa/offset-{n_page_open}\")\n",
    "    \n",
    "    url_titles_id_name = re.findall(r'href=\"/es/subtitles/[0-9]{1,20}', page_content_raw.text)\n",
    "    #print(len(set(url_titles_id_name)))\n",
    "    \n",
    "    \n",
    "    \n",
    "    #lista_id_all.extend(url_titles_id_name)\n",
    "    \n",
    "    with open(f'./Open_Subtitles/Pagina_{n_page_open}.txt','w', encoding='utf-8') as file_page_id:\n",
    "        file_page_id.write(\" ' \".join(url_titles_id_name))\n",
    "    "
   ]
  },
  {
   "cell_type": "code",
   "execution_count": null,
   "id": "b8af26f5-02e1-47c4-9ea2-9be883464ca1",
   "metadata": {},
   "outputs": [],
   "source": []
  },
  {
   "cell_type": "markdown",
   "id": "615fb218-21f1-4913-a9d6-bbf2b81666b9",
   "metadata": {
    "tags": []
   },
   "source": [
    "## Extraer los id de los titulos usando regex y Crear la URL de descarga usando el id"
   ]
  },
  {
   "cell_type": "code",
   "execution_count": 2,
   "id": "19141f96-a135-4f82-b9ad-71f426c22d4f",
   "metadata": {
    "tags": []
   },
   "outputs": [],
   "source": [
    "lista_id_titulos = []\n",
    "lista_url_full_titles= []\n",
    "url_titles_id_name=''\n",
    "\n",
    "\n",
    "for pages_20 in glob.glob('./Open_Subtitles/*'):\n",
    "    with open(pages_20, 'r', encoding='utf-8') as file_full:\n",
    "        text_raw = file_full.read()\n",
    "\n",
    "        url_titles_id_name = re.findall(r'href=\"/es/subtitles/[0-9]{1,20}', text_raw)\n",
    "\n",
    "        #print(url_titles_id_name)\n",
    "        \n",
    "        \n",
    "        lista_id_titulos.extend(url_titles_id_name)\n",
    "        #print(titles)\n",
    "\n",
    "\n",
    "        ## href=\"/es/subtitles/12794379/dreamboat-es\">\n",
    "        #https://www.opensubtitles.org\n",
    "        \n",
    "for titles_n in lista_id_titulos:\n",
    "\n",
    "    titles_n = re.sub(r'href=\"','', titles_n)\n",
    "    titles_n = re.sub('/es/subtitles/','', titles_n)\n",
    "\n",
    "    #print('https://www.opensubtitles.org'+titles_n)\n",
    "    lista_url_full_titles.append('https://dl.opensubtitles.org/es/download/sub/'+titles_n)\n",
    "#print(lista_url_full_titles)"
   ]
  },
  {
   "cell_type": "code",
   "execution_count": 5,
   "id": "7b147d64-6571-4f5e-8a0d-71b0f39b70b8",
   "metadata": {
    "tags": []
   },
   "outputs": [
    {
     "name": "stdout",
     "output_type": "stream",
     "text": [
      "['https://dl.opensubtitles.org/es/download/sub/12793474', 'https://dl.opensubtitles.org/es/download/sub/12793473', 'https://dl.opensubtitles.org/es/download/sub/12793472', 'https://dl.opensubtitles.org/es/download/sub/12793471', 'https://dl.opensubtitles.org/es/download/sub/12793470', 'https://dl.opensubtitles.org/es/download/sub/12793469', 'https://dl.opensubtitles.org/es/download/sub/12793468', 'https://dl.opensubtitles.org/es/download/sub/12793467', 'https://dl.opensubtitles.org/es/download/sub/12793466', 'https://dl.opensubtitles.org/es/download/sub/12793465']\n"
     ]
    }
   ],
   "source": [
    "print(lista_url_full_titles[0:10])"
   ]
  },
  {
   "cell_type": "markdown",
   "id": "4bd9a1b6-6db7-4374-a83a-28a19d6c9fab",
   "metadata": {
    "tags": []
   },
   "source": [
    "## Descargar contenido del zip"
   ]
  },
  {
   "cell_type": "code",
   "execution_count": null,
   "id": "799bf659-2e0d-49f7-b5bd-24a0e81ebc2c",
   "metadata": {
    "tags": []
   },
   "outputs": [],
   "source": []
  },
  {
   "cell_type": "code",
   "execution_count": 6,
   "id": "5ffae6fa-a602-4d18-9150-559b2fd29953",
   "metadata": {
    "tags": []
   },
   "outputs": [],
   "source": [
    "lista_url_full_titles = list(set(lista_url_full_titles))"
   ]
  },
  {
   "cell_type": "code",
   "execution_count": 7,
   "id": "5ad7f4ce-c0f1-478b-8b82-7022957bcd67",
   "metadata": {
    "tags": []
   },
   "outputs": [
    {
     "data": {
      "text/plain": [
       "960"
      ]
     },
     "execution_count": 7,
     "metadata": {},
     "output_type": "execute_result"
    }
   ],
   "source": [
    "len(lista_url_full_titles)\n",
    "        "
   ]
  },
  {
   "cell_type": "code",
   "execution_count": 7,
   "id": "6d2bd414-3c27-4fe5-bae9-ca3b51e4d9ed",
   "metadata": {
    "tags": []
   },
   "outputs": [
    {
     "data": {
      "text/plain": [
       "'https://dl.opensubtitles.org/es/download/sub/12799703'"
      ]
     },
     "execution_count": 7,
     "metadata": {},
     "output_type": "execute_result"
    }
   ],
   "source": [
    "lista_url_full_titles[5]"
   ]
  },
  {
   "cell_type": "code",
   "execution_count": null,
   "id": "4938c023-1f5c-4985-b9c3-ef828fcf54e6",
   "metadata": {},
   "outputs": [],
   "source": []
  },
  {
   "cell_type": "code",
   "execution_count": 3,
   "id": "ece748a9-eb25-4f41-9021-6a59bcd15c98",
   "metadata": {
    "tags": []
   },
   "outputs": [],
   "source": [
    "#'https://www.opensubtitles.org/es/subtitleserve/sub/12794598'\n",
    "\n",
    "for i_title in lista_url_full_titles:\n",
    "    id_title = re.sub('https://dl.opensubtitles.org/es/download/sub/', '', i_title)\n",
    "    file_exist = os.path.exists(f'./Zip_Files/{id_title}.zip')\n",
    "    \n",
    "    if not file_exist:\n",
    "        page_subt = requests.get(i_title)\n",
    "\n",
    "        with open(f'./Zip_Files/{id_title}.zip', 'wb') as file_zip:\n",
    "            file_zip.write(page_subt.content)"
   ]
  },
  {
   "cell_type": "code",
   "execution_count": 8,
   "id": "a3e81098-9765-4c49-9e10-4ba59831af94",
   "metadata": {
    "tags": []
   },
   "outputs": [],
   "source": [
    "#page_subt.raise_for_status()"
   ]
  },
  {
   "cell_type": "code",
   "execution_count": null,
   "id": "40172bae-f65a-4f71-a064-6e87a32eb803",
   "metadata": {},
   "outputs": [],
   "source": []
  },
  {
   "cell_type": "code",
   "execution_count": null,
   "id": "abc5682d",
   "metadata": {},
   "outputs": [],
   "source": []
  },
  {
   "cell_type": "code",
   "execution_count": null,
   "id": "687c57eb",
   "metadata": {},
   "outputs": [],
   "source": []
  },
  {
   "cell_type": "markdown",
   "id": "71185375-be59-438e-bf5b-f284c97c794c",
   "metadata": {},
   "source": [
    "## Extraer los subtitulos del zip"
   ]
  },
  {
   "cell_type": "code",
   "execution_count": 16,
   "id": "2cca7630-90e0-4dff-9506-2ec4365503a7",
   "metadata": {
    "collapsed": true,
    "jupyter": {
     "outputs_hidden": true
    },
    "tags": []
   },
   "outputs": [
    {
     "name": "stdout",
     "output_type": "stream",
     "text": [
      "El archivo no tiene:  ./Zip_Files\\12796739.zip\n",
      "El archivo no tiene:  ./Zip_Files\\12796882.zip\n",
      "El archivo no tiene:  ./Zip_Files\\12796884.zip\n",
      "El archivo no tiene:  ./Zip_Files\\12798969.zip\n",
      "El archivo no tiene:  ./Zip_Files\\12802995.zip\n",
      "El archivo no tiene:  ./Zip_Files\\12802999.zip\n",
      "El archivo no tiene:  ./Zip_Files\\12803001.zip\n",
      "El archivo no tiene:  ./Zip_Files\\12803002.zip\n",
      "El archivo no tiene:  ./Zip_Files\\12803003.zip\n",
      "El archivo no tiene:  ./Zip_Files\\12803004.zip\n",
      "El archivo no tiene:  ./Zip_Files\\12803005.zip\n",
      "El archivo no tiene:  ./Zip_Files\\12803006.zip\n",
      "El archivo no tiene:  ./Zip_Files\\12803007.zip\n",
      "El archivo no tiene:  ./Zip_Files\\12803009.zip\n",
      "El archivo no tiene:  ./Zip_Files\\12803010.zip\n",
      "El archivo no tiene:  ./Zip_Files\\12803011.zip\n",
      "El archivo no tiene:  ./Zip_Files\\12804921.zip\n"
     ]
    }
   ],
   "source": [
    "for zip_path in glob.glob('./Zip_Files/*'):\n",
    "    with zipfile.ZipFile(zip_path, 'r') as zip_file:\n",
    "\n",
    "        for files_zip in zip_file.namelist():\n",
    "            if re.match(r'.*?.srt', files_zip):\n",
    "                #print(file_srt)\n",
    "                zip_file.extract(files_zip, './srt_subtitles_raw/')\n",
    "            elif re.match(r'.*?.nfo', files_zip):\n",
    "                zip_file.extract(files_zip, './info_file_raw/')\n",
    "\n",
    "            else:\n",
    "                print('El archivo no tiene: ', zip_path)"
   ]
  },
  {
   "cell_type": "code",
   "execution_count": null,
   "id": "a33930b2-fa70-48af-bb6a-404edd2e7d70",
   "metadata": {},
   "outputs": [],
   "source": [
    "            '''\n",
    "            elif re.match(r'.*?.ass', files_zip):\n",
    "                #print(file_srt)\n",
    "                zip_file.extract(files_zip, './srt_subtitles_raw/')\n",
    "            elif re.match(r'.*?.ASS', files_zip):\n",
    "                #print(file_srt)\n",
    "                zip_file.extract(files_zip, './srt_subtitles_raw/')\n",
    "            '''"
   ]
  },
  {
   "cell_type": "markdown",
   "id": "86b88303-62d1-4e89-8025-cbf93373bdc5",
   "metadata": {},
   "source": [
    "## Limpiar los srt"
   ]
  },
  {
   "cell_type": "code",
   "execution_count": null,
   "id": "3346d539-53e5-42a5-9b5d-123604511d71",
   "metadata": {},
   "outputs": [],
   "source": []
  },
  {
   "cell_type": "code",
   "execution_count": null,
   "id": "d2812883-4e12-4d76-ae5a-899f2b6478ed",
   "metadata": {},
   "outputs": [],
   "source": []
  },
  {
   "cell_type": "code",
   "execution_count": 4,
   "id": "b8027e65",
   "metadata": {
    "tags": []
   },
   "outputs": [
    {
     "name": "stdout",
     "output_type": "stream",
     "text": [
      "error urls ./srt_subtitles_raw\\Delicious.in.Dungeon.S01E01. Tragones.y.mazmorras.espa├▒ol.srt \n",
      "******* []\n",
      "error urls ./srt_subtitles_raw\\Pursuit.of.Happiness.1940.1080p.BluRay.x264-BiPOLAR.srt \n",
      "******* []\n",
      "error urls ./srt_subtitles_raw\\The.Charlie.Puth.Show.S01E02.Lonely.Fans.1080p.ROKU.WEB-DL.DD5.1.H.264-FLUX--Spanish.srt \n",
      "******* []\n",
      "error urls ./srt_subtitles_raw\\Velma.S02E01.es.srt \n",
      "******* []\n",
      "error urls ./srt_subtitles_raw\\Velma.S02E06.es.srt \n",
      "******* []\n",
      "error urls ./srt_subtitles_raw\\Velma.S02E07.es.srt \n",
      "******* []\n",
      "error urls ./srt_subtitles_raw\\Velma.S02E08.es.srt \n",
      "******* []\n",
      "error urls ./srt_subtitles_raw\\Velma.S02E10.es.srt \n",
      "******* []\n"
     ]
    }
   ],
   "source": [
    "\n",
    "\n",
    "for srt_file_path in glob.glob('./srt_subtitles_raw/*'):\n",
    "    with open(srt_file_path, 'r', encoding='latin-1') as file_srt:\n",
    "        file_srt = file_srt.read()\n",
    "        file_srt = re.sub(r'[^\\x00-\\x7F]+', '', file_srt)\n",
    "        text_with_out_minutes=''\n",
    "        minutes=''\n",
    "\n",
    "        #print(srt_file_path)\n",
    "        #minutes = re.match( r'[0-9]{1,10}\\n[0-9]{1,2}:[0-9]{1,2}:[0-9]{1,2},[0-9]{1,10} --> [0-9]{1,2}:[0-9]{1,2}:[0-9]{1,2},[0-9]{1,10}', file_srt)\n",
    "        \n",
    "        #if minutes:\n",
    "\n",
    "        text_with_out_minutes = re.sub(r'[0-9]{1,10}\\n[0-9]{1,2}:[0-9]{1,2}:[0-9]{1,2},[0-9]{1,10} --> [0-9]{1,2}:[0-9]{1,2}:[0-9]{1,2},[0-9]{1,10}', '', file_srt)\n",
    "        \n",
    "        text_with_out_minutes = re.sub(r\"<[^>]*>\", '', text_with_out_minutes)\n",
    "        text_with_out_minutes = re.sub(r\"{\\\\an8}\", '', text_with_out_minutes)\n",
    "        text_with_out_minutes = re.sub(r'Subtítulos de \"noesasuntotuyo\"', '', text_with_out_minutes)\n",
    "        text_with_out_minutes = re.sub(r'DELICIOSO EN EL CALABOZO Subttulos de \"noesasuntotuyo\"', '', text_with_out_minutes)\n",
    "        text_with_out_minutes = re.sub(r'Traduccin de subttulos:\\nVernica Ferreyra', '', text_with_out_minutes)\n",
    "        text_with_out_minutes = re.sub(r'Subttulos de \"noesasuntotuyo\"', '', text_with_out_minutes)\n",
    "        \n",
    "        \n",
    "        \n",
    "        \n",
    "        \n",
    "        '''\n",
    "        urls = re.search(r'(.org|.com|/ext|/lm)', text_with_out_minutes)\n",
    "        '''\n",
    "        \n",
    "        #print(urls)\n",
    "        #agregar\n",
    "        \n",
    "        \n",
    "        #findall\n",
    "        #urls = re.findall(r'(\\.org|\\.com|/ext|/lm)', text_with_out_minutes)\n",
    "        urls = re.findall(r'\\b(\\.org|\\.com|\\.es|/ext|/lm)\\b', text_with_out_minutes)\n",
    "        #print('*'*40)\n",
    "        if urls:\n",
    "            for n_urls in urls:\n",
    "                #print(i)\n",
    "                contador_salto_linea = 0\n",
    "\n",
    "\n",
    "                if n_urls:\n",
    "                    #find_urls = re.search(r'\\b' + re.escape(n_urls) + r'\\b', text_with_out_minutes)\n",
    "                    find_urls = re.search(re.escape(n_urls), text_with_out_minutes)\n",
    "                    \n",
    "                    \n",
    "                    #print(n_urls)\n",
    "                    #rint(find_urls)\n",
    "                    \n",
    "                    if find_urls:\n",
    "                        url_start = find_urls.start()\n",
    "\n",
    "                        salto_linea=text_with_out_minutes[url_start-1]\n",
    "\n",
    "                        #print(text_with_out_minutes[url_start:70])\n",
    "\n",
    "\n",
    "                        #salto_linea_2 = ''\n",
    "                        while salto_linea != '\\n' and url_start - contador_salto_linea > 0:\n",
    "\n",
    "                            contador_salto_linea+=1\n",
    "\n",
    "                            salto_linea = text_with_out_minutes[url_start-contador_salto_linea]\n",
    "                            #salto_linea_2 = salto_linea\n",
    "                            #print(contador_salto_linea)\n",
    "\n",
    "                            \n",
    "                        salto_linea_2 = ''\n",
    "                        while salto_linea_2 != '\\n' and url_start - contador_salto_linea > 0:\n",
    "                            contador_salto_linea += 1\n",
    "                            salto_linea = text_with_out_minutes[url_start - contador_salto_linea]\n",
    "                            salto_linea_2 = salto_linea\n",
    "\n",
    "                            #print(contador_salto_linea, salto_linea)\n",
    "                        txt_without_add = text_with_out_minutes.replace(text_with_out_minutes[url_start-contador_salto_linea:find_urls.end()], '')\n",
    "                        \n",
    "                        \n",
    "                        #len_txt = len(txt_without_add)\n",
    "\n",
    "\n",
    "                        #txt_without_add = txt_without_add[:len_txt-100]\n",
    "\n",
    "                        #print(txt_without_add)\n",
    "                        \n",
    "\n",
    "                        \n",
    "                    text_with_out_minutes = txt_without_add\n",
    "                else:\n",
    "                    \n",
    "                    print('error n_urls',srt_file_path,'\\n*******', n_urls)\n",
    "                    #text_without_adds = re.sub()\n",
    "\n",
    "\n",
    "\n",
    "                name_to_txt = re.sub(r'./srt_subtitles_raw\\\\', '', srt_file_path)\n",
    "                name_to_txt = re.sub(r'.srt', '.txt', name_to_txt)\n",
    "\n",
    "                    #print(txt_without_add)\n",
    "\n",
    "\n",
    "\n",
    "                with open(f'./srt_clean/{name_to_txt}', 'w', encoding='latin-1') as file_clean:\n",
    "                    file_clean.write(text_with_out_minutes)\n",
    "            \n",
    "        else:\n",
    "            print('error urls',srt_file_path,'\\n*******', urls)\n",
    "\n",
    "            \n",
    "            name_to_txt = re.sub(r'./srt_subtitles_raw\\\\', '', srt_file_path)\n",
    "            name_to_txt = re.sub(r'.srt', '.txt', name_to_txt)\n",
    "\n",
    "            with open(f'./srt_clean/{name_to_txt}', 'w', encoding='latin-1') as file_clean:\n",
    "                    file_clean.write(text_with_out_minutes)\n",
    "            #print(text_with_out_minutes[:500])\n",
    "            \n",
    "\n",
    "    #print(type(minutes))"
   ]
  },
  {
   "cell_type": "code",
   "execution_count": null,
   "id": "d089cd6d-74b2-456d-9e25-982a0bb68e37",
   "metadata": {},
   "outputs": [],
   "source": []
  },
  {
   "cell_type": "code",
   "execution_count": 10,
   "id": "34ac94b2-7728-4c48-9da2-b1dbc31faa59",
   "metadata": {
    "tags": []
   },
   "outputs": [
    {
     "name": "stdout",
     "output_type": "stream",
     "text": [
      "['.com'] ./srt_clean\\(1930) Disraeli DVDRip.txt\n"
     ]
    }
   ],
   "source": [
    "for i in glob.glob('./srt_clean/*'):\n",
    "    #print()\n",
    "    with open(i, 'r', encoding='latin-1') as file_i:\n",
    "        file_i = file_i.read()\n",
    "        \n",
    "        url_s =  re.findall(r'\\b(\\.org|\\.com|\\.es|/ext|/lm)\\b', file_i)\n",
    "        if url_s:\n",
    "        \n",
    "            print(url_s, i)"
   ]
  },
  {
   "cell_type": "code",
   "execution_count": null,
   "id": "849bc8a4-467c-4037-9c74-e25a34944e57",
   "metadata": {},
   "outputs": [],
   "source": []
  },
  {
   "cell_type": "code",
   "execution_count": null,
   "id": "42690964-a790-4319-85c5-41311a7dcfb7",
   "metadata": {},
   "outputs": [],
   "source": []
  },
  {
   "cell_type": "markdown",
   "id": "83f8f9d4-1a50-4122-b38d-14014194c97c",
   "metadata": {},
   "source": [
    "## Partes extraidas"
   ]
  },
  {
   "cell_type": "code",
   "execution_count": null,
   "id": "dfd831d1-e035-417b-b783-198969ae9c79",
   "metadata": {},
   "outputs": [],
   "source": []
  },
  {
   "cell_type": "code",
   "execution_count": 5,
   "id": "14ea0de0-5cea-4b30-af12-a34875e7ccdf",
   "metadata": {},
   "outputs": [
    {
     "name": "stdout",
     "output_type": "stream",
     "text": [
      "Love.Death.and.Robots.S03E07.Masons.Rats.es -----> 484\n",
      "Love.Death.and.Robots.S03E09.Jibaro.es -----> 301\n",
      "zodiac-directors.cut-spa.forced -----> 477\n",
      "Junji Ito.Collection. S1E13. Ova parte 1.es -----> 480\n",
      "Love.Death.and.Robots.S03E04.Night.of.the.Mini.Dead.es -----> 295\n",
      "Love.Death.and.Robots.S03E05.Kill.Team.Kill.es -----> 294\n",
      "Sunrise A Song of Two Humans (1928) DVDRip -----> 263\n",
      "Party Central (2013) -----> 272\n",
      "Alien.Romulus.2024.DUAL-AUDiO.SPA-ENG.1080p.WEB-DL.DDP5.1.Atmos.H.264-DMnT-forced -----> 176\n",
      "[ESP] Sing Thriller 2024 -----> 246\n",
      "Pursuit.of.Happiness.1940.1080p.BluRay.x264-BiPOLAR -----> 53\n",
      "Numero de libros sin texto:  11\n",
      "Numero de libros con indice:  0\n",
      "./srt_clean\\Pursuit.of.Happiness.1940.1080p.BluRay.x264-BiPOLAR.txt\n"
     ]
    }
   ],
   "source": [
    "extra_text=[]\n",
    "extract_text=[]\n",
    "start_text = []\n",
    "list_charct = ['.', ',', ';', ':', '?', '!', \"'\", '\"','(', ')', '[', ']', '{', '}','—', '-', '_', '/', '\\\\', '*','+', '−', '=', '%', '&', '$', '#', '@', '~', '^', '<', '>', '|', '¨', '×', '÷', '√', '‹', '›']\n",
    "\n",
    "contador=0\n",
    "contador_indice = 0\n",
    "\n",
    "list_of_files = filter( os.path.isfile, glob.glob('./srt_clean/*') ) \n",
    "\n",
    "  \n",
    "# Sort list of files in directory by size  \n",
    "list_of_files = sorted( list_of_files, key =  lambda x: os.stat(x).st_size, reverse=True) \n",
    "  \n",
    "# Iterate over sorted list of file names \n",
    "# and print them along with size one by one  \n",
    "for path_of_file in list_of_files: \n",
    "    #print(path_of_file)   \n",
    "    file_b = ''\n",
    "    tt = []\n",
    "    \n",
    "    if extra_text:\n",
    "        del extra_text [:]\n",
    "        \n",
    "    if extract_text:\n",
    "        del extract_text [:]\n",
    "            \n",
    "    if start_text:\n",
    "        del start_text [:]\n",
    "    \n",
    "    if tt:\n",
    "        del tt [:]\n",
    "        \n",
    "    name_file_clean = re.sub(r'./srt_clean\\\\|.txt', '', path_of_file)\n",
    "    \n",
    "    \n",
    "    name_file_clean = re.sub(r'[\\\\/*?:\"<>|]','-',name_file_clean)\n",
    "    \n",
    "    \n",
    "    \n",
    "    with open(path_of_file, 'r', encoding='utf-8') as file_b:\n",
    "        #file_b = file_b.read()\n",
    "            \n",
    "        \n",
    "        cont_first_dot=0\n",
    "        cont_neardot = 0\n",
    "        \n",
    "        soup = BeautifulSoup(file_b, 'html.parser')\n",
    "        file_b = soup.get_text()\n",
    "\n",
    "                \n",
    "        file_b = re.sub(r'\\n{2}', '', file_b)\n",
    "        \n",
    "        tt = file_b.split(' ')        \n",
    "        \n",
    "        num_rand = random.randint(500 ,5000)\n",
    "        \n",
    "        len_file = len(tt)\n",
    "        \n",
    "        \n",
    "        #encontrar el punto aleatorio antes de los 500 \n",
    "        \n",
    "        if len_file>=500:   #\n",
    "            num_rand_start_text = random.randint(0, len(tt)-500)\n",
    "            \n",
    "\n",
    "            if tt[0] in list_charct:\n",
    "                del tt[0]\n",
    "            \n",
    "            end_text = num_rand_start_text+num_rand\n",
    "            \n",
    "            \n",
    "            while end_text>len_file:\n",
    "                \n",
    "                num_rand = random.randint(500 ,5000)\n",
    "                num_rand_start_text = random.randint(0, len(tt)-500)\n",
    "                end_text = num_rand_start_text+num_rand\n",
    "                \n",
    "\n",
    "\n",
    "            start_text = tt[ num_rand_start_text :end_text]\n",
    "\n",
    "            for first_do_sent in start_text:\n",
    "                cont_first_dot+=1\n",
    "                if first_do_sent.endswith('.'):\n",
    "                    #print(first_do_sent)\n",
    "                    start_text = start_text[cont_first_dot:]\n",
    "                    #print(cont_first_dot)\n",
    "                    \n",
    "                    break\n",
    "\n",
    "                    \n",
    "            extra_text.extend(tt[end_text:]) #estra es el texto sobrante del texto complto\n",
    "\n",
    "            \n",
    "            for near_dot in extra_text:\n",
    "                cont_neardot+=1\n",
    "                if near_dot.endswith('.') or near_dot == '.':\n",
    "                    break\n",
    "\n",
    "            start_text.extend(extra_text[:cont_neardot])\n",
    "            \n",
    "            with open('./Partes Extraidas/'+name_file_clean+'.txt', 'w', encoding='utf-8') as parts_file:\n",
    "                parts_file.write(' '.join(start_text))\n",
    "            \n",
    "            \n",
    "            \n",
    "        \n",
    "        else:\n",
    "            contador+=1\n",
    "            print(name_file_clean, '----->', len_file)\n",
    "        \n",
    "\n",
    "            \n",
    "            \n",
    "print('Numero de libros sin texto: ',contador)\n",
    "print('Numero de libros con indice: ', contador_indice)\n",
    "print(path_of_file)"
   ]
  },
  {
   "cell_type": "code",
   "execution_count": null,
   "id": "5f9063e8-c50b-418a-93b1-cca801fd2101",
   "metadata": {},
   "outputs": [],
   "source": []
  },
  {
   "cell_type": "markdown",
   "id": "285fdc9c-6586-4840-9b7b-eb4f6105bf19",
   "metadata": {
    "tags": []
   },
   "source": [
    "## Verificar la url y si es la misma pelicula"
   ]
  },
  {
   "cell_type": "code",
   "execution_count": null,
   "id": "fd83c9c8-733d-430a-8306-1b689181a01b",
   "metadata": {},
   "outputs": [],
   "source": []
  },
  {
   "cell_type": "code",
   "execution_count": null,
   "id": "06edd02e-ff6a-4a15-b885-8040a297176f",
   "metadata": {},
   "outputs": [],
   "source": []
  },
  {
   "cell_type": "code",
   "execution_count": null,
   "id": "ab326104-1d82-4e24-8e93-aa68494745ff",
   "metadata": {},
   "outputs": [],
   "source": []
  },
  {
   "cell_type": "code",
   "execution_count": 2,
   "id": "1c1cf6ed-70a5-47ad-8175-6aa1f5cddc56",
   "metadata": {
    "tags": []
   },
   "outputs": [
    {
     "name": "stdout",
     "output_type": "stream",
     "text": [
      "-----NO SON similares:  12793496 ----- burukku daifuntou shin no nakama e no michisagashi?    >    \"one piece\" brook's hard struggle the difficult path to becoming a true crewmate? s01e384  \n",
      "\n",
      "-----\n",
      "-----NO SON similares:  12793497 ----- idainaru kouro hanshuu toutatsu! akai tuchi no tairiku    >    \"one piece\" halfway through the grand line arrival! the red line s01e385  \n",
      "\n",
      "-----\n",
      "-----NO SON similares:  12793498 ----- mugiwara ichimi nikushi tetsukamen no dubaru toujou    >    \"one piece\" hatred of the straw hat crew enter iron mask duval s01e386  \n",
      "\n",
      "-----\n",
      "-----NO SON similares:  12793499 ----- innen no saikai! toraware no gyonin o sukudase    >    \"one piece\" the fated reunion! save the imprisoned fishman s01e387  \n",
      "\n",
      "-----\n",
      "-----NO SON similares:  12793500 ----- higeki! kamen ni kakusareta dubaru no shinjitsu    >    \"one piece\" tragedy! the truth of the unmasked duval s01e388  \n",
      "\n",
      "-----\n",
      "-----NO SON similares:  12793501 ----- sakuretsu! sanîgou no chouhimitsu heiki gaonhou    >    \"one piece\" explosion! the sunny's super secret weapon gaon cannon s01e389  \n",
      "\n",
      "-----\n",
      "-----NO SON similares:  12793840 ----- ukigusa    >    floating weeds   \n",
      "\n",
      "-----\n",
      "-----NO SON similares:  12793905 ----- 7th heaven    >    el séptimo cielo   \n",
      "\n",
      "-----\n",
      "-----NO SON similares:  12794145 ----- dane-ye anjir-e ma'abed    >    the seed of the sacred fig   \n",
      "\n",
      "-----\n",
      "-----NO SON similares:  12794788 ----- sunrise: a song of two humans    >    amanecer   \n",
      "\n",
      "-----\n",
      "-----NO SON similares:  12794868 ----- the broadway melody    >    la melodía de broadway   \n",
      "\n",
      "-----\n",
      "-----NO SON similares:  12795080 ----- bound    >    lazos ardientes   \n",
      "\n",
      "-----\n",
      "-----NO SON similares:  12795120 ----- halloween 5: the revenge of michael myers    >    halloween 5: la venganza de michael myers   \n",
      "\n",
      "-----\n",
      "-----NO SON similares:  12795165 ----- à nous les garçons    >    a nous les garcons   \n",
      "\n",
      "-----\n",
      "-----NO SON similares:  12795524 ----- une journée bien remplie ou neuf meurtres insolites dans une même journée par un seul homme dont ce n'est pas le métier    >    a full day's work   \n",
      "\n",
      "-----\n",
      "-----NO SON similares:  12795753 ----- aus dem nichts    >    in the fade   \n",
      "\n",
      "-----\n",
      "-----NO SON similares:  12795796 ----- devara: part 1    >    devara part 1   \n",
      "\n",
      "-----\n",
      "-----NO SON similares:  12795988 ----- conflict    >    retorno al abismo   \n",
      "\n",
      "-----\n",
      "-----NO SON similares:  12796042 ----- jolibsik gajok    >    family by choice   \n",
      "\n",
      "-----\n",
      "-----NO SON similares:  12796121 ----- the last house on the left    >    la última casa a la izquierda   \n",
      "\n",
      "-----\n",
      "-----NO SON similares:  12796593 ----- i complessi    >    los complejos   \n",
      "\n",
      "-----\n",
      "-----NO SON similares:  12796934 ----- muidhond    >    tench   \n",
      "\n",
      "-----\n",
      "-----NO SON similares:  12797298 ----- the shop around the corner    >    el bazar de las sorpresas   \n",
      "\n",
      "-----\n",
      "-----NO SON similares:  12797349 ----- dragon ball: shenron no densetsu    >    dragon ball: la leyenda del dragón shenron   \n",
      "\n",
      "-----\n",
      "-----NO SON similares:  12797526 ----- napad    >    justice   \n",
      "\n",
      "-----\n",
      "-----NO SON similares:  12797527 ----- napad    >    justice   \n",
      "\n",
      "-----\n",
      "-----NO SON similares:  12797542 ----- napad    >    justice   \n",
      "\n",
      "-----\n",
      "-----NO SON similares:  12797551 ----- bokser    >    boxer   \n",
      "\n",
      "-----\n",
      "-----NO SON similares:  12797554 ----- napad    >    justice   \n",
      "\n",
      "-----\n",
      "-----NO SON similares:  12797556 ----- jestem ren    >    the glitch   \n",
      "\n",
      "-----\n",
      "-----NO SON similares:  12797558 ----- zahradníkuv rok    >    zahradnikuv rok   \n",
      "\n",
      "-----\n",
      "-----NO SON similares:  12798224 ----- lá fora    >    outside   \n",
      "\n",
      "-----\n",
      "-----NO SON similares:  12798226 ----- lá fora    >    outside   \n",
      "\n",
      "-----\n",
      "-----NO SON similares:  12798958 ----- the end & the beginning    >    \"superman &amp; lois\" the end &amp; the beginning s04e01  \n",
      "\n",
      "-----\n",
      "-----NO SON similares:  12799067 ----- all quiet on the western front    >    sin novedad en el frente   \n",
      "\n",
      "-----\n",
      "-----NO SON similares:  12799691 ----- ginga tetsudô no chichi    >    father of the milky way railroad   \n",
      "\n",
      "-----\n",
      "-----NO SON similares:  12799849 ----- taiyô ni idomu mono    >    \"fullmetal alchemist\" to challenge the sun s01e01  \n",
      "\n",
      "-----\n",
      "-----NO SON similares:  12799850 ----- okâsan......    >    \"fullmetal alchemist\" mother s01e03  \n",
      "\n",
      "-----\n",
      "-----NO SON similares:  12800010 ----- bender. zoloto imprerii    >    bender: gold of the empire   \n",
      "\n",
      "-----\n",
      "-----NO SON similares:  12800030 ----- rak won loop    >    love stuck   \n",
      "\n",
      "-----\n",
      "-----NO SON similares:  12800060 ----- the strangers    >    los extraños   \n",
      "\n",
      "-----\n",
      "-----NO SON similares:  12801864 ----- jeon, ran    >    uprising   \n",
      "\n",
      "-----\n",
      "-----NO SON similares:  12801870 ----- planet earth ii: a world of wonder    >    \"planet earth ii\" a world of wonder s01e07  \n",
      "\n",
      "-----\n",
      "-----NO SON similares:  12801931 ----- lá fora    >    outside   \n",
      "\n",
      "-----\n",
      "-----NO SON similares:  12801932 ----- estado de silencio    >    state of silence   \n",
      "\n",
      "-----\n",
      "-----NO SON similares:  12801934 ----- dane-ye anjir-e ma'abed    >    the seed of the sacred fig   \n",
      "\n",
      "-----\n",
      "-----NO SON similares:  12801999 ----- zahradníkuv rok    >    zahradnikuv rok   \n",
      "\n",
      "-----\n",
      "-----NO SON similares:  12802159 ----- the divorcee    >    la divorciada   \n",
      "\n",
      "-----\n",
      "-----NO SON similares:  12802200 ----- boot camp    >    campamento castigo   \n",
      "\n",
      "-----\n",
      "-----NO SON similares:  12802320 ----- to die for    >    todo por un sueño   \n",
      "\n",
      "-----\n",
      "-----NO SON similares:  12802509 ----- the red    >    rippy   \n",
      "\n",
      "-----\n",
      "-----NO SON similares:  12802971 ----- se rokh    >    3 faces   \n",
      "\n",
      "-----\n",
      "-----NO SON similares:  12804285 ----- l'archipel du goulag, la révélation    >    l'archipel du goulag, la revelation   \n",
      "\n",
      "-----\n",
      "-----NO SON similares:  12804340 ----- batoru rowaiaru ii: chinkonka    >    battle royale 2: réquiem   \n",
      "\n",
      "-----\n",
      "-----NO SON similares:  12804741 ----- mother riley meets the vampire    >    vampire over london   \n",
      "\n",
      "-----\n",
      "-----NO SON similares:  12805091 ----- ano hana ga saku oka de, kimi to mata deaetara    >    till we meet again on the lily hil   \n",
      "\n",
      "-----\n",
      "-----NO SON similares:  12805093 ----- aru koroshi ya    >    a certain killer   \n",
      "\n",
      "-----\n",
      "-----NO SON similares:  12805103 ----- your baby or mine    >    lies my babysitter told   \n",
      "\n",
      "-----\n",
      "-----NO SON similares:  12805104 ----- on the waterfront    >    la ley del silencio   \n",
      "\n",
      "-----\n",
      "-----NO SON similares:  12805107 ----- tereddüt çizgisi    >    hesitation wound   \n",
      "\n",
      "-----\n",
      "-----NO SON similares:  12805108 ----- the seventh victim    >    la séptima víctima   \n",
      "\n",
      "-----\n",
      "-----NO SON similares:  12805211 ----- 658km, yôko no tabi    >    658km, yoko no tabi   \n",
      "\n",
      "-----\n",
      "-----NO SON similares:  12805216 ----- the lady is willing    >    capricho de mujer   \n",
      "\n",
      "-----\n",
      "-----NO SON similares:  12805220 ----- akahige    >    barbarroja   \n",
      "\n",
      "-----\n",
      "-----NO SON similares:  12806121 ----- rideau de fer, l'occupation soviétique    >    rideau de fer, l'occupation sovietique   \n",
      "\n",
      "-----\n",
      "-----NO SON similares:  12806712 ----- cimarron    >    cimarrón   \n",
      "\n",
      "-----\n",
      "-----NO SON similares:  12807091 ----- talchul: project silence    >    project silence   \n",
      "\n",
      "-----\n",
      "-----NO SON similares:  12807121 ----- fantômas    >    fantomas   \n",
      "\n",
      "-----\n",
      "-----NO SON similares:  12807126 ----- dead bang    >    tiro mortal   \n",
      "\n",
      "-----\n",
      "-----NO SON similares:  12807127 ----- die theorie von allem    >    the universal theory   \n",
      "\n",
      "-----\n",
      "-----NO SON similares:  12807128 ----- here, there & everywhere    >    here, there &amp; everywhere   \n",
      "\n",
      "-----\n",
      "-----NO SON similares:  12807154 ----- a free soul    >    un alma libre   \n",
      "\n",
      "-----\n",
      "-----NO SON similares:  12807159 ----- ölümlü dünya 2    >    mortal world 2   \n",
      "\n",
      "-----\n",
      "-----NO SON similares:  12807161 ----- south park: the streaming wars part 2    >    \"south park\" the streaming wars part 2 s25e08  \n",
      "\n",
      "-----\n",
      "-----NO SON similares:  12807164 ----- myrskyluodon maija    >    stormskerry maja   \n",
      "\n",
      "-----\n",
      "-----NO SON similares:  12807280 ----- le mangeur d'âmes    >    the soul eater   \n",
      "\n",
      "-----\n",
      "-----NO SON similares:  12807593 ----- the red    >    rippy   \n",
      "\n",
      "-----\n",
      "-----NO SON similares:  12807602 ----- daedosiui sarangbeob    >    love in the big city   \n",
      "\n",
      "-----\n",
      "-----NO SON similares:  12807603 ----- daedosiui sarangbeob    >    love in the big city   \n",
      "\n",
      "-----\n",
      "-----NO SON similares:  12807606 ----- daedosiui sarangbeob    >    love in the big city   \n",
      "\n",
      "-----\n",
      "-----NO SON similares:  12807607 ----- daedosiui sarangbeob    >    love in the big city   \n",
      "\n",
      "-----\n",
      "-----NO SON similares:  12807608 ----- daedosiui sarangbeob    >    love in the big city   \n",
      "\n",
      "-----\n",
      "-----NO SON similares:  12807609 ----- daedosiui sarangbeob    >    love in the big city   \n",
      "\n",
      "-----\n",
      "-----NO SON similares:  12807610 ----- daedosiui sarangbeob    >    love in the big city   \n",
      "\n",
      "-----\n",
      "-----NO SON similares:  12807643 ----- tabu: a story of the south seas    >    tabú   \n",
      "\n",
      "-----\n",
      "-----NO SON similares:  12807734 ----- grand hotel    >    gran hotel   \n",
      "\n",
      "-----\n",
      "-----NO SON similares:  12807790 ----- le mangeur d'âmes    >    the soul eater   \n",
      "\n",
      "-----\n",
      "-----NO SON similares:  12807794 ----- keyke mahboobe man    >    my favourite cake   \n",
      "\n",
      "-----\n",
      "-----NO SON similares:  12807796 ----- survivre    >    survive   \n",
      "\n",
      "-----\n",
      "-----NO SON similares:  12807806 ----- dane-ye anjir-e ma'abed    >    the seed of the sacred fig   \n",
      "\n",
      "-----\n",
      "-----NO SON similares:  12807827 ----- batoru rowaiaru    >    battle royale   \n",
      "\n",
      "-----\n",
      "-----NO SON similares:  12807850 ----- don't be a menace to south central while drinking your juice in the hood    >    los colegas del barrio   \n",
      "\n",
      "-----\n",
      "-----NO SON similares:  12807860 ----- banlieue 13: ultimatum    >    distrito 13: ultimatum   \n",
      "\n",
      "-----\n",
      "-----NO SON similares:  12807861 ----- bad ass    >    tipo duro   \n",
      "\n",
      "-----\n",
      "-----NO SON similares:  12807864 ----- waiting...    >    marchando ...   \n",
      "\n",
      "-----\n",
      "-----NO SON similares:  12807867 ----- once were warriors    >    guerreros de antaño   \n",
      "\n",
      "-----\n",
      "-----NO SON similares:  12807909 ----- beomjoidosi 4    >    the roundup: punishment   \n",
      "\n",
      "-----\n",
      "-----NO SON similares:  12807915 ----- dokjeon    >    believer   \n",
      "\n",
      "-----\n",
      "-----NO SON similares:  12807941 ----- minions & more 1    >    minions &amp; more 1   \n",
      "\n",
      "-----\n",
      "-----NO SON similares:  12807942 ----- minions & more 2    >    minions &amp; more 2   \n",
      "\n",
      "-----\n",
      "-----NO SON similares:  12807948 ----- he bian de cuo wu    >    only the river flows   \n",
      "\n",
      "-----\n",
      "-----NO SON similares:  12807962 ----- hoa-cha    >    helpless   \n",
      "\n",
      "-----\n",
      "-----NO SON similares:  12808359 ----- el hombre que amaba los platos voladores    >    the man who loved ufos   \n",
      "\n",
      "-----\n",
      "-----NO SON similares:  12808367 ----- o cangaceiro    >    cangaceiro   \n",
      "\n",
      "-----\n",
      "el numero de titulos similares:  856\n"
     ]
    },
    {
     "data": {
      "text/plain": [
       "'agrgar el id de imdb'"
      ]
     },
     "execution_count": 2,
     "metadata": {},
     "output_type": "execute_result"
    }
   ],
   "source": [
    "contador_similares =0\n",
    "\n",
    "for _ in glob.glob('./Zip_Files/*'):\n",
    "    id_serie = re.sub(r'./Zip_Files\\\\|.zip', '', _)\n",
    "    #print(id_serie)\n",
    "    \n",
    "    headers = {'User-Agent': 'Mozilla/5.0 (Windows NT 10.0; Win64; x64) AppleWebKit/537.36 (KHTML, like Gecko) Chrome/87.0.4280.88 Safari/537.36'}\n",
    "    \n",
    "    \n",
    "    page_open = requests.get(f'https://www.opensubtitles.org/es/subtitles/{id_serie}', headers=headers)\n",
    "    \n",
    "    \n",
    "    #obtener el link imbd\n",
    "    soup_open = BeautifulSoup(page_open.content, 'html.parser')\n",
    "    \n",
    "    try:\n",
    "        links = soup_open.find('a', href=re.compile(r'https://www.imdb.com/title/')).attrs['href']\n",
    "\n",
    "        if links:\n",
    "            page_imdb =requests.get(links, headers=headers)\n",
    "\n",
    "            soup_imdb = BeautifulSoup(page_imdb.content, 'html.parser')\n",
    "            \n",
    "            id_imdb = re.sub(r'https://www.imdb.com/title/tt|/', '', links)\n",
    "            ####id \n",
    "\n",
    "\n",
    "\n",
    "            title_imdb = soup_imdb.find(\"div\", class_='sc-ec65ba05-1 fUCCIx')\n",
    "\n",
    "            if not title_imdb:\n",
    "                title_imdb = soup_imdb.find(\"h1\", class_='sc-ec65ba05-0')\n",
    "\n",
    "\n",
    "            title_open = soup_open.findAll('h2')\n",
    "\n",
    "            title_open = re.sub(r'<h2>|</h2>', '', str(title_open[0]))\n",
    "\n",
    "\n",
    "            '''\n",
    "            if title_open and title_imdb:\n",
    "                print(id_serie,'-----', title_imdb.text,'   >   ', title_open, '\\n\\n')\n",
    "            '''\n",
    "\n",
    "\n",
    "            with open('./id_series.txt', 'a', encoding='utf-8') as file_ids:\n",
    "                file_ids.write('ID Página Open: '+id_serie+'    ----> ID IMDB: '+id_imdb+'\\n')\n",
    "\n",
    "            if title_open and title_imdb:\n",
    "\n",
    "                title_imdb = title_imdb.text.strip().lower()\n",
    "                title_imdb = re.sub('original title: ', '', title_imdb)\n",
    "\n",
    "                title_open = title_open.strip().lower()\n",
    "                title_open = re.sub('espańól subtítulos .*$','', title_open)\n",
    "\n",
    "                if title_imdb in title_open:\n",
    "                    #print('Son similares: ',id_serie,'-----', title_imdb,'   >   ', title_open, '+++++\\n\\n')\n",
    "\n",
    "                    contador_similares+=1\n",
    "                else:\n",
    "\n",
    "                    print('-----NO SON similares: ',id_serie,'-----', title_imdb,'   >   ', title_open, '\\n\\n-----')\n",
    "            else:\n",
    "                print('Esta vacio: ', id_serie)\n",
    "\n",
    "\n",
    "        \n",
    "        \n",
    "        else:\n",
    "            print(links)\n",
    "    except:\n",
    "        print(id_serie)\n",
    "print('el numero de titulos similares: ', contador_similares)\n",
    "\n",
    "    \n",
    "'''agrgar el id de imdb'''"
   ]
  },
  {
   "cell_type": "code",
   "execution_count": null,
   "id": "03a7e4c7-92dd-41e2-8eed-604051d4a339",
   "metadata": {},
   "outputs": [],
   "source": []
  },
  {
   "cell_type": "code",
   "execution_count": null,
   "id": "066ed0ed-52e9-4b18-b51e-c07cce6824d8",
   "metadata": {},
   "outputs": [],
   "source": []
  },
  {
   "cell_type": "code",
   "execution_count": null,
   "id": "4cbb0ee8-afd8-4414-9ac5-ffae7a9cb613",
   "metadata": {},
   "outputs": [],
   "source": []
  },
  {
   "cell_type": "code",
   "execution_count": null,
   "id": "ea7f682e-3251-414f-b68d-315d69d7f662",
   "metadata": {},
   "outputs": [],
   "source": []
  },
  {
   "cell_type": "code",
   "execution_count": null,
   "id": "c6c51413-0dfe-40ec-bc74-481d3f5792f6",
   "metadata": {},
   "outputs": [],
   "source": [
    "/serie/Case_Sensitive/2/1/The_Other_Half_Lives_%281%29 ' /updated/5/64528/1/serie/Case_Sensitive/2/2/The_Other_Half_Lives_%282%29 ' /updated/5/64561/3/serie/Case_Sensitive/2/2/The_Other_Half_Lives_%282%29 ' /updated/5/64561/4"
   ]
  },
  {
   "cell_type": "markdown",
   "id": "ea39f7cf-d3d4-4d51-9903-dd9e0c959464",
   "metadata": {},
   "source": [
    "## Extraer los links de descarga de las paginas"
   ]
  },
  {
   "cell_type": "code",
   "execution_count": 11,
   "id": "bd75670a-84bf-4ddd-897d-20414a885984",
   "metadata": {
    "tags": []
   },
   "outputs": [],
   "source": [
    "links_set=set()\n",
    "for page_raw in glob.glob('./Addic_Raw/*'):\n",
    "    with open(page_raw, 'r', encoding='utf-8') as file_raw_page:\n",
    "        file_raw_page = file_raw_page.read()\n",
    "        \n",
    "        # Extraer la url con re\n",
    "        \n",
    "        url_raw = file_raw_page.split(\" ' \")\n",
    "        #print(url_raw)\n",
    "\n",
    "        for url_raw_ in url_raw:\n",
    "            #url_raw_ = re.sub(r'/serie/.*', '', url_raw_)\n",
    "            links_set.add('https://www.addic7ed.com'+url_raw_)\n",
    "            #print(url_raw_)\n",
    "            #print('https://www.addic7ed.com/'+url_raw_)\n",
    "            '''\n",
    "            with open('./Links_Download_Subtitles.txt', 'a', encoding='utf-8') as file_LD:\n",
    "                file_LD.write('https://www.addic7ed.com'+url_raw_+'\\n')\n",
    "            '''\n"
   ]
  },
  {
   "cell_type": "code",
   "execution_count": 12,
   "id": "c8829bff-2bde-4dde-b6c2-a7bce6ddd03c",
   "metadata": {
    "tags": []
   },
   "outputs": [
    {
     "data": {
      "text/plain": [
       "3781"
      ]
     },
     "execution_count": 12,
     "metadata": {},
     "output_type": "execute_result"
    }
   ],
   "source": [
    "len(links_set)"
   ]
  },
  {
   "cell_type": "code",
   "execution_count": 15,
   "id": "bd7a9446-cf81-40f3-8be8-0832b62cae4e",
   "metadata": {
    "tags": []
   },
   "outputs": [
    {
     "name": "stderr",
     "output_type": "stream",
     "text": [
      "\n",
      "KeyboardInterrupt\n",
      "\n"
     ]
    }
   ],
   "source": [
    "for link_download in links_set:\n",
    "    #link_download\n",
    "    name_serie = re.sub(r'.*/serie/', '', link_download)\n",
    "    name_serie = name_serie.replace('/', '-')\n",
    "    \n",
    "    file_exist_ = os.path.exists(f'./Srt_Addic/{name_serie}')\n",
    "    \n",
    "    if not file_exist_:\n",
    "        #requests.get(uri, auth=(user, password))\n",
    "        page_download = requests.get(link_download,auth=('Poiuytrewq1', 'Qwerty1@'))\n",
    "        \n",
    "        with open(f'./Srt_Addic/{name_serie}.txt', 'wb') as file_download:\n",
    "            file_download.write(page_download.content)"
   ]
  },
  {
   "cell_type": "code",
   "execution_count": null,
   "id": "f2b36ecd-cfc4-4183-b808-d9689ebbc471",
   "metadata": {},
   "outputs": [],
   "source": []
  },
  {
   "cell_type": "code",
   "execution_count": 7,
   "id": "2ab0c5db-622c-4cac-bc84-673999953ee2",
   "metadata": {
    "tags": []
   },
   "outputs": [
    {
     "name": "stdout",
     "output_type": "stream",
     "text": [
      "************************************************\n",
      "['/original/24543/20']\n",
      "['/original/24543/20']\n",
      "['/original/24543/20']\n",
      "['/original/24543/20']\n",
      "************************************************\n",
      "['/original/32941/0']\n",
      "['/original/32941/0']\n",
      "************************************************\n",
      "['/original/29234/1']\n",
      "['/original/29234/1']\n",
      "************************************************\n",
      "['/original/119526/11']\n",
      "['/original/119526/11']\n",
      "['/original/119526/11']\n",
      "['/original/119526/11']\n",
      "************************************************\n",
      "['/original/9897/0']\n",
      "['/original/9897/0']\n",
      "************************************************\n",
      "['/original/30150/0']\n",
      "['/original/30150/0']\n",
      "************************************************\n",
      "['/original/30082/0']\n",
      "['/original/30082/0']\n"
     ]
    },
    {
     "name": "stderr",
     "output_type": "stream",
     "text": [
      "\n",
      "KeyboardInterrupt\n",
      "\n"
     ]
    }
   ],
   "source": [
    "for path_file in glob.glob('./Addic_Raw/*'):\n",
    "    with open(path_file, 'r', encoding='utf-8') as file_addic:\n",
    "        file_addic = file_addic.read()\n",
    "    \n",
    "    link_serie = file_addic.split(\"'\")\n",
    "    #print(link_serie[0])\n",
    "    \n",
    "    page_request = requests.get(f'https://www.addic7ed.com/{link_serie[0]}')\n",
    "    \n",
    "    soup = BeautifulSoup(page_request.content, 'html.parser')\n",
    "        \n",
    "    tables = soup.find_all(class_='tabel95')\n",
    "    #print(type(tables))\n",
    "    print('************************************************')\n",
    "    for i in tables:\n",
    "        #print(i,'------\\n------------------------------------------------')\n",
    "        if 'Spanish' in str(i):\n",
    "            class_language = soup.find(class_='face-button')\n",
    "            #print(i,'------\\n------------------------------------------------')\n",
    "\n",
    "            link_download = re.findall(r'href=\"(.*?)\"', str(class_language))\n",
    "            print(link_download)\n",
    "\n",
    "        #if 'Spanish'in str(class_language):\n",
    "            #print(class_language)\n",
    "\n",
    "    "
   ]
  },
  {
   "cell_type": "code",
   "execution_count": null,
   "id": "0bab7bef-9f0a-44ea-941b-5e8032c15c89",
   "metadata": {},
   "outputs": [],
   "source": []
  },
  {
   "cell_type": "code",
   "execution_count": null,
   "id": "5028ec8b-032d-411c-8349-3ae923821228",
   "metadata": {},
   "outputs": [],
   "source": []
  },
  {
   "cell_type": "code",
   "execution_count": null,
   "id": "04070f58-b5f2-4acc-bbc3-120bc1fc0007",
   "metadata": {},
   "outputs": [],
   "source": []
  },
  {
   "cell_type": "code",
   "execution_count": null,
   "id": "8af37ef9-1b2b-4af5-ab7d-ce3e8ee01cee",
   "metadata": {},
   "outputs": [],
   "source": []
  },
  {
   "cell_type": "code",
   "execution_count": null,
   "id": "0da65980-aa99-42cb-ac1d-05539b92574c",
   "metadata": {},
   "outputs": [],
   "source": [
    "## https://www.addic7ed.com "
   ]
  },
  {
   "cell_type": "markdown",
   "id": "c0c74f7e-35a7-44c9-a0dc-df84f7c9b653",
   "metadata": {},
   "source": [
    "#### Funciona / Descarga los links de descarga de las series/peliculas"
   ]
  },
  {
   "cell_type": "code",
   "execution_count": 12,
   "id": "ddae20b8",
   "metadata": {
    "tags": []
   },
   "outputs": [],
   "source": [
    "for n_page in range(1, 1000):\n",
    "    page_ = requests.get(f\"https://www.addic7ed.com/show/{n_page}\")\n",
    "\n",
    "    soup = BeautifulSoup(page_.content, 'html.parser')\n",
    "\n",
    "    elem_id = soup.find(id='langs')\n",
    "\n",
    "    try:\n",
    "        if 'Spanish' in elem_id.get_text():\n",
    "            class_tabla = soup.find_all(class_='epeven completed')\n",
    "            for i_class in class_tabla:\n",
    "                if 'Spanish' in i_class.get_text():\n",
    "                    \n",
    "                    with open(f'./Addic_Raw/page_{n_page}.txt', 'w', encoding='utf-8') as w_page:\n",
    "                        w_page.write(str(i_class))\n",
    "\n",
    "    except Exception:\n",
    "        pass\n",
    "        "
   ]
  },
  {
   "cell_type": "code",
   "execution_count": 47,
   "id": "f1ae8388-d039-4389-ad98-896929315ac9",
   "metadata": {
    "tags": []
   },
   "outputs": [
    {
     "name": "stdout",
     "output_type": "stream",
     "text": [
      "83 78\n",
      "\n",
      "Hola\n",
      "\n",
      "\n",
      "UN NEGOCIO VIRTUOSO\n",
      "\n",
      "\n"
     ]
    }
   ],
   "source": []
  },
  {
   "cell_type": "code",
   "execution_count": 43,
   "id": "dbb857fe-6739-4f0e-849c-216fdda24a2f",
   "metadata": {
    "tags": []
   },
   "outputs": [
    {
     "name": "stdout",
     "output_type": "stream",
     "text": [
      "\n",
      "[Laios] Vuelve, Falin! Te necesitamos!\n",
      "\n",
      "\n",
      "[Falin se re]\n",
      "\n",
      "\n",
      "[Tema musical de cierre] Subttulos de \"noesasuntotuyo\"\n"
     ]
    }
   ],
   "source": [
    "txt='''\n",
    "[Laios] Vuelve, Falin! Te necesitamos!\n",
    "\n",
    "\n",
    "[Falin se re]\n",
    "\n",
    "\n",
    "[Tema musical de cierre] Subttulos de \"noesasuntotuyo\"\n",
    "\n",
    "\n",
    "Anuncie su producto o marca aqu\n",
    "contctenos www.OpenSubtitles.org hoy \n",
    "\n",
    "'''\n",
    "len_txt = len(txt)\n",
    "\n",
    "\n",
    "print(txt[:len_txt-74])"
   ]
  },
  {
   "cell_type": "code",
   "execution_count": null,
   "id": "8e6b5cfe-b870-4bb6-842d-610aab42a015",
   "metadata": {},
   "outputs": [],
   "source": []
  },
  {
   "cell_type": "code",
   "execution_count": null,
   "id": "ca4d34b2-0d47-4dc5-8338-8d8eaae053b4",
   "metadata": {},
   "outputs": [],
   "source": []
  },
  {
   "cell_type": "code",
   "execution_count": 2,
   "id": "e707e4d2-b9ca-4599-a376-8c3e5f5c9481",
   "metadata": {
    "jupyter": {
     "source_hidden": true
    },
    "tags": []
   },
   "outputs": [
    {
     "ename": "NameError",
     "evalue": "name 'soup' is not defined",
     "output_type": "error",
     "traceback": [
      "\u001b[1;31m---------------------------------------------------------------------------\u001b[0m",
      "\u001b[1;31mNameError\u001b[0m                                 Traceback (most recent call last)",
      "Cell \u001b[1;32mIn[2], line 7\u001b[0m\n\u001b[0;32m      2\u001b[0m pages_raw_my \u001b[38;5;241m=\u001b[39m requests\u001b[38;5;241m.\u001b[39mget(\u001b[38;5;124m\"\u001b[39m\u001b[38;5;124mhttps://my-subs.co/list_movies-z\u001b[39m\u001b[38;5;124m\"\u001b[39m)\n\u001b[0;32m      4\u001b[0m soup_my_subs \u001b[38;5;241m=\u001b[39m BeautifulSoup(pages_raw_my\u001b[38;5;241m.\u001b[39mcontent, \u001b[38;5;124m'\u001b[39m\u001b[38;5;124mhtml.parser\u001b[39m\u001b[38;5;124m'\u001b[39m)\n\u001b[1;32m----> 7\u001b[0m find_table \u001b[38;5;241m=\u001b[39m \u001b[43msoup\u001b[49m\u001b[38;5;241m.\u001b[39mfind(\u001b[38;5;124m'\u001b[39m\u001b[38;5;124mp\u001b[39m\u001b[38;5;124m'\u001b[39m, class_\u001b[38;5;241m=\u001b[39m\u001b[38;5;124m'\u001b[39m\u001b[38;5;124mtable table-striped\u001b[39m\u001b[38;5;124m'\u001b[39m)\n\u001b[0;32m      9\u001b[0m \u001b[38;5;28mprint\u001b[39m(find_table\u001b[38;5;241m.\u001b[39mtext)\n\u001b[0;32m     10\u001b[0m \u001b[38;5;124;03m'''\u001b[39;00m\n\u001b[0;32m     11\u001b[0m \u001b[38;5;124;03mfor class_pull in find_class_pull:\u001b[39;00m\n\u001b[0;32m     12\u001b[0m \u001b[38;5;124;03m    get_href = re.findall(r'href=\"/es/subtitles/.*/download\"', str(class_pull))\u001b[39;00m\n\u001b[1;32m   (...)\u001b[0m\n\u001b[0;32m     20\u001b[0m \u001b[38;5;124;03m    file_raw.write(pages_raw.text)\u001b[39;00m\n\u001b[0;32m     21\u001b[0m \u001b[38;5;124;03m'''\u001b[39;00m\n",
      "\u001b[1;31mNameError\u001b[0m: name 'soup' is not defined"
     ]
    }
   ],
   "source": [
    "for n_page_podna in range(1, 16):\n",
    "    pages_raw = requests.get(f\"https://www.podnapisi.net/es/subtitles/search/?page={n_page_podna}&language=%21es\")\n",
    "    \n",
    "    #soup_podna = BeautifulSoup(pages_raw.content, 'html.parser')\n",
    "    \n",
    "    \n",
    "    #find_class_pull = soup_podna.find_all('a')\n",
    "    \n",
    "    #print(find_class_pull)\n",
    "    '''\n",
    "    for class_pull in find_class_pull:\n",
    "        get_href = re.findall(r'href=\"/es/subtitles/.*/download\"', str(class_pull))\n",
    "        print(get_href)\n",
    "        #print(class_pull)\n",
    "    '''\n",
    "    \n",
    "    \n",
    "    \n",
    "    with open(f'./Podnapisi/Pagina_{n_page_podna}.txt', 'w',encoding='utf-8') as file_raw:\n",
    "        file_raw.write(pages_raw.text)\n",
    "    "
   ]
  },
  {
   "cell_type": "code",
   "execution_count": null,
   "id": "971e1ddc-da65-4b45-9255-91d30c8ffa23",
   "metadata": {},
   "outputs": [],
   "source": []
  }
 ],
 "metadata": {
  "kernelspec": {
   "display_name": "Python 3 (ipykernel)",
   "language": "python",
   "name": "python3"
  },
  "language_info": {
   "codemirror_mode": {
    "name": "ipython",
    "version": 3
   },
   "file_extension": ".py",
   "mimetype": "text/x-python",
   "name": "python",
   "nbconvert_exporter": "python",
   "pygments_lexer": "ipython3",
   "version": "3.12.7"
  }
 },
 "nbformat": 4,
 "nbformat_minor": 5
}
