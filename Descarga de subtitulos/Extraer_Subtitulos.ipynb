{
 "cells": [
  {
   "cell_type": "code",
   "execution_count": 2,
   "id": "deac5b27-3957-4bdc-8ae8-28f51a2a95e5",
   "metadata": {
    "tags": []
   },
   "outputs": [],
   "source": [
    "import requests\n",
    "from bs4 import BeautifulSoup\n",
    "import re\n",
    "import zipfile\n",
    "import glob\n",
    "import os\n",
    "import io\n",
    "import time\n",
    "import os.path\n",
    "import os\n",
    "import random\n"
   ]
  },
  {
   "cell_type": "markdown",
   "id": "0d327f05-f898-4589-904a-fc4c32af74e6",
   "metadata": {
    "tags": []
   },
   "source": [
    "# opensubtitles.org"
   ]
  },
  {
   "cell_type": "markdown",
   "id": "efc33e9e-e65b-4025-98f3-a6655e86d734",
   "metadata": {
    "tags": []
   },
   "source": [
    "## Extraer contenido completo de la pagina"
   ]
  },
  {
   "cell_type": "code",
   "execution_count": null,
   "id": "f6c4df62-da21-4816-bbc5-8357a31ce871",
   "metadata": {},
   "outputs": [],
   "source": [
    "#https://www.opensubtitles.org/es/search/sublanguageid-spa/offset-40"
   ]
  },
  {
   "cell_type": "code",
   "execution_count": 40,
   "id": "96c5512d-514f-4c90-9f81-38f5815f7aa0",
   "metadata": {
    "tags": []
   },
   "outputs": [],
   "source": [
    "page1 = requests.get(\"https://www.opensubtitles.org/es/search/sublanguageid-spa\")\n",
    "\n",
    "\n",
    "with open('./Pagina1.txt', 'w',encoding='utf-8') as file1:\n",
    "    file1.write(page1.text)"
   ]
  },
  {
   "cell_type": "code",
   "execution_count": 15,
   "id": "7423dbec-fb09-4bf7-a215-9b7c9e5a362e",
   "metadata": {
    "tags": []
   },
   "outputs": [],
   "source": [
    "for n_page_open in range(20, 405988, 20):\n",
    "    page_20 = requests.get(\"https://www.opensubtitles.org/es/search/sublanguageid-spa/offset-{n_page_open}\")\n",
    "    with open(f'./Open_Subtitles/Pagina_{n_page_open}.txt', 'w',encoding='utf-8') as file1:\n",
    "        file1.write(page_20.text)\n"
   ]
  },
  {
   "cell_type": "code",
   "execution_count": 39,
   "id": "4ac001c8-8b88-445e-acf5-8d243212d608",
   "metadata": {
    "collapsed": true,
    "jupyter": {
     "outputs_hidden": true
    },
    "scrolled": true,
    "tags": []
   },
   "outputs": [
    {
     "ename": "ConnectionError",
     "evalue": "('Connection aborted.', ConnectionResetError(10054, 'Se ha forzado la interrupción de una conexión existente por el host remoto', None, 10054, None))",
     "output_type": "error",
     "traceback": [
      "\u001b[1;31m---------------------------------------------------------------------------\u001b[0m",
      "\u001b[1;31mConnectionResetError\u001b[0m                      Traceback (most recent call last)",
      "File \u001b[1;32m~\\anaconda3\\Lib\\site-packages\\urllib3\\connectionpool.py:791\u001b[0m, in \u001b[0;36mHTTPConnectionPool.urlopen\u001b[1;34m(self, method, url, body, headers, retries, redirect, assert_same_host, timeout, pool_timeout, release_conn, chunked, body_pos, preload_content, decode_content, **response_kw)\u001b[0m\n\u001b[0;32m    790\u001b[0m \u001b[38;5;66;03m# Make the request on the HTTPConnection object\u001b[39;00m\n\u001b[1;32m--> 791\u001b[0m response \u001b[38;5;241m=\u001b[39m \u001b[38;5;28mself\u001b[39m\u001b[38;5;241m.\u001b[39m_make_request(\n\u001b[0;32m    792\u001b[0m     conn,\n\u001b[0;32m    793\u001b[0m     method,\n\u001b[0;32m    794\u001b[0m     url,\n\u001b[0;32m    795\u001b[0m     timeout\u001b[38;5;241m=\u001b[39mtimeout_obj,\n\u001b[0;32m    796\u001b[0m     body\u001b[38;5;241m=\u001b[39mbody,\n\u001b[0;32m    797\u001b[0m     headers\u001b[38;5;241m=\u001b[39mheaders,\n\u001b[0;32m    798\u001b[0m     chunked\u001b[38;5;241m=\u001b[39mchunked,\n\u001b[0;32m    799\u001b[0m     retries\u001b[38;5;241m=\u001b[39mretries,\n\u001b[0;32m    800\u001b[0m     response_conn\u001b[38;5;241m=\u001b[39mresponse_conn,\n\u001b[0;32m    801\u001b[0m     preload_content\u001b[38;5;241m=\u001b[39mpreload_content,\n\u001b[0;32m    802\u001b[0m     decode_content\u001b[38;5;241m=\u001b[39mdecode_content,\n\u001b[0;32m    803\u001b[0m     \u001b[38;5;241m*\u001b[39m\u001b[38;5;241m*\u001b[39mresponse_kw,\n\u001b[0;32m    804\u001b[0m )\n\u001b[0;32m    806\u001b[0m \u001b[38;5;66;03m# Everything went great!\u001b[39;00m\n",
      "File \u001b[1;32m~\\anaconda3\\Lib\\site-packages\\urllib3\\connectionpool.py:492\u001b[0m, in \u001b[0;36mHTTPConnectionPool._make_request\u001b[1;34m(self, conn, method, url, body, headers, retries, timeout, chunked, response_conn, preload_content, decode_content, enforce_content_length)\u001b[0m\n\u001b[0;32m    491\u001b[0m         new_e \u001b[38;5;241m=\u001b[39m _wrap_proxy_error(new_e, conn\u001b[38;5;241m.\u001b[39mproxy\u001b[38;5;241m.\u001b[39mscheme)\n\u001b[1;32m--> 492\u001b[0m     \u001b[38;5;28;01mraise\u001b[39;00m new_e\n\u001b[0;32m    494\u001b[0m \u001b[38;5;66;03m# conn.request() calls http.client.*.request, not the method in\u001b[39;00m\n\u001b[0;32m    495\u001b[0m \u001b[38;5;66;03m# urllib3.request. It also calls makefile (recv) on the socket.\u001b[39;00m\n",
      "File \u001b[1;32m~\\anaconda3\\Lib\\site-packages\\urllib3\\connectionpool.py:468\u001b[0m, in \u001b[0;36mHTTPConnectionPool._make_request\u001b[1;34m(self, conn, method, url, body, headers, retries, timeout, chunked, response_conn, preload_content, decode_content, enforce_content_length)\u001b[0m\n\u001b[0;32m    467\u001b[0m \u001b[38;5;28;01mtry\u001b[39;00m:\n\u001b[1;32m--> 468\u001b[0m     \u001b[38;5;28mself\u001b[39m\u001b[38;5;241m.\u001b[39m_validate_conn(conn)\n\u001b[0;32m    469\u001b[0m \u001b[38;5;28;01mexcept\u001b[39;00m (SocketTimeout, BaseSSLError) \u001b[38;5;28;01mas\u001b[39;00m e:\n",
      "File \u001b[1;32m~\\anaconda3\\Lib\\site-packages\\urllib3\\connectionpool.py:1097\u001b[0m, in \u001b[0;36mHTTPSConnectionPool._validate_conn\u001b[1;34m(self, conn)\u001b[0m\n\u001b[0;32m   1096\u001b[0m \u001b[38;5;28;01mif\u001b[39;00m conn\u001b[38;5;241m.\u001b[39mis_closed:\n\u001b[1;32m-> 1097\u001b[0m     conn\u001b[38;5;241m.\u001b[39mconnect()\n\u001b[0;32m   1099\u001b[0m \u001b[38;5;28;01mif\u001b[39;00m \u001b[38;5;129;01mnot\u001b[39;00m conn\u001b[38;5;241m.\u001b[39mis_verified:\n",
      "File \u001b[1;32m~\\anaconda3\\Lib\\site-packages\\urllib3\\connection.py:642\u001b[0m, in \u001b[0;36mHTTPSConnection.connect\u001b[1;34m(self)\u001b[0m\n\u001b[0;32m    634\u001b[0m     warnings\u001b[38;5;241m.\u001b[39mwarn(\n\u001b[0;32m    635\u001b[0m         (\n\u001b[0;32m    636\u001b[0m             \u001b[38;5;124mf\u001b[39m\u001b[38;5;124m\"\u001b[39m\u001b[38;5;124mSystem time is way off (before \u001b[39m\u001b[38;5;132;01m{\u001b[39;00mRECENT_DATE\u001b[38;5;132;01m}\u001b[39;00m\u001b[38;5;124m). This will probably \u001b[39m\u001b[38;5;124m\"\u001b[39m\n\u001b[1;32m   (...)\u001b[0m\n\u001b[0;32m    639\u001b[0m         SystemTimeWarning,\n\u001b[0;32m    640\u001b[0m     )\n\u001b[1;32m--> 642\u001b[0m sock_and_verified \u001b[38;5;241m=\u001b[39m _ssl_wrap_socket_and_match_hostname(\n\u001b[0;32m    643\u001b[0m     sock\u001b[38;5;241m=\u001b[39msock,\n\u001b[0;32m    644\u001b[0m     cert_reqs\u001b[38;5;241m=\u001b[39m\u001b[38;5;28mself\u001b[39m\u001b[38;5;241m.\u001b[39mcert_reqs,\n\u001b[0;32m    645\u001b[0m     ssl_version\u001b[38;5;241m=\u001b[39m\u001b[38;5;28mself\u001b[39m\u001b[38;5;241m.\u001b[39mssl_version,\n\u001b[0;32m    646\u001b[0m     ssl_minimum_version\u001b[38;5;241m=\u001b[39m\u001b[38;5;28mself\u001b[39m\u001b[38;5;241m.\u001b[39mssl_minimum_version,\n\u001b[0;32m    647\u001b[0m     ssl_maximum_version\u001b[38;5;241m=\u001b[39m\u001b[38;5;28mself\u001b[39m\u001b[38;5;241m.\u001b[39mssl_maximum_version,\n\u001b[0;32m    648\u001b[0m     ca_certs\u001b[38;5;241m=\u001b[39m\u001b[38;5;28mself\u001b[39m\u001b[38;5;241m.\u001b[39mca_certs,\n\u001b[0;32m    649\u001b[0m     ca_cert_dir\u001b[38;5;241m=\u001b[39m\u001b[38;5;28mself\u001b[39m\u001b[38;5;241m.\u001b[39mca_cert_dir,\n\u001b[0;32m    650\u001b[0m     ca_cert_data\u001b[38;5;241m=\u001b[39m\u001b[38;5;28mself\u001b[39m\u001b[38;5;241m.\u001b[39mca_cert_data,\n\u001b[0;32m    651\u001b[0m     cert_file\u001b[38;5;241m=\u001b[39m\u001b[38;5;28mself\u001b[39m\u001b[38;5;241m.\u001b[39mcert_file,\n\u001b[0;32m    652\u001b[0m     key_file\u001b[38;5;241m=\u001b[39m\u001b[38;5;28mself\u001b[39m\u001b[38;5;241m.\u001b[39mkey_file,\n\u001b[0;32m    653\u001b[0m     key_password\u001b[38;5;241m=\u001b[39m\u001b[38;5;28mself\u001b[39m\u001b[38;5;241m.\u001b[39mkey_password,\n\u001b[0;32m    654\u001b[0m     server_hostname\u001b[38;5;241m=\u001b[39mserver_hostname,\n\u001b[0;32m    655\u001b[0m     ssl_context\u001b[38;5;241m=\u001b[39m\u001b[38;5;28mself\u001b[39m\u001b[38;5;241m.\u001b[39mssl_context,\n\u001b[0;32m    656\u001b[0m     tls_in_tls\u001b[38;5;241m=\u001b[39mtls_in_tls,\n\u001b[0;32m    657\u001b[0m     assert_hostname\u001b[38;5;241m=\u001b[39m\u001b[38;5;28mself\u001b[39m\u001b[38;5;241m.\u001b[39massert_hostname,\n\u001b[0;32m    658\u001b[0m     assert_fingerprint\u001b[38;5;241m=\u001b[39m\u001b[38;5;28mself\u001b[39m\u001b[38;5;241m.\u001b[39massert_fingerprint,\n\u001b[0;32m    659\u001b[0m )\n\u001b[0;32m    660\u001b[0m \u001b[38;5;28mself\u001b[39m\u001b[38;5;241m.\u001b[39msock \u001b[38;5;241m=\u001b[39m sock_and_verified\u001b[38;5;241m.\u001b[39msocket\n",
      "File \u001b[1;32m~\\anaconda3\\Lib\\site-packages\\urllib3\\connection.py:783\u001b[0m, in \u001b[0;36m_ssl_wrap_socket_and_match_hostname\u001b[1;34m(sock, cert_reqs, ssl_version, ssl_minimum_version, ssl_maximum_version, cert_file, key_file, key_password, ca_certs, ca_cert_dir, ca_cert_data, assert_hostname, assert_fingerprint, server_hostname, ssl_context, tls_in_tls)\u001b[0m\n\u001b[0;32m    781\u001b[0m         server_hostname \u001b[38;5;241m=\u001b[39m normalized\n\u001b[1;32m--> 783\u001b[0m ssl_sock \u001b[38;5;241m=\u001b[39m ssl_wrap_socket(\n\u001b[0;32m    784\u001b[0m     sock\u001b[38;5;241m=\u001b[39msock,\n\u001b[0;32m    785\u001b[0m     keyfile\u001b[38;5;241m=\u001b[39mkey_file,\n\u001b[0;32m    786\u001b[0m     certfile\u001b[38;5;241m=\u001b[39mcert_file,\n\u001b[0;32m    787\u001b[0m     key_password\u001b[38;5;241m=\u001b[39mkey_password,\n\u001b[0;32m    788\u001b[0m     ca_certs\u001b[38;5;241m=\u001b[39mca_certs,\n\u001b[0;32m    789\u001b[0m     ca_cert_dir\u001b[38;5;241m=\u001b[39mca_cert_dir,\n\u001b[0;32m    790\u001b[0m     ca_cert_data\u001b[38;5;241m=\u001b[39mca_cert_data,\n\u001b[0;32m    791\u001b[0m     server_hostname\u001b[38;5;241m=\u001b[39mserver_hostname,\n\u001b[0;32m    792\u001b[0m     ssl_context\u001b[38;5;241m=\u001b[39mcontext,\n\u001b[0;32m    793\u001b[0m     tls_in_tls\u001b[38;5;241m=\u001b[39mtls_in_tls,\n\u001b[0;32m    794\u001b[0m )\n\u001b[0;32m    796\u001b[0m \u001b[38;5;28;01mtry\u001b[39;00m:\n",
      "File \u001b[1;32m~\\anaconda3\\Lib\\site-packages\\urllib3\\util\\ssl_.py:471\u001b[0m, in \u001b[0;36mssl_wrap_socket\u001b[1;34m(sock, keyfile, certfile, cert_reqs, ca_certs, server_hostname, ssl_version, ciphers, ssl_context, ca_cert_dir, key_password, ca_cert_data, tls_in_tls)\u001b[0m\n\u001b[0;32m    469\u001b[0m     \u001b[38;5;28;01mpass\u001b[39;00m\n\u001b[1;32m--> 471\u001b[0m ssl_sock \u001b[38;5;241m=\u001b[39m _ssl_wrap_socket_impl(sock, context, tls_in_tls, server_hostname)\n\u001b[0;32m    472\u001b[0m \u001b[38;5;28;01mreturn\u001b[39;00m ssl_sock\n",
      "File \u001b[1;32m~\\anaconda3\\Lib\\site-packages\\urllib3\\util\\ssl_.py:515\u001b[0m, in \u001b[0;36m_ssl_wrap_socket_impl\u001b[1;34m(sock, ssl_context, tls_in_tls, server_hostname)\u001b[0m\n\u001b[0;32m    513\u001b[0m     \u001b[38;5;28;01mreturn\u001b[39;00m SSLTransport(sock, ssl_context, server_hostname)\n\u001b[1;32m--> 515\u001b[0m \u001b[38;5;28;01mreturn\u001b[39;00m ssl_context\u001b[38;5;241m.\u001b[39mwrap_socket(sock, server_hostname\u001b[38;5;241m=\u001b[39mserver_hostname)\n",
      "File \u001b[1;32m~\\anaconda3\\Lib\\ssl.py:517\u001b[0m, in \u001b[0;36mSSLContext.wrap_socket\u001b[1;34m(self, sock, server_side, do_handshake_on_connect, suppress_ragged_eofs, server_hostname, session)\u001b[0m\n\u001b[0;32m    511\u001b[0m \u001b[38;5;28;01mdef\u001b[39;00m \u001b[38;5;21mwrap_socket\u001b[39m(\u001b[38;5;28mself\u001b[39m, sock, server_side\u001b[38;5;241m=\u001b[39m\u001b[38;5;28;01mFalse\u001b[39;00m,\n\u001b[0;32m    512\u001b[0m                 do_handshake_on_connect\u001b[38;5;241m=\u001b[39m\u001b[38;5;28;01mTrue\u001b[39;00m,\n\u001b[0;32m    513\u001b[0m                 suppress_ragged_eofs\u001b[38;5;241m=\u001b[39m\u001b[38;5;28;01mTrue\u001b[39;00m,\n\u001b[0;32m    514\u001b[0m                 server_hostname\u001b[38;5;241m=\u001b[39m\u001b[38;5;28;01mNone\u001b[39;00m, session\u001b[38;5;241m=\u001b[39m\u001b[38;5;28;01mNone\u001b[39;00m):\n\u001b[0;32m    515\u001b[0m     \u001b[38;5;66;03m# SSLSocket class handles server_hostname encoding before it calls\u001b[39;00m\n\u001b[0;32m    516\u001b[0m     \u001b[38;5;66;03m# ctx._wrap_socket()\u001b[39;00m\n\u001b[1;32m--> 517\u001b[0m     \u001b[38;5;28;01mreturn\u001b[39;00m \u001b[38;5;28mself\u001b[39m\u001b[38;5;241m.\u001b[39msslsocket_class\u001b[38;5;241m.\u001b[39m_create(\n\u001b[0;32m    518\u001b[0m         sock\u001b[38;5;241m=\u001b[39msock,\n\u001b[0;32m    519\u001b[0m         server_side\u001b[38;5;241m=\u001b[39mserver_side,\n\u001b[0;32m    520\u001b[0m         do_handshake_on_connect\u001b[38;5;241m=\u001b[39mdo_handshake_on_connect,\n\u001b[0;32m    521\u001b[0m         suppress_ragged_eofs\u001b[38;5;241m=\u001b[39msuppress_ragged_eofs,\n\u001b[0;32m    522\u001b[0m         server_hostname\u001b[38;5;241m=\u001b[39mserver_hostname,\n\u001b[0;32m    523\u001b[0m         context\u001b[38;5;241m=\u001b[39m\u001b[38;5;28mself\u001b[39m,\n\u001b[0;32m    524\u001b[0m         session\u001b[38;5;241m=\u001b[39msession\n\u001b[0;32m    525\u001b[0m     )\n",
      "File \u001b[1;32m~\\anaconda3\\Lib\\ssl.py:1108\u001b[0m, in \u001b[0;36mSSLSocket._create\u001b[1;34m(cls, sock, server_side, do_handshake_on_connect, suppress_ragged_eofs, server_hostname, context, session)\u001b[0m\n\u001b[0;32m   1107\u001b[0m             \u001b[38;5;28;01mraise\u001b[39;00m \u001b[38;5;167;01mValueError\u001b[39;00m(\u001b[38;5;124m\"\u001b[39m\u001b[38;5;124mdo_handshake_on_connect should not be specified for non-blocking sockets\u001b[39m\u001b[38;5;124m\"\u001b[39m)\n\u001b[1;32m-> 1108\u001b[0m         \u001b[38;5;28mself\u001b[39m\u001b[38;5;241m.\u001b[39mdo_handshake()\n\u001b[0;32m   1109\u001b[0m \u001b[38;5;28;01mexcept\u001b[39;00m (\u001b[38;5;167;01mOSError\u001b[39;00m, \u001b[38;5;167;01mValueError\u001b[39;00m):\n",
      "File \u001b[1;32m~\\anaconda3\\Lib\\ssl.py:1383\u001b[0m, in \u001b[0;36mSSLSocket.do_handshake\u001b[1;34m(self, block)\u001b[0m\n\u001b[0;32m   1382\u001b[0m         \u001b[38;5;28mself\u001b[39m\u001b[38;5;241m.\u001b[39msettimeout(\u001b[38;5;28;01mNone\u001b[39;00m)\n\u001b[1;32m-> 1383\u001b[0m     \u001b[38;5;28mself\u001b[39m\u001b[38;5;241m.\u001b[39m_sslobj\u001b[38;5;241m.\u001b[39mdo_handshake()\n\u001b[0;32m   1384\u001b[0m \u001b[38;5;28;01mfinally\u001b[39;00m:\n",
      "\u001b[1;31mConnectionResetError\u001b[0m: [WinError 10054] Se ha forzado la interrupción de una conexión existente por el host remoto",
      "\nDuring handling of the above exception, another exception occurred:\n",
      "\u001b[1;31mProtocolError\u001b[0m                             Traceback (most recent call last)",
      "File \u001b[1;32m~\\anaconda3\\Lib\\site-packages\\requests\\adapters.py:486\u001b[0m, in \u001b[0;36mHTTPAdapter.send\u001b[1;34m(self, request, stream, timeout, verify, cert, proxies)\u001b[0m\n\u001b[0;32m    485\u001b[0m \u001b[38;5;28;01mtry\u001b[39;00m:\n\u001b[1;32m--> 486\u001b[0m     resp \u001b[38;5;241m=\u001b[39m conn\u001b[38;5;241m.\u001b[39murlopen(\n\u001b[0;32m    487\u001b[0m         method\u001b[38;5;241m=\u001b[39mrequest\u001b[38;5;241m.\u001b[39mmethod,\n\u001b[0;32m    488\u001b[0m         url\u001b[38;5;241m=\u001b[39murl,\n\u001b[0;32m    489\u001b[0m         body\u001b[38;5;241m=\u001b[39mrequest\u001b[38;5;241m.\u001b[39mbody,\n\u001b[0;32m    490\u001b[0m         headers\u001b[38;5;241m=\u001b[39mrequest\u001b[38;5;241m.\u001b[39mheaders,\n\u001b[0;32m    491\u001b[0m         redirect\u001b[38;5;241m=\u001b[39m\u001b[38;5;28;01mFalse\u001b[39;00m,\n\u001b[0;32m    492\u001b[0m         assert_same_host\u001b[38;5;241m=\u001b[39m\u001b[38;5;28;01mFalse\u001b[39;00m,\n\u001b[0;32m    493\u001b[0m         preload_content\u001b[38;5;241m=\u001b[39m\u001b[38;5;28;01mFalse\u001b[39;00m,\n\u001b[0;32m    494\u001b[0m         decode_content\u001b[38;5;241m=\u001b[39m\u001b[38;5;28;01mFalse\u001b[39;00m,\n\u001b[0;32m    495\u001b[0m         retries\u001b[38;5;241m=\u001b[39m\u001b[38;5;28mself\u001b[39m\u001b[38;5;241m.\u001b[39mmax_retries,\n\u001b[0;32m    496\u001b[0m         timeout\u001b[38;5;241m=\u001b[39mtimeout,\n\u001b[0;32m    497\u001b[0m         chunked\u001b[38;5;241m=\u001b[39mchunked,\n\u001b[0;32m    498\u001b[0m     )\n\u001b[0;32m    500\u001b[0m \u001b[38;5;28;01mexcept\u001b[39;00m (ProtocolError, \u001b[38;5;167;01mOSError\u001b[39;00m) \u001b[38;5;28;01mas\u001b[39;00m err:\n",
      "File \u001b[1;32m~\\anaconda3\\Lib\\site-packages\\urllib3\\connectionpool.py:845\u001b[0m, in \u001b[0;36mHTTPConnectionPool.urlopen\u001b[1;34m(self, method, url, body, headers, retries, redirect, assert_same_host, timeout, pool_timeout, release_conn, chunked, body_pos, preload_content, decode_content, **response_kw)\u001b[0m\n\u001b[0;32m    843\u001b[0m     new_e \u001b[38;5;241m=\u001b[39m ProtocolError(\u001b[38;5;124m\"\u001b[39m\u001b[38;5;124mConnection aborted.\u001b[39m\u001b[38;5;124m\"\u001b[39m, new_e)\n\u001b[1;32m--> 845\u001b[0m retries \u001b[38;5;241m=\u001b[39m retries\u001b[38;5;241m.\u001b[39mincrement(\n\u001b[0;32m    846\u001b[0m     method, url, error\u001b[38;5;241m=\u001b[39mnew_e, _pool\u001b[38;5;241m=\u001b[39m\u001b[38;5;28mself\u001b[39m, _stacktrace\u001b[38;5;241m=\u001b[39msys\u001b[38;5;241m.\u001b[39mexc_info()[\u001b[38;5;241m2\u001b[39m]\n\u001b[0;32m    847\u001b[0m )\n\u001b[0;32m    848\u001b[0m retries\u001b[38;5;241m.\u001b[39msleep()\n",
      "File \u001b[1;32m~\\anaconda3\\Lib\\site-packages\\urllib3\\util\\retry.py:470\u001b[0m, in \u001b[0;36mRetry.increment\u001b[1;34m(self, method, url, response, error, _pool, _stacktrace)\u001b[0m\n\u001b[0;32m    469\u001b[0m \u001b[38;5;28;01mif\u001b[39;00m read \u001b[38;5;129;01mis\u001b[39;00m \u001b[38;5;28;01mFalse\u001b[39;00m \u001b[38;5;129;01mor\u001b[39;00m method \u001b[38;5;129;01mis\u001b[39;00m \u001b[38;5;28;01mNone\u001b[39;00m \u001b[38;5;129;01mor\u001b[39;00m \u001b[38;5;129;01mnot\u001b[39;00m \u001b[38;5;28mself\u001b[39m\u001b[38;5;241m.\u001b[39m_is_method_retryable(method):\n\u001b[1;32m--> 470\u001b[0m     \u001b[38;5;28;01mraise\u001b[39;00m reraise(\u001b[38;5;28mtype\u001b[39m(error), error, _stacktrace)\n\u001b[0;32m    471\u001b[0m \u001b[38;5;28;01melif\u001b[39;00m read \u001b[38;5;129;01mis\u001b[39;00m \u001b[38;5;129;01mnot\u001b[39;00m \u001b[38;5;28;01mNone\u001b[39;00m:\n",
      "File \u001b[1;32m~\\anaconda3\\Lib\\site-packages\\urllib3\\util\\util.py:38\u001b[0m, in \u001b[0;36mreraise\u001b[1;34m(tp, value, tb)\u001b[0m\n\u001b[0;32m     37\u001b[0m \u001b[38;5;28;01mif\u001b[39;00m value\u001b[38;5;241m.\u001b[39m__traceback__ \u001b[38;5;129;01mis\u001b[39;00m \u001b[38;5;129;01mnot\u001b[39;00m tb:\n\u001b[1;32m---> 38\u001b[0m     \u001b[38;5;28;01mraise\u001b[39;00m value\u001b[38;5;241m.\u001b[39mwith_traceback(tb)\n\u001b[0;32m     39\u001b[0m \u001b[38;5;28;01mraise\u001b[39;00m value\n",
      "File \u001b[1;32m~\\anaconda3\\Lib\\site-packages\\urllib3\\connectionpool.py:791\u001b[0m, in \u001b[0;36mHTTPConnectionPool.urlopen\u001b[1;34m(self, method, url, body, headers, retries, redirect, assert_same_host, timeout, pool_timeout, release_conn, chunked, body_pos, preload_content, decode_content, **response_kw)\u001b[0m\n\u001b[0;32m    790\u001b[0m \u001b[38;5;66;03m# Make the request on the HTTPConnection object\u001b[39;00m\n\u001b[1;32m--> 791\u001b[0m response \u001b[38;5;241m=\u001b[39m \u001b[38;5;28mself\u001b[39m\u001b[38;5;241m.\u001b[39m_make_request(\n\u001b[0;32m    792\u001b[0m     conn,\n\u001b[0;32m    793\u001b[0m     method,\n\u001b[0;32m    794\u001b[0m     url,\n\u001b[0;32m    795\u001b[0m     timeout\u001b[38;5;241m=\u001b[39mtimeout_obj,\n\u001b[0;32m    796\u001b[0m     body\u001b[38;5;241m=\u001b[39mbody,\n\u001b[0;32m    797\u001b[0m     headers\u001b[38;5;241m=\u001b[39mheaders,\n\u001b[0;32m    798\u001b[0m     chunked\u001b[38;5;241m=\u001b[39mchunked,\n\u001b[0;32m    799\u001b[0m     retries\u001b[38;5;241m=\u001b[39mretries,\n\u001b[0;32m    800\u001b[0m     response_conn\u001b[38;5;241m=\u001b[39mresponse_conn,\n\u001b[0;32m    801\u001b[0m     preload_content\u001b[38;5;241m=\u001b[39mpreload_content,\n\u001b[0;32m    802\u001b[0m     decode_content\u001b[38;5;241m=\u001b[39mdecode_content,\n\u001b[0;32m    803\u001b[0m     \u001b[38;5;241m*\u001b[39m\u001b[38;5;241m*\u001b[39mresponse_kw,\n\u001b[0;32m    804\u001b[0m )\n\u001b[0;32m    806\u001b[0m \u001b[38;5;66;03m# Everything went great!\u001b[39;00m\n",
      "File \u001b[1;32m~\\anaconda3\\Lib\\site-packages\\urllib3\\connectionpool.py:492\u001b[0m, in \u001b[0;36mHTTPConnectionPool._make_request\u001b[1;34m(self, conn, method, url, body, headers, retries, timeout, chunked, response_conn, preload_content, decode_content, enforce_content_length)\u001b[0m\n\u001b[0;32m    491\u001b[0m         new_e \u001b[38;5;241m=\u001b[39m _wrap_proxy_error(new_e, conn\u001b[38;5;241m.\u001b[39mproxy\u001b[38;5;241m.\u001b[39mscheme)\n\u001b[1;32m--> 492\u001b[0m     \u001b[38;5;28;01mraise\u001b[39;00m new_e\n\u001b[0;32m    494\u001b[0m \u001b[38;5;66;03m# conn.request() calls http.client.*.request, not the method in\u001b[39;00m\n\u001b[0;32m    495\u001b[0m \u001b[38;5;66;03m# urllib3.request. It also calls makefile (recv) on the socket.\u001b[39;00m\n",
      "File \u001b[1;32m~\\anaconda3\\Lib\\site-packages\\urllib3\\connectionpool.py:468\u001b[0m, in \u001b[0;36mHTTPConnectionPool._make_request\u001b[1;34m(self, conn, method, url, body, headers, retries, timeout, chunked, response_conn, preload_content, decode_content, enforce_content_length)\u001b[0m\n\u001b[0;32m    467\u001b[0m \u001b[38;5;28;01mtry\u001b[39;00m:\n\u001b[1;32m--> 468\u001b[0m     \u001b[38;5;28mself\u001b[39m\u001b[38;5;241m.\u001b[39m_validate_conn(conn)\n\u001b[0;32m    469\u001b[0m \u001b[38;5;28;01mexcept\u001b[39;00m (SocketTimeout, BaseSSLError) \u001b[38;5;28;01mas\u001b[39;00m e:\n",
      "File \u001b[1;32m~\\anaconda3\\Lib\\site-packages\\urllib3\\connectionpool.py:1097\u001b[0m, in \u001b[0;36mHTTPSConnectionPool._validate_conn\u001b[1;34m(self, conn)\u001b[0m\n\u001b[0;32m   1096\u001b[0m \u001b[38;5;28;01mif\u001b[39;00m conn\u001b[38;5;241m.\u001b[39mis_closed:\n\u001b[1;32m-> 1097\u001b[0m     conn\u001b[38;5;241m.\u001b[39mconnect()\n\u001b[0;32m   1099\u001b[0m \u001b[38;5;28;01mif\u001b[39;00m \u001b[38;5;129;01mnot\u001b[39;00m conn\u001b[38;5;241m.\u001b[39mis_verified:\n",
      "File \u001b[1;32m~\\anaconda3\\Lib\\site-packages\\urllib3\\connection.py:642\u001b[0m, in \u001b[0;36mHTTPSConnection.connect\u001b[1;34m(self)\u001b[0m\n\u001b[0;32m    634\u001b[0m     warnings\u001b[38;5;241m.\u001b[39mwarn(\n\u001b[0;32m    635\u001b[0m         (\n\u001b[0;32m    636\u001b[0m             \u001b[38;5;124mf\u001b[39m\u001b[38;5;124m\"\u001b[39m\u001b[38;5;124mSystem time is way off (before \u001b[39m\u001b[38;5;132;01m{\u001b[39;00mRECENT_DATE\u001b[38;5;132;01m}\u001b[39;00m\u001b[38;5;124m). This will probably \u001b[39m\u001b[38;5;124m\"\u001b[39m\n\u001b[1;32m   (...)\u001b[0m\n\u001b[0;32m    639\u001b[0m         SystemTimeWarning,\n\u001b[0;32m    640\u001b[0m     )\n\u001b[1;32m--> 642\u001b[0m sock_and_verified \u001b[38;5;241m=\u001b[39m _ssl_wrap_socket_and_match_hostname(\n\u001b[0;32m    643\u001b[0m     sock\u001b[38;5;241m=\u001b[39msock,\n\u001b[0;32m    644\u001b[0m     cert_reqs\u001b[38;5;241m=\u001b[39m\u001b[38;5;28mself\u001b[39m\u001b[38;5;241m.\u001b[39mcert_reqs,\n\u001b[0;32m    645\u001b[0m     ssl_version\u001b[38;5;241m=\u001b[39m\u001b[38;5;28mself\u001b[39m\u001b[38;5;241m.\u001b[39mssl_version,\n\u001b[0;32m    646\u001b[0m     ssl_minimum_version\u001b[38;5;241m=\u001b[39m\u001b[38;5;28mself\u001b[39m\u001b[38;5;241m.\u001b[39mssl_minimum_version,\n\u001b[0;32m    647\u001b[0m     ssl_maximum_version\u001b[38;5;241m=\u001b[39m\u001b[38;5;28mself\u001b[39m\u001b[38;5;241m.\u001b[39mssl_maximum_version,\n\u001b[0;32m    648\u001b[0m     ca_certs\u001b[38;5;241m=\u001b[39m\u001b[38;5;28mself\u001b[39m\u001b[38;5;241m.\u001b[39mca_certs,\n\u001b[0;32m    649\u001b[0m     ca_cert_dir\u001b[38;5;241m=\u001b[39m\u001b[38;5;28mself\u001b[39m\u001b[38;5;241m.\u001b[39mca_cert_dir,\n\u001b[0;32m    650\u001b[0m     ca_cert_data\u001b[38;5;241m=\u001b[39m\u001b[38;5;28mself\u001b[39m\u001b[38;5;241m.\u001b[39mca_cert_data,\n\u001b[0;32m    651\u001b[0m     cert_file\u001b[38;5;241m=\u001b[39m\u001b[38;5;28mself\u001b[39m\u001b[38;5;241m.\u001b[39mcert_file,\n\u001b[0;32m    652\u001b[0m     key_file\u001b[38;5;241m=\u001b[39m\u001b[38;5;28mself\u001b[39m\u001b[38;5;241m.\u001b[39mkey_file,\n\u001b[0;32m    653\u001b[0m     key_password\u001b[38;5;241m=\u001b[39m\u001b[38;5;28mself\u001b[39m\u001b[38;5;241m.\u001b[39mkey_password,\n\u001b[0;32m    654\u001b[0m     server_hostname\u001b[38;5;241m=\u001b[39mserver_hostname,\n\u001b[0;32m    655\u001b[0m     ssl_context\u001b[38;5;241m=\u001b[39m\u001b[38;5;28mself\u001b[39m\u001b[38;5;241m.\u001b[39mssl_context,\n\u001b[0;32m    656\u001b[0m     tls_in_tls\u001b[38;5;241m=\u001b[39mtls_in_tls,\n\u001b[0;32m    657\u001b[0m     assert_hostname\u001b[38;5;241m=\u001b[39m\u001b[38;5;28mself\u001b[39m\u001b[38;5;241m.\u001b[39massert_hostname,\n\u001b[0;32m    658\u001b[0m     assert_fingerprint\u001b[38;5;241m=\u001b[39m\u001b[38;5;28mself\u001b[39m\u001b[38;5;241m.\u001b[39massert_fingerprint,\n\u001b[0;32m    659\u001b[0m )\n\u001b[0;32m    660\u001b[0m \u001b[38;5;28mself\u001b[39m\u001b[38;5;241m.\u001b[39msock \u001b[38;5;241m=\u001b[39m sock_and_verified\u001b[38;5;241m.\u001b[39msocket\n",
      "File \u001b[1;32m~\\anaconda3\\Lib\\site-packages\\urllib3\\connection.py:783\u001b[0m, in \u001b[0;36m_ssl_wrap_socket_and_match_hostname\u001b[1;34m(sock, cert_reqs, ssl_version, ssl_minimum_version, ssl_maximum_version, cert_file, key_file, key_password, ca_certs, ca_cert_dir, ca_cert_data, assert_hostname, assert_fingerprint, server_hostname, ssl_context, tls_in_tls)\u001b[0m\n\u001b[0;32m    781\u001b[0m         server_hostname \u001b[38;5;241m=\u001b[39m normalized\n\u001b[1;32m--> 783\u001b[0m ssl_sock \u001b[38;5;241m=\u001b[39m ssl_wrap_socket(\n\u001b[0;32m    784\u001b[0m     sock\u001b[38;5;241m=\u001b[39msock,\n\u001b[0;32m    785\u001b[0m     keyfile\u001b[38;5;241m=\u001b[39mkey_file,\n\u001b[0;32m    786\u001b[0m     certfile\u001b[38;5;241m=\u001b[39mcert_file,\n\u001b[0;32m    787\u001b[0m     key_password\u001b[38;5;241m=\u001b[39mkey_password,\n\u001b[0;32m    788\u001b[0m     ca_certs\u001b[38;5;241m=\u001b[39mca_certs,\n\u001b[0;32m    789\u001b[0m     ca_cert_dir\u001b[38;5;241m=\u001b[39mca_cert_dir,\n\u001b[0;32m    790\u001b[0m     ca_cert_data\u001b[38;5;241m=\u001b[39mca_cert_data,\n\u001b[0;32m    791\u001b[0m     server_hostname\u001b[38;5;241m=\u001b[39mserver_hostname,\n\u001b[0;32m    792\u001b[0m     ssl_context\u001b[38;5;241m=\u001b[39mcontext,\n\u001b[0;32m    793\u001b[0m     tls_in_tls\u001b[38;5;241m=\u001b[39mtls_in_tls,\n\u001b[0;32m    794\u001b[0m )\n\u001b[0;32m    796\u001b[0m \u001b[38;5;28;01mtry\u001b[39;00m:\n",
      "File \u001b[1;32m~\\anaconda3\\Lib\\site-packages\\urllib3\\util\\ssl_.py:471\u001b[0m, in \u001b[0;36mssl_wrap_socket\u001b[1;34m(sock, keyfile, certfile, cert_reqs, ca_certs, server_hostname, ssl_version, ciphers, ssl_context, ca_cert_dir, key_password, ca_cert_data, tls_in_tls)\u001b[0m\n\u001b[0;32m    469\u001b[0m     \u001b[38;5;28;01mpass\u001b[39;00m\n\u001b[1;32m--> 471\u001b[0m ssl_sock \u001b[38;5;241m=\u001b[39m _ssl_wrap_socket_impl(sock, context, tls_in_tls, server_hostname)\n\u001b[0;32m    472\u001b[0m \u001b[38;5;28;01mreturn\u001b[39;00m ssl_sock\n",
      "File \u001b[1;32m~\\anaconda3\\Lib\\site-packages\\urllib3\\util\\ssl_.py:515\u001b[0m, in \u001b[0;36m_ssl_wrap_socket_impl\u001b[1;34m(sock, ssl_context, tls_in_tls, server_hostname)\u001b[0m\n\u001b[0;32m    513\u001b[0m     \u001b[38;5;28;01mreturn\u001b[39;00m SSLTransport(sock, ssl_context, server_hostname)\n\u001b[1;32m--> 515\u001b[0m \u001b[38;5;28;01mreturn\u001b[39;00m ssl_context\u001b[38;5;241m.\u001b[39mwrap_socket(sock, server_hostname\u001b[38;5;241m=\u001b[39mserver_hostname)\n",
      "File \u001b[1;32m~\\anaconda3\\Lib\\ssl.py:517\u001b[0m, in \u001b[0;36mSSLContext.wrap_socket\u001b[1;34m(self, sock, server_side, do_handshake_on_connect, suppress_ragged_eofs, server_hostname, session)\u001b[0m\n\u001b[0;32m    511\u001b[0m \u001b[38;5;28;01mdef\u001b[39;00m \u001b[38;5;21mwrap_socket\u001b[39m(\u001b[38;5;28mself\u001b[39m, sock, server_side\u001b[38;5;241m=\u001b[39m\u001b[38;5;28;01mFalse\u001b[39;00m,\n\u001b[0;32m    512\u001b[0m                 do_handshake_on_connect\u001b[38;5;241m=\u001b[39m\u001b[38;5;28;01mTrue\u001b[39;00m,\n\u001b[0;32m    513\u001b[0m                 suppress_ragged_eofs\u001b[38;5;241m=\u001b[39m\u001b[38;5;28;01mTrue\u001b[39;00m,\n\u001b[0;32m    514\u001b[0m                 server_hostname\u001b[38;5;241m=\u001b[39m\u001b[38;5;28;01mNone\u001b[39;00m, session\u001b[38;5;241m=\u001b[39m\u001b[38;5;28;01mNone\u001b[39;00m):\n\u001b[0;32m    515\u001b[0m     \u001b[38;5;66;03m# SSLSocket class handles server_hostname encoding before it calls\u001b[39;00m\n\u001b[0;32m    516\u001b[0m     \u001b[38;5;66;03m# ctx._wrap_socket()\u001b[39;00m\n\u001b[1;32m--> 517\u001b[0m     \u001b[38;5;28;01mreturn\u001b[39;00m \u001b[38;5;28mself\u001b[39m\u001b[38;5;241m.\u001b[39msslsocket_class\u001b[38;5;241m.\u001b[39m_create(\n\u001b[0;32m    518\u001b[0m         sock\u001b[38;5;241m=\u001b[39msock,\n\u001b[0;32m    519\u001b[0m         server_side\u001b[38;5;241m=\u001b[39mserver_side,\n\u001b[0;32m    520\u001b[0m         do_handshake_on_connect\u001b[38;5;241m=\u001b[39mdo_handshake_on_connect,\n\u001b[0;32m    521\u001b[0m         suppress_ragged_eofs\u001b[38;5;241m=\u001b[39msuppress_ragged_eofs,\n\u001b[0;32m    522\u001b[0m         server_hostname\u001b[38;5;241m=\u001b[39mserver_hostname,\n\u001b[0;32m    523\u001b[0m         context\u001b[38;5;241m=\u001b[39m\u001b[38;5;28mself\u001b[39m,\n\u001b[0;32m    524\u001b[0m         session\u001b[38;5;241m=\u001b[39msession\n\u001b[0;32m    525\u001b[0m     )\n",
      "File \u001b[1;32m~\\anaconda3\\Lib\\ssl.py:1108\u001b[0m, in \u001b[0;36mSSLSocket._create\u001b[1;34m(cls, sock, server_side, do_handshake_on_connect, suppress_ragged_eofs, server_hostname, context, session)\u001b[0m\n\u001b[0;32m   1107\u001b[0m             \u001b[38;5;28;01mraise\u001b[39;00m \u001b[38;5;167;01mValueError\u001b[39;00m(\u001b[38;5;124m\"\u001b[39m\u001b[38;5;124mdo_handshake_on_connect should not be specified for non-blocking sockets\u001b[39m\u001b[38;5;124m\"\u001b[39m)\n\u001b[1;32m-> 1108\u001b[0m         \u001b[38;5;28mself\u001b[39m\u001b[38;5;241m.\u001b[39mdo_handshake()\n\u001b[0;32m   1109\u001b[0m \u001b[38;5;28;01mexcept\u001b[39;00m (\u001b[38;5;167;01mOSError\u001b[39;00m, \u001b[38;5;167;01mValueError\u001b[39;00m):\n",
      "File \u001b[1;32m~\\anaconda3\\Lib\\ssl.py:1383\u001b[0m, in \u001b[0;36mSSLSocket.do_handshake\u001b[1;34m(self, block)\u001b[0m\n\u001b[0;32m   1382\u001b[0m         \u001b[38;5;28mself\u001b[39m\u001b[38;5;241m.\u001b[39msettimeout(\u001b[38;5;28;01mNone\u001b[39;00m)\n\u001b[1;32m-> 1383\u001b[0m     \u001b[38;5;28mself\u001b[39m\u001b[38;5;241m.\u001b[39m_sslobj\u001b[38;5;241m.\u001b[39mdo_handshake()\n\u001b[0;32m   1384\u001b[0m \u001b[38;5;28;01mfinally\u001b[39;00m:\n",
      "\u001b[1;31mProtocolError\u001b[0m: ('Connection aborted.', ConnectionResetError(10054, 'Se ha forzado la interrupción de una conexión existente por el host remoto', None, 10054, None))",
      "\nDuring handling of the above exception, another exception occurred:\n",
      "\u001b[1;31mConnectionError\u001b[0m                           Traceback (most recent call last)",
      "Cell \u001b[1;32mIn[39], line 7\u001b[0m\n\u001b[0;32m      4\u001b[0m url_titles_id_name \u001b[38;5;241m=\u001b[39m[]\n\u001b[0;32m      6\u001b[0m page_content_raw \u001b[38;5;241m=\u001b[39m \u001b[38;5;124m'\u001b[39m\u001b[38;5;124m'\u001b[39m\n\u001b[1;32m----> 7\u001b[0m page_content_raw \u001b[38;5;241m=\u001b[39m requests\u001b[38;5;241m.\u001b[39mget(\u001b[38;5;124mf\u001b[39m\u001b[38;5;124m\"\u001b[39m\u001b[38;5;124mhttps://www.opensubtitles.org/es/search/sublanguageid-spa/offset-\u001b[39m\u001b[38;5;132;01m{\u001b[39;00mn_page_open\u001b[38;5;132;01m}\u001b[39;00m\u001b[38;5;124m\"\u001b[39m)\n\u001b[0;32m      8\u001b[0m \u001b[38;5;66;03m#print(f\"https://www.opensubtitles.org/es/search/sublanguageid-spa/offset-{n_page_open}\")\u001b[39;00m\n\u001b[0;32m     10\u001b[0m url_titles_id_name \u001b[38;5;241m=\u001b[39m re\u001b[38;5;241m.\u001b[39mfindall(\u001b[38;5;124mr\u001b[39m\u001b[38;5;124m'\u001b[39m\u001b[38;5;124mhref=\u001b[39m\u001b[38;5;124m\"\u001b[39m\u001b[38;5;124m/es/subtitles/[0-9]\u001b[39m\u001b[38;5;124m{\u001b[39m\u001b[38;5;124m1,20}\u001b[39m\u001b[38;5;124m'\u001b[39m, page_content_raw\u001b[38;5;241m.\u001b[39mtext)\n",
      "File \u001b[1;32m~\\anaconda3\\Lib\\site-packages\\requests\\api.py:73\u001b[0m, in \u001b[0;36mget\u001b[1;34m(url, params, **kwargs)\u001b[0m\n\u001b[0;32m     62\u001b[0m \u001b[38;5;28;01mdef\u001b[39;00m \u001b[38;5;21mget\u001b[39m(url, params\u001b[38;5;241m=\u001b[39m\u001b[38;5;28;01mNone\u001b[39;00m, \u001b[38;5;241m*\u001b[39m\u001b[38;5;241m*\u001b[39mkwargs):\n\u001b[0;32m     63\u001b[0m \u001b[38;5;250m    \u001b[39m\u001b[38;5;124mr\u001b[39m\u001b[38;5;124;03m\"\"\"Sends a GET request.\u001b[39;00m\n\u001b[0;32m     64\u001b[0m \n\u001b[0;32m     65\u001b[0m \u001b[38;5;124;03m    :param url: URL for the new :class:`Request` object.\u001b[39;00m\n\u001b[1;32m   (...)\u001b[0m\n\u001b[0;32m     70\u001b[0m \u001b[38;5;124;03m    :rtype: requests.Response\u001b[39;00m\n\u001b[0;32m     71\u001b[0m \u001b[38;5;124;03m    \"\"\"\u001b[39;00m\n\u001b[1;32m---> 73\u001b[0m     \u001b[38;5;28;01mreturn\u001b[39;00m request(\u001b[38;5;124m\"\u001b[39m\u001b[38;5;124mget\u001b[39m\u001b[38;5;124m\"\u001b[39m, url, params\u001b[38;5;241m=\u001b[39mparams, \u001b[38;5;241m*\u001b[39m\u001b[38;5;241m*\u001b[39mkwargs)\n",
      "File \u001b[1;32m~\\anaconda3\\Lib\\site-packages\\requests\\api.py:59\u001b[0m, in \u001b[0;36mrequest\u001b[1;34m(method, url, **kwargs)\u001b[0m\n\u001b[0;32m     55\u001b[0m \u001b[38;5;66;03m# By using the 'with' statement we are sure the session is closed, thus we\u001b[39;00m\n\u001b[0;32m     56\u001b[0m \u001b[38;5;66;03m# avoid leaving sockets open which can trigger a ResourceWarning in some\u001b[39;00m\n\u001b[0;32m     57\u001b[0m \u001b[38;5;66;03m# cases, and look like a memory leak in others.\u001b[39;00m\n\u001b[0;32m     58\u001b[0m \u001b[38;5;28;01mwith\u001b[39;00m sessions\u001b[38;5;241m.\u001b[39mSession() \u001b[38;5;28;01mas\u001b[39;00m session:\n\u001b[1;32m---> 59\u001b[0m     \u001b[38;5;28;01mreturn\u001b[39;00m session\u001b[38;5;241m.\u001b[39mrequest(method\u001b[38;5;241m=\u001b[39mmethod, url\u001b[38;5;241m=\u001b[39murl, \u001b[38;5;241m*\u001b[39m\u001b[38;5;241m*\u001b[39mkwargs)\n",
      "File \u001b[1;32m~\\anaconda3\\Lib\\site-packages\\requests\\sessions.py:589\u001b[0m, in \u001b[0;36mSession.request\u001b[1;34m(self, method, url, params, data, headers, cookies, files, auth, timeout, allow_redirects, proxies, hooks, stream, verify, cert, json)\u001b[0m\n\u001b[0;32m    584\u001b[0m send_kwargs \u001b[38;5;241m=\u001b[39m {\n\u001b[0;32m    585\u001b[0m     \u001b[38;5;124m\"\u001b[39m\u001b[38;5;124mtimeout\u001b[39m\u001b[38;5;124m\"\u001b[39m: timeout,\n\u001b[0;32m    586\u001b[0m     \u001b[38;5;124m\"\u001b[39m\u001b[38;5;124mallow_redirects\u001b[39m\u001b[38;5;124m\"\u001b[39m: allow_redirects,\n\u001b[0;32m    587\u001b[0m }\n\u001b[0;32m    588\u001b[0m send_kwargs\u001b[38;5;241m.\u001b[39mupdate(settings)\n\u001b[1;32m--> 589\u001b[0m resp \u001b[38;5;241m=\u001b[39m \u001b[38;5;28mself\u001b[39m\u001b[38;5;241m.\u001b[39msend(prep, \u001b[38;5;241m*\u001b[39m\u001b[38;5;241m*\u001b[39msend_kwargs)\n\u001b[0;32m    591\u001b[0m \u001b[38;5;28;01mreturn\u001b[39;00m resp\n",
      "File \u001b[1;32m~\\anaconda3\\Lib\\site-packages\\requests\\sessions.py:703\u001b[0m, in \u001b[0;36mSession.send\u001b[1;34m(self, request, **kwargs)\u001b[0m\n\u001b[0;32m    700\u001b[0m start \u001b[38;5;241m=\u001b[39m preferred_clock()\n\u001b[0;32m    702\u001b[0m \u001b[38;5;66;03m# Send the request\u001b[39;00m\n\u001b[1;32m--> 703\u001b[0m r \u001b[38;5;241m=\u001b[39m adapter\u001b[38;5;241m.\u001b[39msend(request, \u001b[38;5;241m*\u001b[39m\u001b[38;5;241m*\u001b[39mkwargs)\n\u001b[0;32m    705\u001b[0m \u001b[38;5;66;03m# Total elapsed time of the request (approximately)\u001b[39;00m\n\u001b[0;32m    706\u001b[0m elapsed \u001b[38;5;241m=\u001b[39m preferred_clock() \u001b[38;5;241m-\u001b[39m start\n",
      "File \u001b[1;32m~\\anaconda3\\Lib\\site-packages\\requests\\adapters.py:501\u001b[0m, in \u001b[0;36mHTTPAdapter.send\u001b[1;34m(self, request, stream, timeout, verify, cert, proxies)\u001b[0m\n\u001b[0;32m    486\u001b[0m     resp \u001b[38;5;241m=\u001b[39m conn\u001b[38;5;241m.\u001b[39murlopen(\n\u001b[0;32m    487\u001b[0m         method\u001b[38;5;241m=\u001b[39mrequest\u001b[38;5;241m.\u001b[39mmethod,\n\u001b[0;32m    488\u001b[0m         url\u001b[38;5;241m=\u001b[39murl,\n\u001b[1;32m   (...)\u001b[0m\n\u001b[0;32m    497\u001b[0m         chunked\u001b[38;5;241m=\u001b[39mchunked,\n\u001b[0;32m    498\u001b[0m     )\n\u001b[0;32m    500\u001b[0m \u001b[38;5;28;01mexcept\u001b[39;00m (ProtocolError, \u001b[38;5;167;01mOSError\u001b[39;00m) \u001b[38;5;28;01mas\u001b[39;00m err:\n\u001b[1;32m--> 501\u001b[0m     \u001b[38;5;28;01mraise\u001b[39;00m \u001b[38;5;167;01mConnectionError\u001b[39;00m(err, request\u001b[38;5;241m=\u001b[39mrequest)\n\u001b[0;32m    503\u001b[0m \u001b[38;5;28;01mexcept\u001b[39;00m MaxRetryError \u001b[38;5;28;01mas\u001b[39;00m e:\n\u001b[0;32m    504\u001b[0m     \u001b[38;5;28;01mif\u001b[39;00m \u001b[38;5;28misinstance\u001b[39m(e\u001b[38;5;241m.\u001b[39mreason, ConnectTimeoutError):\n\u001b[0;32m    505\u001b[0m         \u001b[38;5;66;03m# TODO: Remove this in 3.0.0: see #2811\u001b[39;00m\n",
      "\u001b[1;31mConnectionError\u001b[0m: ('Connection aborted.', ConnectionResetError(10054, 'Se ha forzado la interrupción de una conexión existente por el host remoto', None, 10054, None))"
     ]
    }
   ],
   "source": [
    "lista_url_full_titles=[]\n",
    "lista_id_all =[]\n",
    "for n_page_open in range(40, 406008, 40):\n",
    "    url_titles_id_name =[]\n",
    "    \n",
    "    page_content_raw = ''\n",
    "    page_content_raw = requests.get(f\"https://www.opensubtitles.org/es/search/sublanguageid-spa/offset-{n_page_open}\")\n",
    "    #print(f\"https://www.opensubtitles.org/es/search/sublanguageid-spa/offset-{n_page_open}\")\n",
    "    \n",
    "    url_titles_id_name = re.findall(r'href=\"/es/subtitles/[0-9]{1,20}', page_content_raw.text)\n",
    "    #print(len(set(url_titles_id_name)))\n",
    "    \n",
    "    \n",
    "    \n",
    "    #lista_id_all.extend(url_titles_id_name)\n",
    "    \n",
    "    with open(f'./Open_Subtitles/Pagina_{n_page_open}.txt','w', encoding='utf-8') as file_page_id:\n",
    "        file_page_id.write(\" ' \".join(url_titles_id_name))\n",
    "    \n",
    "\n",
    "    \n",
    "\n",
    "    "
   ]
  },
  {
   "cell_type": "code",
   "execution_count": null,
   "id": "735d33ce-9741-4cb3-9af5-3e1124c79aaf",
   "metadata": {},
   "outputs": [],
   "source": []
  },
  {
   "cell_type": "code",
   "execution_count": null,
   "id": "b8af26f5-02e1-47c4-9ea2-9be883464ca1",
   "metadata": {},
   "outputs": [],
   "source": []
  },
  {
   "cell_type": "markdown",
   "id": "615fb218-21f1-4913-a9d6-bbf2b81666b9",
   "metadata": {
    "tags": []
   },
   "source": [
    "## Extraer los id de los titulos usando regex y Crear la URL de descarga usando el id"
   ]
  },
  {
   "cell_type": "code",
   "execution_count": 2,
   "id": "19141f96-a135-4f82-b9ad-71f426c22d4f",
   "metadata": {
    "tags": []
   },
   "outputs": [],
   "source": [
    "lista_id_titulos = []\n",
    "lista_url_full_titles= []\n",
    "url_titles_id_name=''\n",
    "\n",
    "\n",
    "for pages_20 in glob.glob('./Open_Subtitles/*'):\n",
    "    with open(pages_20, 'r', encoding='utf-8') as file_full:\n",
    "        text_raw = file_full.read()\n",
    "\n",
    "        url_titles_id_name = re.findall(r'href=\"/es/subtitles/[0-9]{1,20}', text_raw)\n",
    "\n",
    "        #print(url_titles_id_name)\n",
    "        \n",
    "        \n",
    "        lista_id_titulos.extend(url_titles_id_name)\n",
    "        #print(titles)\n",
    "\n",
    "\n",
    "        ## href=\"/es/subtitles/12794379/dreamboat-es\">\n",
    "        #https://www.opensubtitles.org\n",
    "        \n",
    "for titles_n in lista_id_titulos:\n",
    "\n",
    "    titles_n = re.sub(r'href=\"','', titles_n)\n",
    "    titles_n = re.sub('/es/subtitles/','', titles_n)\n",
    "\n",
    "    #print('https://www.opensubtitles.org'+titles_n)\n",
    "    lista_url_full_titles.append('https://dl.opensubtitles.org/es/download/sub/'+titles_n)\n",
    "#print(lista_url_full_titles)"
   ]
  },
  {
   "cell_type": "code",
   "execution_count": 5,
   "id": "7b147d64-6571-4f5e-8a0d-71b0f39b70b8",
   "metadata": {
    "tags": []
   },
   "outputs": [
    {
     "name": "stdout",
     "output_type": "stream",
     "text": [
      "['https://dl.opensubtitles.org/es/download/sub/12793474', 'https://dl.opensubtitles.org/es/download/sub/12793473', 'https://dl.opensubtitles.org/es/download/sub/12793472', 'https://dl.opensubtitles.org/es/download/sub/12793471', 'https://dl.opensubtitles.org/es/download/sub/12793470', 'https://dl.opensubtitles.org/es/download/sub/12793469', 'https://dl.opensubtitles.org/es/download/sub/12793468', 'https://dl.opensubtitles.org/es/download/sub/12793467', 'https://dl.opensubtitles.org/es/download/sub/12793466', 'https://dl.opensubtitles.org/es/download/sub/12793465']\n"
     ]
    }
   ],
   "source": [
    "print(lista_url_full_titles[0:10])"
   ]
  },
  {
   "cell_type": "markdown",
   "id": "4bd9a1b6-6db7-4374-a83a-28a19d6c9fab",
   "metadata": {
    "tags": []
   },
   "source": [
    "## Descargar contenido del zip"
   ]
  },
  {
   "cell_type": "code",
   "execution_count": null,
   "id": "799bf659-2e0d-49f7-b5bd-24a0e81ebc2c",
   "metadata": {
    "tags": []
   },
   "outputs": [],
   "source": []
  },
  {
   "cell_type": "code",
   "execution_count": 6,
   "id": "5ffae6fa-a602-4d18-9150-559b2fd29953",
   "metadata": {
    "tags": []
   },
   "outputs": [],
   "source": [
    "lista_url_full_titles = list(set(lista_url_full_titles))"
   ]
  },
  {
   "cell_type": "code",
   "execution_count": 7,
   "id": "5ad7f4ce-c0f1-478b-8b82-7022957bcd67",
   "metadata": {
    "tags": []
   },
   "outputs": [
    {
     "data": {
      "text/plain": [
       "960"
      ]
     },
     "execution_count": 7,
     "metadata": {},
     "output_type": "execute_result"
    }
   ],
   "source": [
    "len(lista_url_full_titles)\n",
    "        "
   ]
  },
  {
   "cell_type": "code",
   "execution_count": 7,
   "id": "6d2bd414-3c27-4fe5-bae9-ca3b51e4d9ed",
   "metadata": {
    "tags": []
   },
   "outputs": [
    {
     "data": {
      "text/plain": [
       "'https://dl.opensubtitles.org/es/download/sub/12799703'"
      ]
     },
     "execution_count": 7,
     "metadata": {},
     "output_type": "execute_result"
    }
   ],
   "source": [
    "lista_url_full_titles[5]"
   ]
  },
  {
   "cell_type": "code",
   "execution_count": null,
   "id": "4938c023-1f5c-4985-b9c3-ef828fcf54e6",
   "metadata": {},
   "outputs": [],
   "source": []
  },
  {
   "cell_type": "code",
   "execution_count": 3,
   "id": "ece748a9-eb25-4f41-9021-6a59bcd15c98",
   "metadata": {
    "tags": []
   },
   "outputs": [],
   "source": [
    "#'https://www.opensubtitles.org/es/subtitleserve/sub/12794598'\n",
    "\n",
    "for i_title in lista_url_full_titles:\n",
    "    id_title = re.sub('https://dl.opensubtitles.org/es/download/sub/', '', i_title)\n",
    "    file_exist = os.path.exists(f'./Zip_Files/{id_title}.zip')\n",
    "    \n",
    "    if not file_exist:\n",
    "        page_subt = requests.get(i_title)\n",
    "\n",
    "        with open(f'./Zip_Files/{id_title}.zip', 'wb') as file_zip:\n",
    "            file_zip.write(page_subt.content)"
   ]
  },
  {
   "cell_type": "code",
   "execution_count": 8,
   "id": "a3e81098-9765-4c49-9e10-4ba59831af94",
   "metadata": {
    "tags": []
   },
   "outputs": [],
   "source": [
    "#page_subt.raise_for_status()"
   ]
  },
  {
   "cell_type": "code",
   "execution_count": null,
   "id": "40172bae-f65a-4f71-a064-6e87a32eb803",
   "metadata": {},
   "outputs": [],
   "source": []
  },
  {
   "cell_type": "code",
   "execution_count": null,
   "id": "abc5682d",
   "metadata": {},
   "outputs": [],
   "source": []
  },
  {
   "cell_type": "code",
   "execution_count": null,
   "id": "687c57eb",
   "metadata": {},
   "outputs": [],
   "source": []
  },
  {
   "cell_type": "markdown",
   "id": "71185375-be59-438e-bf5b-f284c97c794c",
   "metadata": {},
   "source": [
    "## Extraer los subtitulos del zip"
   ]
  },
  {
   "cell_type": "code",
   "execution_count": 16,
   "id": "2cca7630-90e0-4dff-9506-2ec4365503a7",
   "metadata": {
    "collapsed": true,
    "jupyter": {
     "outputs_hidden": true
    },
    "tags": []
   },
   "outputs": [
    {
     "name": "stdout",
     "output_type": "stream",
     "text": [
      "El archivo no tiene:  ./Zip_Files\\12796739.zip\n",
      "El archivo no tiene:  ./Zip_Files\\12796882.zip\n",
      "El archivo no tiene:  ./Zip_Files\\12796884.zip\n",
      "El archivo no tiene:  ./Zip_Files\\12798969.zip\n",
      "El archivo no tiene:  ./Zip_Files\\12802995.zip\n",
      "El archivo no tiene:  ./Zip_Files\\12802999.zip\n",
      "El archivo no tiene:  ./Zip_Files\\12803001.zip\n",
      "El archivo no tiene:  ./Zip_Files\\12803002.zip\n",
      "El archivo no tiene:  ./Zip_Files\\12803003.zip\n",
      "El archivo no tiene:  ./Zip_Files\\12803004.zip\n",
      "El archivo no tiene:  ./Zip_Files\\12803005.zip\n",
      "El archivo no tiene:  ./Zip_Files\\12803006.zip\n",
      "El archivo no tiene:  ./Zip_Files\\12803007.zip\n",
      "El archivo no tiene:  ./Zip_Files\\12803009.zip\n",
      "El archivo no tiene:  ./Zip_Files\\12803010.zip\n",
      "El archivo no tiene:  ./Zip_Files\\12803011.zip\n",
      "El archivo no tiene:  ./Zip_Files\\12804921.zip\n"
     ]
    }
   ],
   "source": [
    "for zip_path in glob.glob('./Zip_Files/*'):\n",
    "    with zipfile.ZipFile(zip_path, 'r') as zip_file:\n",
    "\n",
    "        for files_zip in zip_file.namelist():\n",
    "            if re.match(r'.*?.srt', files_zip):\n",
    "                #print(file_srt)\n",
    "                zip_file.extract(files_zip, './srt_subtitles_raw/')\n",
    "            elif re.match(r'.*?.nfo', files_zip):\n",
    "                zip_file.extract(files_zip, './info_file_raw/')\n",
    "\n",
    "            else:\n",
    "                print('El archivo no tiene: ', zip_path)"
   ]
  },
  {
   "cell_type": "code",
   "execution_count": null,
   "id": "a33930b2-fa70-48af-bb6a-404edd2e7d70",
   "metadata": {},
   "outputs": [],
   "source": [
    "            '''\n",
    "            elif re.match(r'.*?.ass', files_zip):\n",
    "                #print(file_srt)\n",
    "                zip_file.extract(files_zip, './srt_subtitles_raw/')\n",
    "            elif re.match(r'.*?.ASS', files_zip):\n",
    "                #print(file_srt)\n",
    "                zip_file.extract(files_zip, './srt_subtitles_raw/')\n",
    "            '''"
   ]
  },
  {
   "cell_type": "markdown",
   "id": "86b88303-62d1-4e89-8025-cbf93373bdc5",
   "metadata": {},
   "source": [
    "## Limpiar los srt"
   ]
  },
  {
   "cell_type": "code",
   "execution_count": null,
   "id": "3346d539-53e5-42a5-9b5d-123604511d71",
   "metadata": {},
   "outputs": [],
   "source": []
  },
  {
   "cell_type": "code",
   "execution_count": null,
   "id": "d2812883-4e12-4d76-ae5a-899f2b6478ed",
   "metadata": {},
   "outputs": [],
   "source": []
  },
  {
   "cell_type": "code",
   "execution_count": 4,
   "id": "b8027e65",
   "metadata": {
    "tags": []
   },
   "outputs": [
    {
     "name": "stdout",
     "output_type": "stream",
     "text": [
      "error urls ./srt_subtitles_raw\\Delicious.in.Dungeon.S01E01. Tragones.y.mazmorras.espa├▒ol.srt \n",
      "******* []\n",
      "error urls ./srt_subtitles_raw\\Pursuit.of.Happiness.1940.1080p.BluRay.x264-BiPOLAR.srt \n",
      "******* []\n",
      "error urls ./srt_subtitles_raw\\The.Charlie.Puth.Show.S01E02.Lonely.Fans.1080p.ROKU.WEB-DL.DD5.1.H.264-FLUX--Spanish.srt \n",
      "******* []\n",
      "error urls ./srt_subtitles_raw\\Velma.S02E01.es.srt \n",
      "******* []\n",
      "error urls ./srt_subtitles_raw\\Velma.S02E06.es.srt \n",
      "******* []\n",
      "error urls ./srt_subtitles_raw\\Velma.S02E07.es.srt \n",
      "******* []\n",
      "error urls ./srt_subtitles_raw\\Velma.S02E08.es.srt \n",
      "******* []\n",
      "error urls ./srt_subtitles_raw\\Velma.S02E10.es.srt \n",
      "******* []\n"
     ]
    }
   ],
   "source": [
    "\n",
    "\n",
    "for srt_file_path in glob.glob('./srt_subtitles_raw/*'):\n",
    "    with open(srt_file_path, 'r', encoding='latin-1') as file_srt:\n",
    "        file_srt = file_srt.read()\n",
    "        file_srt = re.sub(r'[^\\x00-\\x7F]+', '', file_srt)\n",
    "        text_with_out_minutes=''\n",
    "        minutes=''\n",
    "\n",
    "        #print(srt_file_path)\n",
    "        #minutes = re.match( r'[0-9]{1,10}\\n[0-9]{1,2}:[0-9]{1,2}:[0-9]{1,2},[0-9]{1,10} --> [0-9]{1,2}:[0-9]{1,2}:[0-9]{1,2},[0-9]{1,10}', file_srt)\n",
    "        \n",
    "        #if minutes:\n",
    "\n",
    "        text_with_out_minutes = re.sub(r'[0-9]{1,10}\\n[0-9]{1,2}:[0-9]{1,2}:[0-9]{1,2},[0-9]{1,10} --> [0-9]{1,2}:[0-9]{1,2}:[0-9]{1,2},[0-9]{1,10}', '', file_srt)\n",
    "        \n",
    "        text_with_out_minutes = re.sub(r\"<[^>]*>\", '', text_with_out_minutes)\n",
    "        text_with_out_minutes = re.sub(r\"{\\\\an8}\", '', text_with_out_minutes)\n",
    "        text_with_out_minutes = re.sub(r'Subtítulos de \"noesasuntotuyo\"', '', text_with_out_minutes)\n",
    "        text_with_out_minutes = re.sub(r'DELICIOSO EN EL CALABOZO Subttulos de \"noesasuntotuyo\"', '', text_with_out_minutes)\n",
    "        text_with_out_minutes = re.sub(r'Traduccin de subttulos:\\nVernica Ferreyra', '', text_with_out_minutes)\n",
    "        text_with_out_minutes = re.sub(r'Subttulos de \"noesasuntotuyo\"', '', text_with_out_minutes)\n",
    "        \n",
    "        \n",
    "        \n",
    "        \n",
    "        \n",
    "        '''\n",
    "        urls = re.search(r'(.org|.com|/ext|/lm)', text_with_out_minutes)\n",
    "        '''\n",
    "        \n",
    "        #print(urls)\n",
    "        #agregar\n",
    "        \n",
    "        \n",
    "        #findall\n",
    "        #urls = re.findall(r'(\\.org|\\.com|/ext|/lm)', text_with_out_minutes)\n",
    "        urls = re.findall(r'\\b(\\.org|\\.com|\\.es|/ext|/lm)\\b', text_with_out_minutes)\n",
    "        #print('*'*40)\n",
    "        if urls:\n",
    "            for n_urls in urls:\n",
    "                #print(i)\n",
    "                contador_salto_linea = 0\n",
    "\n",
    "\n",
    "                if n_urls:\n",
    "                    #find_urls = re.search(r'\\b' + re.escape(n_urls) + r'\\b', text_with_out_minutes)\n",
    "                    find_urls = re.search(re.escape(n_urls), text_with_out_minutes)\n",
    "                    \n",
    "                    \n",
    "                    #print(n_urls)\n",
    "                    #rint(find_urls)\n",
    "                    \n",
    "                    if find_urls:\n",
    "                        url_start = find_urls.start()\n",
    "\n",
    "                        salto_linea=text_with_out_minutes[url_start-1]\n",
    "\n",
    "                        #print(text_with_out_minutes[url_start:70])\n",
    "\n",
    "\n",
    "                        #salto_linea_2 = ''\n",
    "                        while salto_linea != '\\n' and url_start - contador_salto_linea > 0:\n",
    "\n",
    "                            contador_salto_linea+=1\n",
    "\n",
    "                            salto_linea = text_with_out_minutes[url_start-contador_salto_linea]\n",
    "                            #salto_linea_2 = salto_linea\n",
    "                            #print(contador_salto_linea)\n",
    "\n",
    "                            \n",
    "                        salto_linea_2 = ''\n",
    "                        while salto_linea_2 != '\\n' and url_start - contador_salto_linea > 0:\n",
    "                            contador_salto_linea += 1\n",
    "                            salto_linea = text_with_out_minutes[url_start - contador_salto_linea]\n",
    "                            salto_linea_2 = salto_linea\n",
    "\n",
    "                            #print(contador_salto_linea, salto_linea)\n",
    "                        txt_without_add = text_with_out_minutes.replace(text_with_out_minutes[url_start-contador_salto_linea:find_urls.end()], '')\n",
    "                        \n",
    "                        \n",
    "                        #len_txt = len(txt_without_add)\n",
    "\n",
    "\n",
    "                        #txt_without_add = txt_without_add[:len_txt-100]\n",
    "\n",
    "                        #print(txt_without_add)\n",
    "                        \n",
    "\n",
    "                        \n",
    "                    text_with_out_minutes = txt_without_add\n",
    "                else:\n",
    "                    \n",
    "                    print('error n_urls',srt_file_path,'\\n*******', n_urls)\n",
    "                    #text_without_adds = re.sub()\n",
    "\n",
    "\n",
    "\n",
    "                name_to_txt = re.sub(r'./srt_subtitles_raw\\\\', '', srt_file_path)\n",
    "                name_to_txt = re.sub(r'.srt', '.txt', name_to_txt)\n",
    "\n",
    "                    #print(txt_without_add)\n",
    "\n",
    "\n",
    "\n",
    "                with open(f'./srt_clean/{name_to_txt}', 'w', encoding='latin-1') as file_clean:\n",
    "                    file_clean.write(text_with_out_minutes)\n",
    "            \n",
    "        else:\n",
    "            print('error urls',srt_file_path,'\\n*******', urls)\n",
    "\n",
    "            \n",
    "            name_to_txt = re.sub(r'./srt_subtitles_raw\\\\', '', srt_file_path)\n",
    "            name_to_txt = re.sub(r'.srt', '.txt', name_to_txt)\n",
    "\n",
    "            with open(f'./srt_clean/{name_to_txt}', 'w', encoding='latin-1') as file_clean:\n",
    "                    file_clean.write(text_with_out_minutes)\n",
    "            #print(text_with_out_minutes[:500])\n",
    "            \n",
    "\n",
    "    #print(type(minutes))"
   ]
  },
  {
   "cell_type": "code",
   "execution_count": null,
   "id": "d089cd6d-74b2-456d-9e25-982a0bb68e37",
   "metadata": {},
   "outputs": [],
   "source": []
  },
  {
   "cell_type": "code",
   "execution_count": 10,
   "id": "34ac94b2-7728-4c48-9da2-b1dbc31faa59",
   "metadata": {
    "tags": []
   },
   "outputs": [
    {
     "name": "stdout",
     "output_type": "stream",
     "text": [
      "['.com'] ./srt_clean\\(1930) Disraeli DVDRip.txt\n"
     ]
    }
   ],
   "source": [
    "for i in glob.glob('./srt_clean/*'):\n",
    "    #print()\n",
    "    with open(i, 'r', encoding='latin-1') as file_i:\n",
    "        file_i = file_i.read()\n",
    "        \n",
    "        url_s =  re.findall(r'\\b(\\.org|\\.com|\\.es|/ext|/lm)\\b', file_i)\n",
    "        if url_s:\n",
    "        \n",
    "            print(url_s, i)"
   ]
  },
  {
   "cell_type": "code",
   "execution_count": null,
   "id": "849bc8a4-467c-4037-9c74-e25a34944e57",
   "metadata": {},
   "outputs": [],
   "source": []
  },
  {
   "cell_type": "code",
   "execution_count": null,
   "id": "42690964-a790-4319-85c5-41311a7dcfb7",
   "metadata": {},
   "outputs": [],
   "source": []
  },
  {
   "cell_type": "markdown",
   "id": "83f8f9d4-1a50-4122-b38d-14014194c97c",
   "metadata": {},
   "source": [
    "## Partes extraidas"
   ]
  },
  {
   "cell_type": "code",
   "execution_count": null,
   "id": "dfd831d1-e035-417b-b783-198969ae9c79",
   "metadata": {},
   "outputs": [],
   "source": []
  },
  {
   "cell_type": "code",
   "execution_count": 5,
   "id": "14ea0de0-5cea-4b30-af12-a34875e7ccdf",
   "metadata": {},
   "outputs": [
    {
     "name": "stdout",
     "output_type": "stream",
     "text": [
      "Love.Death.and.Robots.S03E07.Masons.Rats.es -----> 484\n",
      "Love.Death.and.Robots.S03E09.Jibaro.es -----> 301\n",
      "zodiac-directors.cut-spa.forced -----> 477\n",
      "Junji Ito.Collection. S1E13. Ova parte 1.es -----> 480\n",
      "Love.Death.and.Robots.S03E04.Night.of.the.Mini.Dead.es -----> 295\n",
      "Love.Death.and.Robots.S03E05.Kill.Team.Kill.es -----> 294\n",
      "Sunrise A Song of Two Humans (1928) DVDRip -----> 263\n",
      "Party Central (2013) -----> 272\n",
      "Alien.Romulus.2024.DUAL-AUDiO.SPA-ENG.1080p.WEB-DL.DDP5.1.Atmos.H.264-DMnT-forced -----> 176\n",
      "[ESP] Sing Thriller 2024 -----> 246\n",
      "Pursuit.of.Happiness.1940.1080p.BluRay.x264-BiPOLAR -----> 53\n",
      "Numero de libros sin texto:  11\n",
      "Numero de libros con indice:  0\n",
      "./srt_clean\\Pursuit.of.Happiness.1940.1080p.BluRay.x264-BiPOLAR.txt\n"
     ]
    }
   ],
   "source": [
    "extra_text=[]\n",
    "extract_text=[]\n",
    "start_text = []\n",
    "list_charct = ['.', ',', ';', ':', '?', '!', \"'\", '\"','(', ')', '[', ']', '{', '}','—', '-', '_', '/', '\\\\', '*','+', '−', '=', '%', '&', '$', '#', '@', '~', '^', '<', '>', '|', '¨', '×', '÷', '√', '‹', '›']\n",
    "\n",
    "contador=0\n",
    "contador_indice = 0\n",
    "\n",
    "list_of_files = filter( os.path.isfile, glob.glob('./srt_clean/*') ) \n",
    "\n",
    "  \n",
    "# Sort list of files in directory by size  \n",
    "list_of_files = sorted( list_of_files, key =  lambda x: os.stat(x).st_size, reverse=True) \n",
    "  \n",
    "# Iterate over sorted list of file names \n",
    "# and print them along with size one by one  \n",
    "for path_of_file in list_of_files: \n",
    "    #print(path_of_file)   \n",
    "    file_b = ''\n",
    "    tt = []\n",
    "    \n",
    "    if extra_text:\n",
    "        del extra_text [:]\n",
    "        \n",
    "    if extract_text:\n",
    "        del extract_text [:]\n",
    "            \n",
    "    if start_text:\n",
    "        del start_text [:]\n",
    "    \n",
    "    if tt:\n",
    "        del tt [:]\n",
    "        \n",
    "    name_file_clean = re.sub(r'./srt_clean\\\\|.txt', '', path_of_file)\n",
    "    \n",
    "    \n",
    "    name_file_clean = re.sub(r'[\\\\/*?:\"<>|]','-',name_file_clean)\n",
    "    \n",
    "    \n",
    "    \n",
    "    with open(path_of_file, 'r', encoding='utf-8') as file_b:\n",
    "        #file_b = file_b.read()\n",
    "            \n",
    "        \n",
    "        cont_first_dot=0\n",
    "        cont_neardot = 0\n",
    "        \n",
    "        soup = BeautifulSoup(file_b, 'html.parser')\n",
    "        file_b = soup.get_text()\n",
    "\n",
    "                \n",
    "        file_b = re.sub(r'\\n{2}', '', file_b)\n",
    "        \n",
    "        tt = file_b.split(' ')        \n",
    "        \n",
    "        num_rand = random.randint(500 ,5000)\n",
    "        \n",
    "        len_file = len(tt)\n",
    "        \n",
    "        \n",
    "        #encontrar el punto aleatorio antes de los 500 \n",
    "        \n",
    "        if len_file>=500:   #\n",
    "            num_rand_start_text = random.randint(0, len(tt)-500)\n",
    "            \n",
    "\n",
    "            if tt[0] in list_charct:\n",
    "                del tt[0]\n",
    "            \n",
    "            end_text = num_rand_start_text+num_rand\n",
    "            \n",
    "            \n",
    "            while end_text>len_file:\n",
    "                \n",
    "                num_rand = random.randint(500 ,5000)\n",
    "                num_rand_start_text = random.randint(0, len(tt)-500)\n",
    "                end_text = num_rand_start_text+num_rand\n",
    "                \n",
    "\n",
    "\n",
    "            start_text = tt[ num_rand_start_text :end_text]\n",
    "\n",
    "            for first_do_sent in start_text:\n",
    "                cont_first_dot+=1\n",
    "                if first_do_sent.endswith('.'):\n",
    "                    #print(first_do_sent)\n",
    "                    start_text = start_text[cont_first_dot:]\n",
    "                    #print(cont_first_dot)\n",
    "                    \n",
    "                    break\n",
    "\n",
    "                    \n",
    "            extra_text.extend(tt[end_text:]) #estra es el texto sobrante del texto complto\n",
    "\n",
    "            \n",
    "            for near_dot in extra_text:\n",
    "                cont_neardot+=1\n",
    "                if near_dot.endswith('.') or near_dot == '.':\n",
    "                    break\n",
    "\n",
    "            start_text.extend(extra_text[:cont_neardot])\n",
    "            \n",
    "            with open('./Partes Extraidas/'+name_file_clean+'.txt', 'w', encoding='utf-8') as parts_file:\n",
    "                parts_file.write(' '.join(start_text))\n",
    "            \n",
    "            \n",
    "            \n",
    "        \n",
    "        else:\n",
    "            contador+=1\n",
    "            print(name_file_clean, '----->', len_file)\n",
    "        \n",
    "\n",
    "            \n",
    "            \n",
    "print('Numero de libros sin texto: ',contador)\n",
    "print('Numero de libros con indice: ', contador_indice)\n",
    "print(path_of_file)"
   ]
  },
  {
   "cell_type": "code",
   "execution_count": null,
   "id": "5f9063e8-c50b-418a-93b1-cca801fd2101",
   "metadata": {},
   "outputs": [],
   "source": []
  },
  {
   "cell_type": "markdown",
   "id": "285fdc9c-6586-4840-9b7b-eb4f6105bf19",
   "metadata": {
    "tags": []
   },
   "source": [
    "## Verificar la url y si es la misma pelicula"
   ]
  },
  {
   "cell_type": "code",
   "execution_count": null,
   "id": "fd83c9c8-733d-430a-8306-1b689181a01b",
   "metadata": {},
   "outputs": [],
   "source": []
  },
  {
   "cell_type": "code",
   "execution_count": null,
   "id": "06edd02e-ff6a-4a15-b885-8040a297176f",
   "metadata": {},
   "outputs": [],
   "source": []
  },
  {
   "cell_type": "code",
   "execution_count": null,
   "id": "ab326104-1d82-4e24-8e93-aa68494745ff",
   "metadata": {},
   "outputs": [],
   "source": []
  },
  {
   "cell_type": "code",
   "execution_count": 2,
   "id": "1c1cf6ed-70a5-47ad-8175-6aa1f5cddc56",
   "metadata": {
    "tags": []
   },
   "outputs": [
    {
     "name": "stdout",
     "output_type": "stream",
     "text": [
      "-----NO SON similares:  12793496 ----- burukku daifuntou shin no nakama e no michisagashi?    >    \"one piece\" brook's hard struggle the difficult path to becoming a true crewmate? s01e384  \n",
      "\n",
      "-----\n",
      "-----NO SON similares:  12793497 ----- idainaru kouro hanshuu toutatsu! akai tuchi no tairiku    >    \"one piece\" halfway through the grand line arrival! the red line s01e385  \n",
      "\n",
      "-----\n",
      "-----NO SON similares:  12793498 ----- mugiwara ichimi nikushi tetsukamen no dubaru toujou    >    \"one piece\" hatred of the straw hat crew enter iron mask duval s01e386  \n",
      "\n",
      "-----\n",
      "-----NO SON similares:  12793499 ----- innen no saikai! toraware no gyonin o sukudase    >    \"one piece\" the fated reunion! save the imprisoned fishman s01e387  \n",
      "\n",
      "-----\n",
      "-----NO SON similares:  12793500 ----- higeki! kamen ni kakusareta dubaru no shinjitsu    >    \"one piece\" tragedy! the truth of the unmasked duval s01e388  \n",
      "\n",
      "-----\n",
      "-----NO SON similares:  12793501 ----- sakuretsu! sanîgou no chouhimitsu heiki gaonhou    >    \"one piece\" explosion! the sunny's super secret weapon gaon cannon s01e389  \n",
      "\n",
      "-----\n",
      "-----NO SON similares:  12793840 ----- ukigusa    >    floating weeds   \n",
      "\n",
      "-----\n",
      "-----NO SON similares:  12793905 ----- 7th heaven    >    el séptimo cielo   \n",
      "\n",
      "-----\n",
      "-----NO SON similares:  12794145 ----- dane-ye anjir-e ma'abed    >    the seed of the sacred fig   \n",
      "\n",
      "-----\n",
      "-----NO SON similares:  12794788 ----- sunrise: a song of two humans    >    amanecer   \n",
      "\n",
      "-----\n",
      "-----NO SON similares:  12794868 ----- the broadway melody    >    la melodía de broadway   \n",
      "\n",
      "-----\n",
      "-----NO SON similares:  12795080 ----- bound    >    lazos ardientes   \n",
      "\n",
      "-----\n",
      "-----NO SON similares:  12795120 ----- halloween 5: the revenge of michael myers    >    halloween 5: la venganza de michael myers   \n",
      "\n",
      "-----\n",
      "-----NO SON similares:  12795165 ----- à nous les garçons    >    a nous les garcons   \n",
      "\n",
      "-----\n",
      "-----NO SON similares:  12795524 ----- une journée bien remplie ou neuf meurtres insolites dans une même journée par un seul homme dont ce n'est pas le métier    >    a full day's work   \n",
      "\n",
      "-----\n",
      "-----NO SON similares:  12795753 ----- aus dem nichts    >    in the fade   \n",
      "\n",
      "-----\n",
      "-----NO SON similares:  12795796 ----- devara: part 1    >    devara part 1   \n",
      "\n",
      "-----\n",
      "-----NO SON similares:  12795988 ----- conflict    >    retorno al abismo   \n",
      "\n",
      "-----\n",
      "-----NO SON similares:  12796042 ----- jolibsik gajok    >    family by choice   \n",
      "\n",
      "-----\n",
      "-----NO SON similares:  12796121 ----- the last house on the left    >    la última casa a la izquierda   \n",
      "\n",
      "-----\n",
      "-----NO SON similares:  12796593 ----- i complessi    >    los complejos   \n",
      "\n",
      "-----\n",
      "-----NO SON similares:  12796934 ----- muidhond    >    tench   \n",
      "\n",
      "-----\n",
      "-----NO SON similares:  12797298 ----- the shop around the corner    >    el bazar de las sorpresas   \n",
      "\n",
      "-----\n",
      "-----NO SON similares:  12797349 ----- dragon ball: shenron no densetsu    >    dragon ball: la leyenda del dragón shenron   \n",
      "\n",
      "-----\n",
      "-----NO SON similares:  12797526 ----- napad    >    justice   \n",
      "\n",
      "-----\n",
      "-----NO SON similares:  12797527 ----- napad    >    justice   \n",
      "\n",
      "-----\n",
      "-----NO SON similares:  12797542 ----- napad    >    justice   \n",
      "\n",
      "-----\n",
      "-----NO SON similares:  12797551 ----- bokser    >    boxer   \n",
      "\n",
      "-----\n",
      "-----NO SON similares:  12797554 ----- napad    >    justice   \n",
      "\n",
      "-----\n",
      "-----NO SON similares:  12797556 ----- jestem ren    >    the glitch   \n",
      "\n",
      "-----\n",
      "-----NO SON similares:  12797558 ----- zahradníkuv rok    >    zahradnikuv rok   \n",
      "\n",
      "-----\n",
      "-----NO SON similares:  12798224 ----- lá fora    >    outside   \n",
      "\n",
      "-----\n",
      "-----NO SON similares:  12798226 ----- lá fora    >    outside   \n",
      "\n",
      "-----\n",
      "-----NO SON similares:  12798958 ----- the end & the beginning    >    \"superman &amp; lois\" the end &amp; the beginning s04e01  \n",
      "\n",
      "-----\n",
      "-----NO SON similares:  12799067 ----- all quiet on the western front    >    sin novedad en el frente   \n",
      "\n",
      "-----\n",
      "-----NO SON similares:  12799691 ----- ginga tetsudô no chichi    >    father of the milky way railroad   \n",
      "\n",
      "-----\n",
      "-----NO SON similares:  12799849 ----- taiyô ni idomu mono    >    \"fullmetal alchemist\" to challenge the sun s01e01  \n",
      "\n",
      "-----\n",
      "-----NO SON similares:  12799850 ----- okâsan......    >    \"fullmetal alchemist\" mother s01e03  \n",
      "\n",
      "-----\n",
      "-----NO SON similares:  12800010 ----- bender. zoloto imprerii    >    bender: gold of the empire   \n",
      "\n",
      "-----\n",
      "-----NO SON similares:  12800030 ----- rak won loop    >    love stuck   \n",
      "\n",
      "-----\n",
      "-----NO SON similares:  12800060 ----- the strangers    >    los extraños   \n",
      "\n",
      "-----\n",
      "-----NO SON similares:  12801864 ----- jeon, ran    >    uprising   \n",
      "\n",
      "-----\n",
      "-----NO SON similares:  12801870 ----- planet earth ii: a world of wonder    >    \"planet earth ii\" a world of wonder s01e07  \n",
      "\n",
      "-----\n",
      "-----NO SON similares:  12801931 ----- lá fora    >    outside   \n",
      "\n",
      "-----\n",
      "-----NO SON similares:  12801932 ----- estado de silencio    >    state of silence   \n",
      "\n",
      "-----\n",
      "-----NO SON similares:  12801934 ----- dane-ye anjir-e ma'abed    >    the seed of the sacred fig   \n",
      "\n",
      "-----\n",
      "-----NO SON similares:  12801999 ----- zahradníkuv rok    >    zahradnikuv rok   \n",
      "\n",
      "-----\n",
      "-----NO SON similares:  12802159 ----- the divorcee    >    la divorciada   \n",
      "\n",
      "-----\n",
      "-----NO SON similares:  12802200 ----- boot camp    >    campamento castigo   \n",
      "\n",
      "-----\n",
      "-----NO SON similares:  12802320 ----- to die for    >    todo por un sueño   \n",
      "\n",
      "-----\n",
      "-----NO SON similares:  12802509 ----- the red    >    rippy   \n",
      "\n",
      "-----\n",
      "-----NO SON similares:  12802971 ----- se rokh    >    3 faces   \n",
      "\n",
      "-----\n",
      "-----NO SON similares:  12804285 ----- l'archipel du goulag, la révélation    >    l'archipel du goulag, la revelation   \n",
      "\n",
      "-----\n",
      "-----NO SON similares:  12804340 ----- batoru rowaiaru ii: chinkonka    >    battle royale 2: réquiem   \n",
      "\n",
      "-----\n",
      "-----NO SON similares:  12804741 ----- mother riley meets the vampire    >    vampire over london   \n",
      "\n",
      "-----\n",
      "-----NO SON similares:  12805091 ----- ano hana ga saku oka de, kimi to mata deaetara    >    till we meet again on the lily hil   \n",
      "\n",
      "-----\n",
      "-----NO SON similares:  12805093 ----- aru koroshi ya    >    a certain killer   \n",
      "\n",
      "-----\n",
      "-----NO SON similares:  12805103 ----- your baby or mine    >    lies my babysitter told   \n",
      "\n",
      "-----\n",
      "-----NO SON similares:  12805104 ----- on the waterfront    >    la ley del silencio   \n",
      "\n",
      "-----\n",
      "-----NO SON similares:  12805107 ----- tereddüt çizgisi    >    hesitation wound   \n",
      "\n",
      "-----\n",
      "-----NO SON similares:  12805108 ----- the seventh victim    >    la séptima víctima   \n",
      "\n",
      "-----\n",
      "-----NO SON similares:  12805211 ----- 658km, yôko no tabi    >    658km, yoko no tabi   \n",
      "\n",
      "-----\n",
      "-----NO SON similares:  12805216 ----- the lady is willing    >    capricho de mujer   \n",
      "\n",
      "-----\n",
      "-----NO SON similares:  12805220 ----- akahige    >    barbarroja   \n",
      "\n",
      "-----\n",
      "-----NO SON similares:  12806121 ----- rideau de fer, l'occupation soviétique    >    rideau de fer, l'occupation sovietique   \n",
      "\n",
      "-----\n",
      "-----NO SON similares:  12806712 ----- cimarron    >    cimarrón   \n",
      "\n",
      "-----\n",
      "-----NO SON similares:  12807091 ----- talchul: project silence    >    project silence   \n",
      "\n",
      "-----\n",
      "-----NO SON similares:  12807121 ----- fantômas    >    fantomas   \n",
      "\n",
      "-----\n",
      "-----NO SON similares:  12807126 ----- dead bang    >    tiro mortal   \n",
      "\n",
      "-----\n",
      "-----NO SON similares:  12807127 ----- die theorie von allem    >    the universal theory   \n",
      "\n",
      "-----\n",
      "-----NO SON similares:  12807128 ----- here, there & everywhere    >    here, there &amp; everywhere   \n",
      "\n",
      "-----\n",
      "-----NO SON similares:  12807154 ----- a free soul    >    un alma libre   \n",
      "\n",
      "-----\n",
      "-----NO SON similares:  12807159 ----- ölümlü dünya 2    >    mortal world 2   \n",
      "\n",
      "-----\n",
      "-----NO SON similares:  12807161 ----- south park: the streaming wars part 2    >    \"south park\" the streaming wars part 2 s25e08  \n",
      "\n",
      "-----\n",
      "-----NO SON similares:  12807164 ----- myrskyluodon maija    >    stormskerry maja   \n",
      "\n",
      "-----\n",
      "-----NO SON similares:  12807280 ----- le mangeur d'âmes    >    the soul eater   \n",
      "\n",
      "-----\n",
      "-----NO SON similares:  12807593 ----- the red    >    rippy   \n",
      "\n",
      "-----\n",
      "-----NO SON similares:  12807602 ----- daedosiui sarangbeob    >    love in the big city   \n",
      "\n",
      "-----\n",
      "-----NO SON similares:  12807603 ----- daedosiui sarangbeob    >    love in the big city   \n",
      "\n",
      "-----\n",
      "-----NO SON similares:  12807606 ----- daedosiui sarangbeob    >    love in the big city   \n",
      "\n",
      "-----\n",
      "-----NO SON similares:  12807607 ----- daedosiui sarangbeob    >    love in the big city   \n",
      "\n",
      "-----\n",
      "-----NO SON similares:  12807608 ----- daedosiui sarangbeob    >    love in the big city   \n",
      "\n",
      "-----\n",
      "-----NO SON similares:  12807609 ----- daedosiui sarangbeob    >    love in the big city   \n",
      "\n",
      "-----\n",
      "-----NO SON similares:  12807610 ----- daedosiui sarangbeob    >    love in the big city   \n",
      "\n",
      "-----\n",
      "-----NO SON similares:  12807643 ----- tabu: a story of the south seas    >    tabú   \n",
      "\n",
      "-----\n",
      "-----NO SON similares:  12807734 ----- grand hotel    >    gran hotel   \n",
      "\n",
      "-----\n",
      "-----NO SON similares:  12807790 ----- le mangeur d'âmes    >    the soul eater   \n",
      "\n",
      "-----\n",
      "-----NO SON similares:  12807794 ----- keyke mahboobe man    >    my favourite cake   \n",
      "\n",
      "-----\n",
      "-----NO SON similares:  12807796 ----- survivre    >    survive   \n",
      "\n",
      "-----\n",
      "-----NO SON similares:  12807806 ----- dane-ye anjir-e ma'abed    >    the seed of the sacred fig   \n",
      "\n",
      "-----\n",
      "-----NO SON similares:  12807827 ----- batoru rowaiaru    >    battle royale   \n",
      "\n",
      "-----\n",
      "-----NO SON similares:  12807850 ----- don't be a menace to south central while drinking your juice in the hood    >    los colegas del barrio   \n",
      "\n",
      "-----\n",
      "-----NO SON similares:  12807860 ----- banlieue 13: ultimatum    >    distrito 13: ultimatum   \n",
      "\n",
      "-----\n",
      "-----NO SON similares:  12807861 ----- bad ass    >    tipo duro   \n",
      "\n",
      "-----\n",
      "-----NO SON similares:  12807864 ----- waiting...    >    marchando ...   \n",
      "\n",
      "-----\n",
      "-----NO SON similares:  12807867 ----- once were warriors    >    guerreros de antaño   \n",
      "\n",
      "-----\n",
      "-----NO SON similares:  12807909 ----- beomjoidosi 4    >    the roundup: punishment   \n",
      "\n",
      "-----\n",
      "-----NO SON similares:  12807915 ----- dokjeon    >    believer   \n",
      "\n",
      "-----\n",
      "-----NO SON similares:  12807941 ----- minions & more 1    >    minions &amp; more 1   \n",
      "\n",
      "-----\n",
      "-----NO SON similares:  12807942 ----- minions & more 2    >    minions &amp; more 2   \n",
      "\n",
      "-----\n",
      "-----NO SON similares:  12807948 ----- he bian de cuo wu    >    only the river flows   \n",
      "\n",
      "-----\n",
      "-----NO SON similares:  12807962 ----- hoa-cha    >    helpless   \n",
      "\n",
      "-----\n",
      "-----NO SON similares:  12808359 ----- el hombre que amaba los platos voladores    >    the man who loved ufos   \n",
      "\n",
      "-----\n",
      "-----NO SON similares:  12808367 ----- o cangaceiro    >    cangaceiro   \n",
      "\n",
      "-----\n",
      "el numero de titulos similares:  856\n"
     ]
    },
    {
     "data": {
      "text/plain": [
       "'agrgar el id de imdb'"
      ]
     },
     "execution_count": 2,
     "metadata": {},
     "output_type": "execute_result"
    }
   ],
   "source": [
    "contador_similares =0\n",
    "\n",
    "for _ in glob.glob('./Zip_Files/*'):\n",
    "    id_serie = re.sub(r'./Zip_Files\\\\|.zip', '', _)\n",
    "    #print(id_serie)\n",
    "    \n",
    "    headers = {'User-Agent': 'Mozilla/5.0 (Windows NT 10.0; Win64; x64) AppleWebKit/537.36 (KHTML, like Gecko) Chrome/87.0.4280.88 Safari/537.36'}\n",
    "    \n",
    "    \n",
    "    page_open = requests.get(f'https://www.opensubtitles.org/es/subtitles/{id_serie}', headers=headers)\n",
    "    \n",
    "    \n",
    "    #obtener el link imbd\n",
    "    soup_open = BeautifulSoup(page_open.content, 'html.parser')\n",
    "    \n",
    "    try:\n",
    "        links = soup_open.find('a', href=re.compile(r'https://www.imdb.com/title/')).attrs['href']\n",
    "\n",
    "        if links:\n",
    "            page_imdb =requests.get(links, headers=headers)\n",
    "\n",
    "            soup_imdb = BeautifulSoup(page_imdb.content, 'html.parser')\n",
    "            \n",
    "            id_imdb = re.sub(r'https://www.imdb.com/title/tt|/', '', links)\n",
    "            ####id \n",
    "\n",
    "\n",
    "\n",
    "            title_imdb = soup_imdb.find(\"div\", class_='sc-ec65ba05-1 fUCCIx')\n",
    "\n",
    "            if not title_imdb:\n",
    "                title_imdb = soup_imdb.find(\"h1\", class_='sc-ec65ba05-0')\n",
    "\n",
    "\n",
    "            title_open = soup_open.findAll('h2')\n",
    "\n",
    "            title_open = re.sub(r'<h2>|</h2>', '', str(title_open[0]))\n",
    "\n",
    "\n",
    "            '''\n",
    "            if title_open and title_imdb:\n",
    "                print(id_serie,'-----', title_imdb.text,'   >   ', title_open, '\\n\\n')\n",
    "            '''\n",
    "\n",
    "\n",
    "            with open('./id_series.txt', 'a', encoding='utf-8') as file_ids:\n",
    "                file_ids.write('ID Página Open: '+id_serie+'    ----> ID IMDB: '+id_imdb+'\\n')\n",
    "\n",
    "            if title_open and title_imdb:\n",
    "\n",
    "                title_imdb = title_imdb.text.strip().lower()\n",
    "                title_imdb = re.sub('original title: ', '', title_imdb)\n",
    "\n",
    "                title_open = title_open.strip().lower()\n",
    "                title_open = re.sub('espańól subtítulos .*$','', title_open)\n",
    "\n",
    "                if title_imdb in title_open:\n",
    "                    #print('Son similares: ',id_serie,'-----', title_imdb,'   >   ', title_open, '+++++\\n\\n')\n",
    "\n",
    "                    contador_similares+=1\n",
    "                else:\n",
    "\n",
    "                    print('-----NO SON similares: ',id_serie,'-----', title_imdb,'   >   ', title_open, '\\n\\n-----')\n",
    "            else:\n",
    "                print('Esta vacio: ', id_serie)\n",
    "\n",
    "\n",
    "        \n",
    "        \n",
    "        else:\n",
    "            print(links)\n",
    "    except:\n",
    "        print(id_serie)\n",
    "print('el numero de titulos similares: ', contador_similares)\n",
    "\n",
    "    \n",
    "'''agrgar el id de imdb'''"
   ]
  },
  {
   "cell_type": "code",
   "execution_count": null,
   "id": "03a7e4c7-92dd-41e2-8eed-604051d4a339",
   "metadata": {},
   "outputs": [],
   "source": []
  },
  {
   "cell_type": "code",
   "execution_count": null,
   "id": "066ed0ed-52e9-4b18-b51e-c07cce6824d8",
   "metadata": {},
   "outputs": [],
   "source": []
  },
  {
   "cell_type": "code",
   "execution_count": null,
   "id": "4cbb0ee8-afd8-4414-9ac5-ffae7a9cb613",
   "metadata": {},
   "outputs": [],
   "source": []
  },
  {
   "cell_type": "code",
   "execution_count": null,
   "id": "ea7f682e-3251-414f-b68d-315d69d7f662",
   "metadata": {},
   "outputs": [],
   "source": []
  },
  {
   "cell_type": "code",
   "execution_count": null,
   "id": "c90f7bbf-f234-42d8-8f20-ce716fc1b156",
   "metadata": {},
   "outputs": [],
   "source": []
  },
  {
   "cell_type": "markdown",
   "id": "dae6001b-77f3-49dc-9eca-9fbd74d4975e",
   "metadata": {
    "jp-MarkdownHeadingCollapsed": true,
    "tags": []
   },
   "source": [
    "# addic7ed.com"
   ]
  },
  {
   "cell_type": "code",
   "execution_count": null,
   "id": "5f3e0448-435d-411f-a0ae-8e9a31102996",
   "metadata": {},
   "outputs": [],
   "source": []
  },
  {
   "cell_type": "code",
   "execution_count": null,
   "id": "b1cd1182-d51a-4ae9-899e-81036c944875",
   "metadata": {},
   "outputs": [],
   "source": [
    "#href=\"/serie/The_4400/4/3/Audrey_Parker%27s_come_and_gone\""
   ]
  },
  {
   "cell_type": "markdown",
   "id": "176b9982-7b3d-439c-81b8-41149f9ea830",
   "metadata": {},
   "source": [
    "## Descarga los links de descarga de las series/peliculas"
   ]
  },
  {
   "cell_type": "code",
   "execution_count": 16,
   "id": "4cda7dd2-114d-4777-9932-fc41081b27cb",
   "metadata": {
    "collapsed": true,
    "jupyter": {
     "outputs_hidden": true
    },
    "tags": []
   },
   "outputs": [
    {
     "name": "stdout",
     "output_type": "stream",
     "text": [
      "./Addic_Raw/page_1550.txt\n"
     ]
    },
    {
     "ename": "KeyboardInterrupt",
     "evalue": "",
     "output_type": "error",
     "traceback": [
      "\u001b[1;31m---------------------------------------------------------------------------\u001b[0m",
      "\u001b[1;31mKeyboardInterrupt\u001b[0m                         Traceback (most recent call last)",
      "Cell \u001b[1;32mIn[16], line 8\u001b[0m\n\u001b[0;32m      3\u001b[0m \u001b[38;5;28;01mfor\u001b[39;00m n_page \u001b[38;5;129;01min\u001b[39;00m \u001b[38;5;28mrange\u001b[39m(\u001b[38;5;241m1550\u001b[39m, \u001b[38;5;241m9958\u001b[39m):\n\u001b[0;32m      7\u001b[0m     \u001b[38;5;28;01mif\u001b[39;00m \u001b[38;5;129;01mnot\u001b[39;00m os\u001b[38;5;241m.\u001b[39mpath\u001b[38;5;241m.\u001b[39misfile(\u001b[38;5;124mf\u001b[39m\u001b[38;5;124m'\u001b[39m\u001b[38;5;124m./Addic_Raw/page_\u001b[39m\u001b[38;5;132;01m{\u001b[39;00mn_page\u001b[38;5;132;01m}\u001b[39;00m\u001b[38;5;124m.txt\u001b[39m\u001b[38;5;124m'\u001b[39m): \n\u001b[1;32m----> 8\u001b[0m         page_ \u001b[38;5;241m=\u001b[39m requests\u001b[38;5;241m.\u001b[39mget(\u001b[38;5;124mf\u001b[39m\u001b[38;5;124m\"\u001b[39m\u001b[38;5;124mhttps://www.addic7ed.com/show/\u001b[39m\u001b[38;5;132;01m{\u001b[39;00mn_page\u001b[38;5;132;01m}\u001b[39;00m\u001b[38;5;124m\"\u001b[39m)\n\u001b[0;32m     10\u001b[0m         soup \u001b[38;5;241m=\u001b[39m BeautifulSoup(page_\u001b[38;5;241m.\u001b[39mcontent, \u001b[38;5;124m'\u001b[39m\u001b[38;5;124mhtml.parser\u001b[39m\u001b[38;5;124m'\u001b[39m)\n\u001b[0;32m     12\u001b[0m         elem_id \u001b[38;5;241m=\u001b[39m soup\u001b[38;5;241m.\u001b[39mfind(\u001b[38;5;28mid\u001b[39m\u001b[38;5;241m=\u001b[39m\u001b[38;5;124m'\u001b[39m\u001b[38;5;124mlangs\u001b[39m\u001b[38;5;124m'\u001b[39m)\n",
      "File \u001b[1;32m~\\anaconda3\\Lib\\site-packages\\requests\\api.py:73\u001b[0m, in \u001b[0;36mget\u001b[1;34m(url, params, **kwargs)\u001b[0m\n\u001b[0;32m     62\u001b[0m \u001b[38;5;28;01mdef\u001b[39;00m \u001b[38;5;21mget\u001b[39m(url, params\u001b[38;5;241m=\u001b[39m\u001b[38;5;28;01mNone\u001b[39;00m, \u001b[38;5;241m*\u001b[39m\u001b[38;5;241m*\u001b[39mkwargs):\n\u001b[0;32m     63\u001b[0m \u001b[38;5;250m    \u001b[39m\u001b[38;5;124mr\u001b[39m\u001b[38;5;124;03m\"\"\"Sends a GET request.\u001b[39;00m\n\u001b[0;32m     64\u001b[0m \n\u001b[0;32m     65\u001b[0m \u001b[38;5;124;03m    :param url: URL for the new :class:`Request` object.\u001b[39;00m\n\u001b[1;32m   (...)\u001b[0m\n\u001b[0;32m     70\u001b[0m \u001b[38;5;124;03m    :rtype: requests.Response\u001b[39;00m\n\u001b[0;32m     71\u001b[0m \u001b[38;5;124;03m    \"\"\"\u001b[39;00m\n\u001b[1;32m---> 73\u001b[0m     \u001b[38;5;28;01mreturn\u001b[39;00m request(\u001b[38;5;124m\"\u001b[39m\u001b[38;5;124mget\u001b[39m\u001b[38;5;124m\"\u001b[39m, url, params\u001b[38;5;241m=\u001b[39mparams, \u001b[38;5;241m*\u001b[39m\u001b[38;5;241m*\u001b[39mkwargs)\n",
      "File \u001b[1;32m~\\anaconda3\\Lib\\site-packages\\requests\\api.py:59\u001b[0m, in \u001b[0;36mrequest\u001b[1;34m(method, url, **kwargs)\u001b[0m\n\u001b[0;32m     55\u001b[0m \u001b[38;5;66;03m# By using the 'with' statement we are sure the session is closed, thus we\u001b[39;00m\n\u001b[0;32m     56\u001b[0m \u001b[38;5;66;03m# avoid leaving sockets open which can trigger a ResourceWarning in some\u001b[39;00m\n\u001b[0;32m     57\u001b[0m \u001b[38;5;66;03m# cases, and look like a memory leak in others.\u001b[39;00m\n\u001b[0;32m     58\u001b[0m \u001b[38;5;28;01mwith\u001b[39;00m sessions\u001b[38;5;241m.\u001b[39mSession() \u001b[38;5;28;01mas\u001b[39;00m session:\n\u001b[1;32m---> 59\u001b[0m     \u001b[38;5;28;01mreturn\u001b[39;00m session\u001b[38;5;241m.\u001b[39mrequest(method\u001b[38;5;241m=\u001b[39mmethod, url\u001b[38;5;241m=\u001b[39murl, \u001b[38;5;241m*\u001b[39m\u001b[38;5;241m*\u001b[39mkwargs)\n",
      "File \u001b[1;32m~\\anaconda3\\Lib\\site-packages\\requests\\sessions.py:589\u001b[0m, in \u001b[0;36mSession.request\u001b[1;34m(self, method, url, params, data, headers, cookies, files, auth, timeout, allow_redirects, proxies, hooks, stream, verify, cert, json)\u001b[0m\n\u001b[0;32m    584\u001b[0m send_kwargs \u001b[38;5;241m=\u001b[39m {\n\u001b[0;32m    585\u001b[0m     \u001b[38;5;124m\"\u001b[39m\u001b[38;5;124mtimeout\u001b[39m\u001b[38;5;124m\"\u001b[39m: timeout,\n\u001b[0;32m    586\u001b[0m     \u001b[38;5;124m\"\u001b[39m\u001b[38;5;124mallow_redirects\u001b[39m\u001b[38;5;124m\"\u001b[39m: allow_redirects,\n\u001b[0;32m    587\u001b[0m }\n\u001b[0;32m    588\u001b[0m send_kwargs\u001b[38;5;241m.\u001b[39mupdate(settings)\n\u001b[1;32m--> 589\u001b[0m resp \u001b[38;5;241m=\u001b[39m \u001b[38;5;28mself\u001b[39m\u001b[38;5;241m.\u001b[39msend(prep, \u001b[38;5;241m*\u001b[39m\u001b[38;5;241m*\u001b[39msend_kwargs)\n\u001b[0;32m    591\u001b[0m \u001b[38;5;28;01mreturn\u001b[39;00m resp\n",
      "File \u001b[1;32m~\\anaconda3\\Lib\\site-packages\\requests\\sessions.py:703\u001b[0m, in \u001b[0;36mSession.send\u001b[1;34m(self, request, **kwargs)\u001b[0m\n\u001b[0;32m    700\u001b[0m start \u001b[38;5;241m=\u001b[39m preferred_clock()\n\u001b[0;32m    702\u001b[0m \u001b[38;5;66;03m# Send the request\u001b[39;00m\n\u001b[1;32m--> 703\u001b[0m r \u001b[38;5;241m=\u001b[39m adapter\u001b[38;5;241m.\u001b[39msend(request, \u001b[38;5;241m*\u001b[39m\u001b[38;5;241m*\u001b[39mkwargs)\n\u001b[0;32m    705\u001b[0m \u001b[38;5;66;03m# Total elapsed time of the request (approximately)\u001b[39;00m\n\u001b[0;32m    706\u001b[0m elapsed \u001b[38;5;241m=\u001b[39m preferred_clock() \u001b[38;5;241m-\u001b[39m start\n",
      "File \u001b[1;32m~\\anaconda3\\Lib\\site-packages\\requests\\adapters.py:486\u001b[0m, in \u001b[0;36mHTTPAdapter.send\u001b[1;34m(self, request, stream, timeout, verify, cert, proxies)\u001b[0m\n\u001b[0;32m    483\u001b[0m     timeout \u001b[38;5;241m=\u001b[39m TimeoutSauce(connect\u001b[38;5;241m=\u001b[39mtimeout, read\u001b[38;5;241m=\u001b[39mtimeout)\n\u001b[0;32m    485\u001b[0m \u001b[38;5;28;01mtry\u001b[39;00m:\n\u001b[1;32m--> 486\u001b[0m     resp \u001b[38;5;241m=\u001b[39m conn\u001b[38;5;241m.\u001b[39murlopen(\n\u001b[0;32m    487\u001b[0m         method\u001b[38;5;241m=\u001b[39mrequest\u001b[38;5;241m.\u001b[39mmethod,\n\u001b[0;32m    488\u001b[0m         url\u001b[38;5;241m=\u001b[39murl,\n\u001b[0;32m    489\u001b[0m         body\u001b[38;5;241m=\u001b[39mrequest\u001b[38;5;241m.\u001b[39mbody,\n\u001b[0;32m    490\u001b[0m         headers\u001b[38;5;241m=\u001b[39mrequest\u001b[38;5;241m.\u001b[39mheaders,\n\u001b[0;32m    491\u001b[0m         redirect\u001b[38;5;241m=\u001b[39m\u001b[38;5;28;01mFalse\u001b[39;00m,\n\u001b[0;32m    492\u001b[0m         assert_same_host\u001b[38;5;241m=\u001b[39m\u001b[38;5;28;01mFalse\u001b[39;00m,\n\u001b[0;32m    493\u001b[0m         preload_content\u001b[38;5;241m=\u001b[39m\u001b[38;5;28;01mFalse\u001b[39;00m,\n\u001b[0;32m    494\u001b[0m         decode_content\u001b[38;5;241m=\u001b[39m\u001b[38;5;28;01mFalse\u001b[39;00m,\n\u001b[0;32m    495\u001b[0m         retries\u001b[38;5;241m=\u001b[39m\u001b[38;5;28mself\u001b[39m\u001b[38;5;241m.\u001b[39mmax_retries,\n\u001b[0;32m    496\u001b[0m         timeout\u001b[38;5;241m=\u001b[39mtimeout,\n\u001b[0;32m    497\u001b[0m         chunked\u001b[38;5;241m=\u001b[39mchunked,\n\u001b[0;32m    498\u001b[0m     )\n\u001b[0;32m    500\u001b[0m \u001b[38;5;28;01mexcept\u001b[39;00m (ProtocolError, \u001b[38;5;167;01mOSError\u001b[39;00m) \u001b[38;5;28;01mas\u001b[39;00m err:\n\u001b[0;32m    501\u001b[0m     \u001b[38;5;28;01mraise\u001b[39;00m \u001b[38;5;167;01mConnectionError\u001b[39;00m(err, request\u001b[38;5;241m=\u001b[39mrequest)\n",
      "File \u001b[1;32m~\\anaconda3\\Lib\\site-packages\\urllib3\\connectionpool.py:791\u001b[0m, in \u001b[0;36mHTTPConnectionPool.urlopen\u001b[1;34m(self, method, url, body, headers, retries, redirect, assert_same_host, timeout, pool_timeout, release_conn, chunked, body_pos, preload_content, decode_content, **response_kw)\u001b[0m\n\u001b[0;32m    788\u001b[0m response_conn \u001b[38;5;241m=\u001b[39m conn \u001b[38;5;28;01mif\u001b[39;00m \u001b[38;5;129;01mnot\u001b[39;00m release_conn \u001b[38;5;28;01melse\u001b[39;00m \u001b[38;5;28;01mNone\u001b[39;00m\n\u001b[0;32m    790\u001b[0m \u001b[38;5;66;03m# Make the request on the HTTPConnection object\u001b[39;00m\n\u001b[1;32m--> 791\u001b[0m response \u001b[38;5;241m=\u001b[39m \u001b[38;5;28mself\u001b[39m\u001b[38;5;241m.\u001b[39m_make_request(\n\u001b[0;32m    792\u001b[0m     conn,\n\u001b[0;32m    793\u001b[0m     method,\n\u001b[0;32m    794\u001b[0m     url,\n\u001b[0;32m    795\u001b[0m     timeout\u001b[38;5;241m=\u001b[39mtimeout_obj,\n\u001b[0;32m    796\u001b[0m     body\u001b[38;5;241m=\u001b[39mbody,\n\u001b[0;32m    797\u001b[0m     headers\u001b[38;5;241m=\u001b[39mheaders,\n\u001b[0;32m    798\u001b[0m     chunked\u001b[38;5;241m=\u001b[39mchunked,\n\u001b[0;32m    799\u001b[0m     retries\u001b[38;5;241m=\u001b[39mretries,\n\u001b[0;32m    800\u001b[0m     response_conn\u001b[38;5;241m=\u001b[39mresponse_conn,\n\u001b[0;32m    801\u001b[0m     preload_content\u001b[38;5;241m=\u001b[39mpreload_content,\n\u001b[0;32m    802\u001b[0m     decode_content\u001b[38;5;241m=\u001b[39mdecode_content,\n\u001b[0;32m    803\u001b[0m     \u001b[38;5;241m*\u001b[39m\u001b[38;5;241m*\u001b[39mresponse_kw,\n\u001b[0;32m    804\u001b[0m )\n\u001b[0;32m    806\u001b[0m \u001b[38;5;66;03m# Everything went great!\u001b[39;00m\n\u001b[0;32m    807\u001b[0m clean_exit \u001b[38;5;241m=\u001b[39m \u001b[38;5;28;01mTrue\u001b[39;00m\n",
      "File \u001b[1;32m~\\anaconda3\\Lib\\site-packages\\urllib3\\connectionpool.py:537\u001b[0m, in \u001b[0;36mHTTPConnectionPool._make_request\u001b[1;34m(self, conn, method, url, body, headers, retries, timeout, chunked, response_conn, preload_content, decode_content, enforce_content_length)\u001b[0m\n\u001b[0;32m    535\u001b[0m \u001b[38;5;66;03m# Receive the response from the server\u001b[39;00m\n\u001b[0;32m    536\u001b[0m \u001b[38;5;28;01mtry\u001b[39;00m:\n\u001b[1;32m--> 537\u001b[0m     response \u001b[38;5;241m=\u001b[39m conn\u001b[38;5;241m.\u001b[39mgetresponse()\n\u001b[0;32m    538\u001b[0m \u001b[38;5;28;01mexcept\u001b[39;00m (BaseSSLError, \u001b[38;5;167;01mOSError\u001b[39;00m) \u001b[38;5;28;01mas\u001b[39;00m e:\n\u001b[0;32m    539\u001b[0m     \u001b[38;5;28mself\u001b[39m\u001b[38;5;241m.\u001b[39m_raise_timeout(err\u001b[38;5;241m=\u001b[39me, url\u001b[38;5;241m=\u001b[39murl, timeout_value\u001b[38;5;241m=\u001b[39mread_timeout)\n",
      "File \u001b[1;32m~\\anaconda3\\Lib\\site-packages\\urllib3\\connection.py:461\u001b[0m, in \u001b[0;36mHTTPConnection.getresponse\u001b[1;34m(self)\u001b[0m\n\u001b[0;32m    458\u001b[0m \u001b[38;5;28;01mfrom\u001b[39;00m \u001b[38;5;21;01m.\u001b[39;00m\u001b[38;5;21;01mresponse\u001b[39;00m \u001b[38;5;28;01mimport\u001b[39;00m HTTPResponse\n\u001b[0;32m    460\u001b[0m \u001b[38;5;66;03m# Get the response from http.client.HTTPConnection\u001b[39;00m\n\u001b[1;32m--> 461\u001b[0m httplib_response \u001b[38;5;241m=\u001b[39m \u001b[38;5;28msuper\u001b[39m()\u001b[38;5;241m.\u001b[39mgetresponse()\n\u001b[0;32m    463\u001b[0m \u001b[38;5;28;01mtry\u001b[39;00m:\n\u001b[0;32m    464\u001b[0m     assert_header_parsing(httplib_response\u001b[38;5;241m.\u001b[39mmsg)\n",
      "File \u001b[1;32m~\\anaconda3\\Lib\\http\\client.py:1386\u001b[0m, in \u001b[0;36mHTTPConnection.getresponse\u001b[1;34m(self)\u001b[0m\n\u001b[0;32m   1384\u001b[0m \u001b[38;5;28;01mtry\u001b[39;00m:\n\u001b[0;32m   1385\u001b[0m     \u001b[38;5;28;01mtry\u001b[39;00m:\n\u001b[1;32m-> 1386\u001b[0m         response\u001b[38;5;241m.\u001b[39mbegin()\n\u001b[0;32m   1387\u001b[0m     \u001b[38;5;28;01mexcept\u001b[39;00m \u001b[38;5;167;01mConnectionError\u001b[39;00m:\n\u001b[0;32m   1388\u001b[0m         \u001b[38;5;28mself\u001b[39m\u001b[38;5;241m.\u001b[39mclose()\n",
      "File \u001b[1;32m~\\anaconda3\\Lib\\http\\client.py:325\u001b[0m, in \u001b[0;36mHTTPResponse.begin\u001b[1;34m(self)\u001b[0m\n\u001b[0;32m    323\u001b[0m \u001b[38;5;66;03m# read until we get a non-100 response\u001b[39;00m\n\u001b[0;32m    324\u001b[0m \u001b[38;5;28;01mwhile\u001b[39;00m \u001b[38;5;28;01mTrue\u001b[39;00m:\n\u001b[1;32m--> 325\u001b[0m     version, status, reason \u001b[38;5;241m=\u001b[39m \u001b[38;5;28mself\u001b[39m\u001b[38;5;241m.\u001b[39m_read_status()\n\u001b[0;32m    326\u001b[0m     \u001b[38;5;28;01mif\u001b[39;00m status \u001b[38;5;241m!=\u001b[39m CONTINUE:\n\u001b[0;32m    327\u001b[0m         \u001b[38;5;28;01mbreak\u001b[39;00m\n",
      "File \u001b[1;32m~\\anaconda3\\Lib\\http\\client.py:286\u001b[0m, in \u001b[0;36mHTTPResponse._read_status\u001b[1;34m(self)\u001b[0m\n\u001b[0;32m    285\u001b[0m \u001b[38;5;28;01mdef\u001b[39;00m \u001b[38;5;21m_read_status\u001b[39m(\u001b[38;5;28mself\u001b[39m):\n\u001b[1;32m--> 286\u001b[0m     line \u001b[38;5;241m=\u001b[39m \u001b[38;5;28mstr\u001b[39m(\u001b[38;5;28mself\u001b[39m\u001b[38;5;241m.\u001b[39mfp\u001b[38;5;241m.\u001b[39mreadline(_MAXLINE \u001b[38;5;241m+\u001b[39m \u001b[38;5;241m1\u001b[39m), \u001b[38;5;124m\"\u001b[39m\u001b[38;5;124miso-8859-1\u001b[39m\u001b[38;5;124m\"\u001b[39m)\n\u001b[0;32m    287\u001b[0m     \u001b[38;5;28;01mif\u001b[39;00m \u001b[38;5;28mlen\u001b[39m(line) \u001b[38;5;241m>\u001b[39m _MAXLINE:\n\u001b[0;32m    288\u001b[0m         \u001b[38;5;28;01mraise\u001b[39;00m LineTooLong(\u001b[38;5;124m\"\u001b[39m\u001b[38;5;124mstatus line\u001b[39m\u001b[38;5;124m\"\u001b[39m)\n",
      "File \u001b[1;32m~\\anaconda3\\Lib\\socket.py:706\u001b[0m, in \u001b[0;36mSocketIO.readinto\u001b[1;34m(self, b)\u001b[0m\n\u001b[0;32m    704\u001b[0m \u001b[38;5;28;01mwhile\u001b[39;00m \u001b[38;5;28;01mTrue\u001b[39;00m:\n\u001b[0;32m    705\u001b[0m     \u001b[38;5;28;01mtry\u001b[39;00m:\n\u001b[1;32m--> 706\u001b[0m         \u001b[38;5;28;01mreturn\u001b[39;00m \u001b[38;5;28mself\u001b[39m\u001b[38;5;241m.\u001b[39m_sock\u001b[38;5;241m.\u001b[39mrecv_into(b)\n\u001b[0;32m    707\u001b[0m     \u001b[38;5;28;01mexcept\u001b[39;00m timeout:\n\u001b[0;32m    708\u001b[0m         \u001b[38;5;28mself\u001b[39m\u001b[38;5;241m.\u001b[39m_timeout_occurred \u001b[38;5;241m=\u001b[39m \u001b[38;5;28;01mTrue\u001b[39;00m\n",
      "File \u001b[1;32m~\\anaconda3\\Lib\\ssl.py:1315\u001b[0m, in \u001b[0;36mSSLSocket.recv_into\u001b[1;34m(self, buffer, nbytes, flags)\u001b[0m\n\u001b[0;32m   1311\u001b[0m     \u001b[38;5;28;01mif\u001b[39;00m flags \u001b[38;5;241m!=\u001b[39m \u001b[38;5;241m0\u001b[39m:\n\u001b[0;32m   1312\u001b[0m         \u001b[38;5;28;01mraise\u001b[39;00m \u001b[38;5;167;01mValueError\u001b[39;00m(\n\u001b[0;32m   1313\u001b[0m           \u001b[38;5;124m\"\u001b[39m\u001b[38;5;124mnon-zero flags not allowed in calls to recv_into() on \u001b[39m\u001b[38;5;132;01m%s\u001b[39;00m\u001b[38;5;124m\"\u001b[39m \u001b[38;5;241m%\u001b[39m\n\u001b[0;32m   1314\u001b[0m           \u001b[38;5;28mself\u001b[39m\u001b[38;5;241m.\u001b[39m\u001b[38;5;18m__class__\u001b[39m)\n\u001b[1;32m-> 1315\u001b[0m     \u001b[38;5;28;01mreturn\u001b[39;00m \u001b[38;5;28mself\u001b[39m\u001b[38;5;241m.\u001b[39mread(nbytes, buffer)\n\u001b[0;32m   1316\u001b[0m \u001b[38;5;28;01melse\u001b[39;00m:\n\u001b[0;32m   1317\u001b[0m     \u001b[38;5;28;01mreturn\u001b[39;00m \u001b[38;5;28msuper\u001b[39m()\u001b[38;5;241m.\u001b[39mrecv_into(buffer, nbytes, flags)\n",
      "File \u001b[1;32m~\\anaconda3\\Lib\\ssl.py:1167\u001b[0m, in \u001b[0;36mSSLSocket.read\u001b[1;34m(self, len, buffer)\u001b[0m\n\u001b[0;32m   1165\u001b[0m \u001b[38;5;28;01mtry\u001b[39;00m:\n\u001b[0;32m   1166\u001b[0m     \u001b[38;5;28;01mif\u001b[39;00m buffer \u001b[38;5;129;01mis\u001b[39;00m \u001b[38;5;129;01mnot\u001b[39;00m \u001b[38;5;28;01mNone\u001b[39;00m:\n\u001b[1;32m-> 1167\u001b[0m         \u001b[38;5;28;01mreturn\u001b[39;00m \u001b[38;5;28mself\u001b[39m\u001b[38;5;241m.\u001b[39m_sslobj\u001b[38;5;241m.\u001b[39mread(\u001b[38;5;28mlen\u001b[39m, buffer)\n\u001b[0;32m   1168\u001b[0m     \u001b[38;5;28;01melse\u001b[39;00m:\n\u001b[0;32m   1169\u001b[0m         \u001b[38;5;28;01mreturn\u001b[39;00m \u001b[38;5;28mself\u001b[39m\u001b[38;5;241m.\u001b[39m_sslobj\u001b[38;5;241m.\u001b[39mread(\u001b[38;5;28mlen\u001b[39m)\n",
      "\u001b[1;31mKeyboardInterrupt\u001b[0m: "
     ]
    }
   ],
   "source": [
    "#for n_page in range(1, 9958):\n",
    "    #print('\\n',n_page)\n",
    "for n_page in range(1550, 9958):\n",
    "\n",
    "\n",
    "    \n",
    "    if not os.path.isfile(f'./Addic_Raw/page_{n_page}.txt'): \n",
    "        page_ = requests.get(f\"https://www.addic7ed.com/show/{n_page}\")\n",
    "        \n",
    "        soup = BeautifulSoup(page_.content, 'html.parser')\n",
    "\n",
    "        elem_id = soup.find(id='langs')\n",
    "\n",
    "        try:\n",
    "            if 'Spanish' in elem_id.get_text():\n",
    "                class_tabla = soup.find_all(class_='epeven completed')\n",
    "\n",
    "                for i_class in class_tabla:\n",
    "                    #print(i_class)\n",
    "\n",
    "\n",
    "\n",
    "                    if 'Spanish' in str(i_class):\n",
    "                        url_raw_spanish = re.findall(r'href=\"(.*?)\"', str(i_class))\n",
    "                        #print(\"'\".join(url_raw_spanish))\n",
    "\n",
    "                        with open(f'./Addic_Raw/page_{n_page}.txt', 'a', encoding='utf-8') as w_page:\n",
    "                            w_page.write(\" ' \".join(url_raw_spanish))\n",
    "\n",
    "\n",
    "\n",
    "        except Exception:\n",
    "            pass\n",
    "    else:\n",
    "        print(f'./Addic_Raw/page_{n_page}.txt')"
   ]
  },
  {
   "cell_type": "code",
   "execution_count": null,
   "id": "c6c51413-0dfe-40ec-bc74-481d3f5792f6",
   "metadata": {},
   "outputs": [],
   "source": [
    "/serie/Case_Sensitive/2/1/The_Other_Half_Lives_%281%29 ' /updated/5/64528/1/serie/Case_Sensitive/2/2/The_Other_Half_Lives_%282%29 ' /updated/5/64561/3/serie/Case_Sensitive/2/2/The_Other_Half_Lives_%282%29 ' /updated/5/64561/4"
   ]
  },
  {
   "cell_type": "markdown",
   "id": "ea39f7cf-d3d4-4d51-9903-dd9e0c959464",
   "metadata": {},
   "source": [
    "## Extraer los links de descarga de las paginas"
   ]
  },
  {
   "cell_type": "code",
   "execution_count": 11,
   "id": "bd75670a-84bf-4ddd-897d-20414a885984",
   "metadata": {
    "tags": []
   },
   "outputs": [],
   "source": [
    "links_set=set()\n",
    "for page_raw in glob.glob('./Addic_Raw/*'):\n",
    "    with open(page_raw, 'r', encoding='utf-8') as file_raw_page:\n",
    "        file_raw_page = file_raw_page.read()\n",
    "        \n",
    "        # Extraer la url con re\n",
    "        \n",
    "        url_raw = file_raw_page.split(\" ' \")\n",
    "        #print(url_raw)\n",
    "\n",
    "        for url_raw_ in url_raw:\n",
    "            #url_raw_ = re.sub(r'/serie/.*', '', url_raw_)\n",
    "            links_set.add('https://www.addic7ed.com'+url_raw_)\n",
    "            #print(url_raw_)\n",
    "            #print('https://www.addic7ed.com/'+url_raw_)\n",
    "            '''\n",
    "            with open('./Links_Download_Subtitles.txt', 'a', encoding='utf-8') as file_LD:\n",
    "                file_LD.write('https://www.addic7ed.com'+url_raw_+'\\n')\n",
    "            '''\n"
   ]
  },
  {
   "cell_type": "code",
   "execution_count": 12,
   "id": "c8829bff-2bde-4dde-b6c2-a7bce6ddd03c",
   "metadata": {
    "tags": []
   },
   "outputs": [
    {
     "data": {
      "text/plain": [
       "3781"
      ]
     },
     "execution_count": 12,
     "metadata": {},
     "output_type": "execute_result"
    }
   ],
   "source": [
    "len(links_set)"
   ]
  },
  {
   "cell_type": "code",
   "execution_count": 15,
   "id": "bd7a9446-cf81-40f3-8be8-0832b62cae4e",
   "metadata": {
    "tags": []
   },
   "outputs": [
    {
     "name": "stderr",
     "output_type": "stream",
     "text": [
      "\n",
      "KeyboardInterrupt\n",
      "\n"
     ]
    }
   ],
   "source": [
    "for link_download in links_set:\n",
    "    #link_download\n",
    "    name_serie = re.sub(r'.*/serie/', '', link_download)\n",
    "    name_serie = name_serie.replace('/', '-')\n",
    "    \n",
    "    file_exist_ = os.path.exists(f'./Srt_Addic/{name_serie}')\n",
    "    \n",
    "    if not file_exist_:\n",
    "        #requests.get(uri, auth=(user, password))\n",
    "        page_download = requests.get(link_download,auth=('Poiuytrewq1', 'Qwerty1@'))\n",
    "        \n",
    "        with open(f'./Srt_Addic/{name_serie}.txt', 'wb') as file_download:\n",
    "            file_download.write(page_download.content)"
   ]
  },
  {
   "cell_type": "code",
   "execution_count": null,
   "id": "f2b36ecd-cfc4-4183-b808-d9689ebbc471",
   "metadata": {},
   "outputs": [],
   "source": []
  },
  {
   "cell_type": "code",
   "execution_count": 7,
   "id": "2ab0c5db-622c-4cac-bc84-673999953ee2",
   "metadata": {
    "tags": []
   },
   "outputs": [
    {
     "name": "stdout",
     "output_type": "stream",
     "text": [
      "************************************************\n",
      "['/original/24543/20']\n",
      "['/original/24543/20']\n",
      "['/original/24543/20']\n",
      "['/original/24543/20']\n",
      "************************************************\n",
      "['/original/32941/0']\n",
      "['/original/32941/0']\n",
      "************************************************\n",
      "['/original/29234/1']\n",
      "['/original/29234/1']\n",
      "************************************************\n",
      "['/original/119526/11']\n",
      "['/original/119526/11']\n",
      "['/original/119526/11']\n",
      "['/original/119526/11']\n",
      "************************************************\n",
      "['/original/9897/0']\n",
      "['/original/9897/0']\n",
      "************************************************\n",
      "['/original/30150/0']\n",
      "['/original/30150/0']\n",
      "************************************************\n",
      "['/original/30082/0']\n",
      "['/original/30082/0']\n"
     ]
    },
    {
     "name": "stderr",
     "output_type": "stream",
     "text": [
      "\n",
      "KeyboardInterrupt\n",
      "\n"
     ]
    }
   ],
   "source": [
    "for path_file in glob.glob('./Addic_Raw/*'):\n",
    "    with open(path_file, 'r', encoding='utf-8') as file_addic:\n",
    "        file_addic = file_addic.read()\n",
    "    \n",
    "    link_serie = file_addic.split(\"'\")\n",
    "    #print(link_serie[0])\n",
    "    \n",
    "    page_request = requests.get(f'https://www.addic7ed.com/{link_serie[0]}')\n",
    "    \n",
    "    soup = BeautifulSoup(page_request.content, 'html.parser')\n",
    "        \n",
    "    tables = soup.find_all(class_='tabel95')\n",
    "    #print(type(tables))\n",
    "    print('************************************************')\n",
    "    for i in tables:\n",
    "        #print(i,'------\\n------------------------------------------------')\n",
    "        if 'Spanish' in str(i):\n",
    "            class_language = soup.find(class_='face-button')\n",
    "            #print(i,'------\\n------------------------------------------------')\n",
    "\n",
    "            link_download = re.findall(r'href=\"(.*?)\"', str(class_language))\n",
    "            print(link_download)\n",
    "\n",
    "        #if 'Spanish'in str(class_language):\n",
    "            #print(class_language)\n",
    "\n",
    "    "
   ]
  },
  {
   "cell_type": "code",
   "execution_count": null,
   "id": "0bab7bef-9f0a-44ea-941b-5e8032c15c89",
   "metadata": {},
   "outputs": [],
   "source": []
  },
  {
   "cell_type": "code",
   "execution_count": null,
   "id": "5028ec8b-032d-411c-8349-3ae923821228",
   "metadata": {},
   "outputs": [],
   "source": []
  },
  {
   "cell_type": "code",
   "execution_count": null,
   "id": "04070f58-b5f2-4acc-bbc3-120bc1fc0007",
   "metadata": {},
   "outputs": [],
   "source": []
  },
  {
   "cell_type": "code",
   "execution_count": null,
   "id": "8af37ef9-1b2b-4af5-ab7d-ce3e8ee01cee",
   "metadata": {},
   "outputs": [],
   "source": []
  },
  {
   "cell_type": "code",
   "execution_count": null,
   "id": "0da65980-aa99-42cb-ac1d-05539b92574c",
   "metadata": {},
   "outputs": [],
   "source": [
    "## https://www.addic7ed.com "
   ]
  },
  {
   "cell_type": "markdown",
   "id": "c0c74f7e-35a7-44c9-a0dc-df84f7c9b653",
   "metadata": {},
   "source": [
    "#### Funciona / Descarga los links de descarga de las series/peliculas"
   ]
  },
  {
   "cell_type": "code",
   "execution_count": 12,
   "id": "ddae20b8",
   "metadata": {
    "tags": []
   },
   "outputs": [],
   "source": [
    "for n_page in range(1, 1000):\n",
    "    page_ = requests.get(f\"https://www.addic7ed.com/show/{n_page}\")\n",
    "\n",
    "    soup = BeautifulSoup(page_.content, 'html.parser')\n",
    "\n",
    "    elem_id = soup.find(id='langs')\n",
    "\n",
    "    try:\n",
    "        if 'Spanish' in elem_id.get_text():\n",
    "            class_tabla = soup.find_all(class_='epeven completed')\n",
    "            for i_class in class_tabla:\n",
    "                if 'Spanish' in i_class.get_text():\n",
    "                    \n",
    "                    with open(f'./Addic_Raw/page_{n_page}.txt', 'w', encoding='utf-8') as w_page:\n",
    "                        w_page.write(str(i_class))\n",
    "\n",
    "    except Exception:\n",
    "        pass\n",
    "        "
   ]
  },
  {
   "cell_type": "code",
   "execution_count": 47,
   "id": "f1ae8388-d039-4389-ad98-896929315ac9",
   "metadata": {
    "tags": []
   },
   "outputs": [
    {
     "name": "stdout",
     "output_type": "stream",
     "text": [
      "83 78\n",
      "\n",
      "Hola\n",
      "\n",
      "\n",
      "UN NEGOCIO VIRTUOSO\n",
      "\n",
      "\n"
     ]
    }
   ],
   "source": []
  },
  {
   "cell_type": "code",
   "execution_count": 43,
   "id": "dbb857fe-6739-4f0e-849c-216fdda24a2f",
   "metadata": {
    "tags": []
   },
   "outputs": [
    {
     "name": "stdout",
     "output_type": "stream",
     "text": [
      "\n",
      "[Laios] Vuelve, Falin! Te necesitamos!\n",
      "\n",
      "\n",
      "[Falin se re]\n",
      "\n",
      "\n",
      "[Tema musical de cierre] Subttulos de \"noesasuntotuyo\"\n"
     ]
    }
   ],
   "source": [
    "txt='''\n",
    "[Laios] Vuelve, Falin! Te necesitamos!\n",
    "\n",
    "\n",
    "[Falin se re]\n",
    "\n",
    "\n",
    "[Tema musical de cierre] Subttulos de \"noesasuntotuyo\"\n",
    "\n",
    "\n",
    "Anuncie su producto o marca aqu\n",
    "contctenos www.OpenSubtitles.org hoy \n",
    "\n",
    "'''\n",
    "len_txt = len(txt)\n",
    "\n",
    "\n",
    "print(txt[:len_txt-74])"
   ]
  },
  {
   "cell_type": "code",
   "execution_count": null,
   "id": "8e6b5cfe-b870-4bb6-842d-610aab42a015",
   "metadata": {},
   "outputs": [],
   "source": []
  },
  {
   "cell_type": "code",
   "execution_count": null,
   "id": "ca4d34b2-0d47-4dc5-8338-8d8eaae053b4",
   "metadata": {},
   "outputs": [],
   "source": []
  },
  {
   "cell_type": "markdown",
   "id": "e62687c3-499a-44b7-a2f6-ae80be5c48cf",
   "metadata": {
    "jp-MarkdownHeadingCollapsed": true,
    "tags": []
   },
   "source": [
    "# Podnapisi"
   ]
  },
  {
   "cell_type": "code",
   "execution_count": 8,
   "id": "7dcd3372-595e-48f3-a063-9711a2a5abc7",
   "metadata": {
    "tags": []
   },
   "outputs": [
    {
     "ename": "SyntaxError",
     "evalue": "invalid decimal literal (2418017880.py, line 1)",
     "output_type": "error",
     "traceback": [
      "\u001b[1;36m  Cell \u001b[1;32mIn[8], line 1\u001b[1;36m\u001b[0m\n\u001b[1;33m    https://www.podnapisi.net/es/subtitles/search/?page=2&language=%21es\u001b[0m\n\u001b[1;37m                                                                     ^\u001b[0m\n\u001b[1;31mSyntaxError\u001b[0m\u001b[1;31m:\u001b[0m invalid decimal literal\n"
     ]
    }
   ],
   "source": [
    "https://www.podnapisi.net/es/subtitles/search/?page=2&language=%21es\n",
    "\n",
    "\n",
    "href=\"/es/subtitles/es-cosas-imposibles-2021/RiFI/download\""
   ]
  },
  {
   "cell_type": "code",
   "execution_count": 2,
   "id": "e707e4d2-b9ca-4599-a376-8c3e5f5c9481",
   "metadata": {
    "jupyter": {
     "source_hidden": true
    },
    "tags": []
   },
   "outputs": [
    {
     "ename": "NameError",
     "evalue": "name 'soup' is not defined",
     "output_type": "error",
     "traceback": [
      "\u001b[1;31m---------------------------------------------------------------------------\u001b[0m",
      "\u001b[1;31mNameError\u001b[0m                                 Traceback (most recent call last)",
      "Cell \u001b[1;32mIn[2], line 7\u001b[0m\n\u001b[0;32m      2\u001b[0m pages_raw_my \u001b[38;5;241m=\u001b[39m requests\u001b[38;5;241m.\u001b[39mget(\u001b[38;5;124m\"\u001b[39m\u001b[38;5;124mhttps://my-subs.co/list_movies-z\u001b[39m\u001b[38;5;124m\"\u001b[39m)\n\u001b[0;32m      4\u001b[0m soup_my_subs \u001b[38;5;241m=\u001b[39m BeautifulSoup(pages_raw_my\u001b[38;5;241m.\u001b[39mcontent, \u001b[38;5;124m'\u001b[39m\u001b[38;5;124mhtml.parser\u001b[39m\u001b[38;5;124m'\u001b[39m)\n\u001b[1;32m----> 7\u001b[0m find_table \u001b[38;5;241m=\u001b[39m \u001b[43msoup\u001b[49m\u001b[38;5;241m.\u001b[39mfind(\u001b[38;5;124m'\u001b[39m\u001b[38;5;124mp\u001b[39m\u001b[38;5;124m'\u001b[39m, class_\u001b[38;5;241m=\u001b[39m\u001b[38;5;124m'\u001b[39m\u001b[38;5;124mtable table-striped\u001b[39m\u001b[38;5;124m'\u001b[39m)\n\u001b[0;32m      9\u001b[0m \u001b[38;5;28mprint\u001b[39m(find_table\u001b[38;5;241m.\u001b[39mtext)\n\u001b[0;32m     10\u001b[0m \u001b[38;5;124;03m'''\u001b[39;00m\n\u001b[0;32m     11\u001b[0m \u001b[38;5;124;03mfor class_pull in find_class_pull:\u001b[39;00m\n\u001b[0;32m     12\u001b[0m \u001b[38;5;124;03m    get_href = re.findall(r'href=\"/es/subtitles/.*/download\"', str(class_pull))\u001b[39;00m\n\u001b[1;32m   (...)\u001b[0m\n\u001b[0;32m     20\u001b[0m \u001b[38;5;124;03m    file_raw.write(pages_raw.text)\u001b[39;00m\n\u001b[0;32m     21\u001b[0m \u001b[38;5;124;03m'''\u001b[39;00m\n",
      "\u001b[1;31mNameError\u001b[0m: name 'soup' is not defined"
     ]
    }
   ],
   "source": [
    "for n_page_podna in range(1, 16):\n",
    "    pages_raw = requests.get(f\"https://www.podnapisi.net/es/subtitles/search/?page={n_page_podna}&language=%21es\")\n",
    "    \n",
    "    #soup_podna = BeautifulSoup(pages_raw.content, 'html.parser')\n",
    "    \n",
    "    \n",
    "    #find_class_pull = soup_podna.find_all('a')\n",
    "    \n",
    "    #print(find_class_pull)\n",
    "    '''\n",
    "    for class_pull in find_class_pull:\n",
    "        get_href = re.findall(r'href=\"/es/subtitles/.*/download\"', str(class_pull))\n",
    "        print(get_href)\n",
    "        #print(class_pull)\n",
    "    '''\n",
    "    \n",
    "    \n",
    "    \n",
    "    with open(f'./Podnapisi/Pagina_{n_page_podna}.txt', 'w',encoding='utf-8') as file_raw:\n",
    "        file_raw.write(pages_raw.text)\n",
    "    "
   ]
  },
  {
   "cell_type": "code",
   "execution_count": null,
   "id": "971e1ddc-da65-4b45-9255-91d30c8ffa23",
   "metadata": {},
   "outputs": [],
   "source": []
  },
  {
   "cell_type": "code",
   "execution_count": null,
   "id": "f559e7ed-90b5-4144-9f08-3a0827f50b4a",
   "metadata": {},
   "outputs": [],
   "source": []
  },
  {
   "cell_type": "code",
   "execution_count": null,
   "id": "7fc98942-429d-474b-b544-814142cd67c1",
   "metadata": {},
   "outputs": [],
   "source": []
  },
  {
   "cell_type": "markdown",
   "id": "5af235b0-ab1d-4ca5-aa1d-4805ce61f3d6",
   "metadata": {},
   "source": [
    "# my-subs.co"
   ]
  },
  {
   "cell_type": "code",
   "execution_count": 21,
   "id": "377dceb0-d498-4c30-98f5-cce0c763d463",
   "metadata": {
    "collapsed": true,
    "jupyter": {
     "outputs_hidden": true
    }
   },
   "outputs": [
    {
     "name": "stdout",
     "output_type": "stream",
     "text": [
      "/film-versions-19453-z-subtitles\n",
      "/film-versions-30823-z-subtitles\n",
      "/film-versions-35963-z-for-zachariah-subtitles\n",
      "/film-versions-24861-z-storm-subtitles\n",
      "/film-versions-30679-z-o-m-b-i-e-s-subtitles\n",
      "/film-versions-18354-z-o-m-b-i-e-s-2-subtitles\n",
      "/film-versions-36394-z-p-g-subtitles\n",
      "/film-versions-2485-za-duzy-na-bajki-subtitles\n",
      "/film-versions-45978-zabou-subtitles\n",
      "/film-versions-42573-zabriskie-point-subtitles\n",
      "/film-versions-35651-zack-and-miri-make-a-porno-subtitles\n",
      "/film-versions-11832-zack-snyders-justice-league-subtitles\n",
      "/film-versions-45220-zadra-subtitles\n",
      "/film-versions-41662-zagros-subtitles\n",
      "/film-versions-40031-zahrada-subtitles\n",
      "/film-versions-49833-zahradnikuv-rok-subtitles\n",
      "/film-versions-50183-zakliata-jaskyna-subtitles\n",
      "/film-versions-49116-zaklyate-shyopot-vedm-subtitles\n",
      "/film-versions-29102-zama-subtitles\n",
      "/film-versions-40203-zana-subtitles\n",
      "/film-versions-47912-zandalee-subtitles\n",
      "/film-versions-20864-zandys-bride-subtitles\n",
      "/film-versions-1542-zanox-subtitles\n",
      "/film-versions-16396-zappa-subtitles\n",
      "/film-versions-13810-zapped-subtitles\n",
      "/film-versions-27095-zapped-subtitles\n",
      "/film-versions-23388-zarafa-subtitles\n",
      "/film-versions-11861-zarak-subtitles\n",
      "/film-versions-26759-zardoz-subtitles\n",
      "/film-versions-35028-zathura-a-space-adventure-subtitles\n",
      "/film-versions-12058-zatoichi-subtitles\n",
      "/film-versions-41134-zatoichi-and-the-chess-expert-subtitles\n",
      "/film-versions-41099-zatoichi-and-the-doomed-man-subtitles\n",
      "/film-versions-41068-zatoichi-and-the-one-armed-swordsman-subtitles\n",
      "/film-versions-41125-zatoichi-challenged-subtitles\n",
      "/film-versions-41147-zatoichis-vengeance-subtitles\n",
      "/film-versions-725-zaytoun-subtitles\n",
      "/film-versions-26951-zaza-subtitles\n",
      "/film-versions-7710-zazie-dans-le-metro-subtitles\n",
      "/film-versions-11447-zebra-girl-subtitles\n",
      "/film-versions-898-zebrahead-subtitles\n",
      "/film-versions-17667-zebraman-subtitles\n",
      "/film-versions-39816-zee-van-tijd-subtitles\n",
      "/film-versions-46113-zeevonk-subtitles\n",
      "/film-versions-36482-zeher-subtitles\n",
      "/film-versions-40460-zeitgeist-addendum-subtitles\n",
      "/film-versions-40274-zeitgeist-moving-forward-subtitles\n",
      "/film-versions-23790-zelary-subtitles\n",
      "/film-versions-31872-zelig-subtitles\n",
      "/film-versions-49950-zelly-and-me-subtitles\n",
      "/film-versions-16928-zen-subtitles\n",
      "/film-versions-46272-zen-for-nothing-subtitles\n",
      "/film-versions-36217-zenith-subtitles\n",
      "/film-versions-5646-zenobia-subtitles\n",
      "/film-versions-11608-zentai-subtitles\n",
      "/film-versions-6455-zephyr-springs-subtitles\n",
      "/film-versions-44039-zeppos-het-mercatorspoor-subtitles\n",
      "/film-versions-21341-zero-subtitles\n",
      "/film-versions-3095-zero-avenue-subtitles\n",
      "/film-versions-3159-zero-contact-subtitles\n",
      "/film-versions-35078-zero-dark-thirty-subtitles\n",
      "/film-versions-31696-zero-days-subtitles\n",
      "/film-versions-17470-zero-effect-subtitles\n",
      "/film-versions-4257-zero-focus-subtitles\n",
      "/film-versions-24024-zero-for-conduct-subtitles\n",
      "/film-versions-872-zero-fucks-given-subtitles\n",
      "/film-versions-36856-zero-hour-subtitles\n",
      "/film-versions-43408-zero-motivation-subtitles\n",
      "/film-versions-47901-zero-point-subtitles\n",
      "/film-versions-9454-zero-point-five-love-subtitles\n",
      "/film-versions-8091-zero-to-hero-subtitles\n",
      "/film-versions-40276-zero-tolerance-subtitles\n",
      "/film-versions-48899-zerograd-subtitles\n",
      "/film-versions-7179-zeros-and-ones-subtitles\n",
      "/film-versions-24586-zeroville-subtitles\n",
      "/film-versions-10224-zeta-subtitles\n",
      "/film-versions-19665-zhang-sanfeng-2-tai-chi-master-subtitles\n",
      "/film-versions-46380-zhazhda-subtitles\n",
      "/film-versions-46923-zhongkui-snow-girl-and-the-dark-crystal-subtitles\n",
      "/film-versions-43983-zhui-hun-biao-subtitles\n",
      "/film-versions-51736-zhuo-dao-ren-subtitles\n",
      "/film-versions-46068-ziarno-prawdy-subtitles\n",
      "/film-versions-12661-zidane-adams-the-black-blogger-subtitles\n",
      "/film-versions-11017-ziegfeld-follies-subtitles\n",
      "/film-versions-40709-zift-subtitles\n",
      "/film-versions-19712-zig-zag-subtitles\n",
      "/film-versions-40153-zigeunerweisen-subtitles\n",
      "/film-versions-26078-zilla-and-zoe-subtitles\n",
      "/film-versions-44233-zillion-subtitles\n",
      "/film-versions-42313-zimnicea-subtitles\n",
      "/film-versions-17418-zindagi-kitni-haseen-hay-subtitles\n",
      "/film-versions-27480-zindagi-na-milegi-dobara-subtitles\n",
      "/film-versions-12059-zip-and-zap-and-the-captains-island-subtitles\n",
      "/film-versions-25336-zipper-subtitles\n",
      "/film-versions-8465-zipper-coney-islands-last-wild-ride-subtitles\n",
      "/film-versions-46365-zivi-i-mrtvi-subtitles\n",
      "/film-versions-48630-zizek-subtitles\n",
      "/film-versions-42724-zmd-zombies-of-mass-destruction-subtitles\n",
      "/film-versions-14522-zo-no-senaka-subtitles\n",
      "/film-versions-5329-zodiac-subtitles\n",
      "/film-versions-26559-zodiac-killers-subtitles\n",
      "/film-versions-33557-zodiac-signs-of-the-apocalypse-subtitles\n",
      "/film-versions-28546-zoe-subtitles\n",
      "/film-versions-13273-zoe-and-the-astronaut-subtitles\n",
      "/film-versions-20777-zoey-subtitles\n",
      "/film-versions-40515-zoey-102-subtitles\n",
      "/film-versions-37898-zoeys-extraordinary-christmas-subtitles\n",
      "/film-versions-22597-zog-subtitles\n",
      "/film-versions-5463-zog-and-the-flying-doctors-subtitles\n",
      "/film-versions-4080-zokki-subtitles\n",
      "/film-versions-18618-zokkomon-subtitles\n",
      "/film-versions-9563-zola-subtitles\n",
      "/film-versions-45682-zolotye-roga-subtitles\n",
      "/film-versions-40727-zom-100-bucket-list-of-the-dead-subtitles\n",
      "/film-versions-14925-zombacter-center-city-contagion-subtitles\n",
      "/film-versions-1718-zombae-subtitles\n",
      "/film-versions-33774-zombeavers-subtitles\n",
      "/film-versions-19264-zombi-child-subtitles\n",
      "/film-versions-28085-zombie-subtitles\n",
      "/film-versions-29494-zombie-3-subtitles\n",
      "/film-versions-50673-zombie-5-killing-birds-subtitles\n",
      "/film-versions-42608-zombie-apocalypse-subtitles\n",
      "/film-versions-20556-zombie-ass-toilet-of-the-dead-subtitles\n",
      "/film-versions-17192-zombie-bro-subtitles\n",
      "/film-versions-27886-zombie-diaries-2-subtitles\n",
      "/film-versions-42903-zombie-fight-club-subtitles\n",
      "/film-versions-32285-zombie-high-subtitles\n",
      "/film-versions-2896-zombie-holocaust-subtitles\n",
      "/film-versions-34659-zombie-hunter-subtitles\n",
      "/film-versions-39210-zombie-island-massacre-subtitles\n",
      "/film-versions-50885-zombie-ja-kummitusjuna-subtitles\n",
      "/film-versions-51598-zombie-lake-subtitles\n",
      "/film-versions-34800-zombie-massacre-subtitles\n",
      "/film-versions-34316-zombie-night-subtitles\n",
      "/film-versions-43519-zombie-nightmare-subtitles\n",
      "/film-versions-33324-zombie-resurrection-subtitles\n",
      "/film-versions-17811-zombie-strippers-subtitles\n",
      "/film-versions-19442-zombie-tidal-wave-subtitles\n",
      "/film-versions-42742-zombie-town-subtitles\n",
      "/film-versions-39192-zombie-undead-subtitles\n",
      "/film-versions-11580-zombie-wars-subtitles\n",
      "/film-versions-41434-zombie-wars-subtitles\n",
      "/film-versions-12311-zombie-with-a-shotgun-subtitles\n",
      "/film-versions-3322-zombieland-subtitles\n",
      "/film-versions-24010-zombieland-double-tap-subtitles\n",
      "/film-versions-37125-zombiepura-subtitles\n",
      "/film-versions-5751-zombies-subtitles\n",
      "/film-versions-20298-zomblies-subtitles\n",
      "/film-versions-3756-zomblogalypse-subtitles\n",
      "/film-versions-52039-zondebokken-subtitles\n",
      "/film-versions-8078-zone-414-subtitles\n",
      "/film-versions-36188-zone-drifter-subtitles\n",
      "/film-versions-42723-zone-of-the-dead-subtitles\n",
      "/film-versions-6279-zone-troopers-subtitles\n",
      "/film-versions-19702-zoo-subtitles\n",
      "/film-versions-24086-zoo-subtitles\n",
      "/film-versions-28871-zoo-wars-subtitles\n",
      "/film-versions-25558-zoo-wars-2-subtitles\n",
      "/film-versions-11282-zooey-subtitles\n",
      "/film-versions-6903-zooey-and-adam-subtitles\n",
      "/film-versions-4250-zookeeper-subtitles\n",
      "/film-versions-32561-zoolander-subtitles\n",
      "/film-versions-32182-zoolander-2-subtitles\n",
      "/film-versions-21221-zoom-subtitles\n",
      "/film-versions-25592-zoom-subtitles\n",
      "/film-versions-5547-zoom-up-rape-site-subtitles\n",
      "/film-versions-31674-zoombies-subtitles\n",
      "/film-versions-26296-zoombies-2-subtitles\n",
      "/film-versions-23270-zoot-suit-subtitles\n",
      "/film-versions-32027-zootopia-subtitles\n",
      "/film-versions-38583-zoran-my-nephew-the-idiot-subtitles\n",
      "/film-versions-31081-zorba-the-greek-subtitles\n",
      "/film-versions-40855-zorro-subtitles\n",
      "/film-versions-51721-zorro-the-gay-blade-subtitles\n",
      "/film-versions-27827-zotz-subtitles\n",
      "/film-versions-8733-zozo-subtitles\n",
      "/film-versions-21334-zu-warriors-from-the-magic-mountain-subtitles\n",
      "/film-versions-38142-zui-hou-zhen-xiang-subtitles\n",
      "/film-versions-7810-zukan-ni-nottenai-mushi-subtitles\n",
      "/film-versions-26503-zulu-subtitles\n",
      "/film-versions-34352-zulu-subtitles\n",
      "/film-versions-15509-zulu-dawn-subtitles\n",
      "/film-versions-5865-zupa-nic-subtitles\n",
      "/film-versions-51353-zurich-subtitles\n",
      "/film-versions-39800-zustrich-odnoklasnykiv-subtitles\n",
      "/film-versions-7290-zuzel-subtitles\n",
      "/film-versions-23460-zz-top-that-little-ol-band-from-texas-subtitles\n"
     ]
    },
    {
     "data": {
      "text/plain": [
       "'\\nfor class_pull in find_class_pull:\\n    get_href = re.findall(r\\'href=\"/es/subtitles/.*/download\"\\', str(class_pull))\\n    print(get_href)\\n    #print(class_pull)\\n\\n\\n\\n\\nwith open(f\\'./Podnapisi/Pagina_{n_page_podna}.txt\\', \\'w\\',encoding=\\'utf-8\\') as file_raw:\\n    file_raw.write(pages_raw.text)\\n'"
      ]
     },
     "execution_count": 21,
     "metadata": {},
     "output_type": "execute_result"
    }
   ],
   "source": [
    "#for n_page_podna in range(1, 16):\n",
    "pages_raw_my = requests.get(\"https://my-subs.co/list_movies-z\")\n",
    "\n",
    "soup_my_subs = BeautifulSoup(pages_raw_my.content, 'html.parser')\n",
    "\n",
    "\n",
    "find_table = soup_my_subs.find('table', class_='table table-striped')\n",
    "\n",
    "\n",
    "find_href = find_table.find_all('a', href=True)\n",
    "\n",
    "for i in find_href:\n",
    "    href_clean = i['href']\n",
    "    print(href_clean)\n",
    "#print(find_href)\n"
   ]
  },
  {
   "cell_type": "code",
   "execution_count": 12,
   "id": "3cd8ce40-a397-42cb-afcf-178d84be8bcd",
   "metadata": {},
   "outputs": [
    {
     "name": "stdout",
     "output_type": "stream",
     "text": [
      "https://my-subs.co/download/film-464338.srt\n"
     ]
    }
   ],
   "source": [
    "page_subtitles_ = requests.get('https://my-subs.co/film-versions-35963-z-for-zachariah-subtitles')\n",
    "\n",
    "soup_my= BeautifulSoup(page_subtitles_.content, 'html.parser')\n",
    "\n",
    "\n",
    "find_language = soup_my.find_all('ul', class_='list-group')\n",
    "\n",
    "for spanish in find_language:\n",
    "    if 'Spanish' in str(spanish):\n",
    "        #print(spanish)\n",
    "        link = re.findall(r'href=\"(.*?)\"',str(spanish))\n",
    "        #print(link)\n",
    "        subtitles = requests.get('https://my-subs.co'+link[0])\n",
    "        #time.sleep(4)\n",
    "        soup_subtitles= BeautifulSoup(subtitles.content, 'html.parser')\n",
    "        find_button = soup_subtitles.find('div', id='content')\n",
    "\n",
    "        find_href_download = re.findall(r'href=\"(.*?)\"',str(find_button))\n",
    "\n",
    "        #print(find_href_download)\n",
    "        content_subtitles = requests.get('https://my-subs.co'+find_href_download[0])\n",
    "        print('https://my-subs.co'+find_href_download[0])\n",
    "        \n",
    "        with open('./mysub/Subtitles.txt', 'wb') as file:\n",
    "            file.write(content_subtitles.content)\n",
    "\n",
    "    \n",
    "        \n",
    "\n",
    "#print(page_subtitles_.content)"
   ]
  },
  {
   "cell_type": "code",
   "execution_count": null,
   "id": "aaab1a58-cee6-4d32-9ffd-49a967d3ea75",
   "metadata": {},
   "outputs": [],
   "source": []
  }
 ],
 "metadata": {
  "kernelspec": {
   "display_name": "Python 3 (ipykernel)",
   "language": "python",
   "name": "python3"
  },
  "language_info": {
   "codemirror_mode": {
    "name": "ipython",
    "version": 3
   },
   "file_extension": ".py",
   "mimetype": "text/x-python",
   "name": "python",
   "nbconvert_exporter": "python",
   "pygments_lexer": "ipython3",
   "version": "3.12.7"
  }
 },
 "nbformat": 4,
 "nbformat_minor": 5
}
